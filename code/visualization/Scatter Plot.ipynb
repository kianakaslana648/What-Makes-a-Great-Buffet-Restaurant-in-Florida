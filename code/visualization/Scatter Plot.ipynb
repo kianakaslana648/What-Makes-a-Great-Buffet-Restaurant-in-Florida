{
 "cells": [
  {
   "cell_type": "code",
   "execution_count": 73,
   "id": "8f543535",
   "metadata": {},
   "outputs": [],
   "source": [
    "import numpy as np\n",
    "import pandas as pd\n",
    "import matplotlib.pyplot as plt"
   ]
  },
  {
   "cell_type": "code",
   "execution_count": 74,
   "id": "c057866a",
   "metadata": {},
   "outputs": [
    {
     "data": {
      "text/html": [
       "<div>\n",
       "<style scoped>\n",
       "    .dataframe tbody tr th:only-of-type {\n",
       "        vertical-align: middle;\n",
       "    }\n",
       "\n",
       "    .dataframe tbody tr th {\n",
       "        vertical-align: top;\n",
       "    }\n",
       "\n",
       "    .dataframe thead th {\n",
       "        text-align: right;\n",
       "    }\n",
       "</style>\n",
       "<table border=\"1\" class=\"dataframe\">\n",
       "  <thead>\n",
       "    <tr style=\"text-align: right;\">\n",
       "      <th></th>\n",
       "      <th>business_id</th>\n",
       "      <th>name</th>\n",
       "      <th>address</th>\n",
       "      <th>city</th>\n",
       "      <th>state</th>\n",
       "      <th>postal_code</th>\n",
       "      <th>latitude</th>\n",
       "      <th>longitude</th>\n",
       "      <th>stars</th>\n",
       "      <th>review_count</th>\n",
       "      <th>...</th>\n",
       "      <th>user_id</th>\n",
       "      <th>review_stars</th>\n",
       "      <th>useful</th>\n",
       "      <th>funny</th>\n",
       "      <th>cool</th>\n",
       "      <th>text</th>\n",
       "      <th>date</th>\n",
       "      <th>aspect</th>\n",
       "      <th>description</th>\n",
       "      <th>polarity</th>\n",
       "    </tr>\n",
       "  </thead>\n",
       "  <tbody>\n",
       "    <tr>\n",
       "      <th>0</th>\n",
       "      <td>gsicNDwrLH4WGeWMDcJv6w</td>\n",
       "      <td>Ahmed Indian Restaurant</td>\n",
       "      <td>11301 S Orange Blossom Trl, Ste 104</td>\n",
       "      <td>Orlando</td>\n",
       "      <td>FL</td>\n",
       "      <td>32837</td>\n",
       "      <td>28.401633</td>\n",
       "      <td>-81.404314</td>\n",
       "      <td>3.5</td>\n",
       "      <td>146</td>\n",
       "      <td>...</td>\n",
       "      <td>qwfVavvEHKTR015tTvDsMQ</td>\n",
       "      <td>5.0</td>\n",
       "      <td>0</td>\n",
       "      <td>0</td>\n",
       "      <td>0</td>\n",
       "      <td>We have been to Ahmed indian restaurant and it...</td>\n",
       "      <td>2016-03-07 01:18:14</td>\n",
       "      <td>restaurant</td>\n",
       "      <td>indian</td>\n",
       "      <td>0.0</td>\n",
       "    </tr>\n",
       "    <tr>\n",
       "      <th>1</th>\n",
       "      <td>gsicNDwrLH4WGeWMDcJv6w</td>\n",
       "      <td>Ahmed Indian Restaurant</td>\n",
       "      <td>11301 S Orange Blossom Trl, Ste 104</td>\n",
       "      <td>Orlando</td>\n",
       "      <td>FL</td>\n",
       "      <td>32837</td>\n",
       "      <td>28.401633</td>\n",
       "      <td>-81.404314</td>\n",
       "      <td>3.5</td>\n",
       "      <td>146</td>\n",
       "      <td>...</td>\n",
       "      <td>qwfVavvEHKTR015tTvDsMQ</td>\n",
       "      <td>5.0</td>\n",
       "      <td>0</td>\n",
       "      <td>0</td>\n",
       "      <td>0</td>\n",
       "      <td>We have been to Ahmed indian restaurant and it...</td>\n",
       "      <td>2016-03-07 01:18:14</td>\n",
       "      <td>experiences</td>\n",
       "      <td>great</td>\n",
       "      <td>0.8</td>\n",
       "    </tr>\n",
       "    <tr>\n",
       "      <th>2</th>\n",
       "      <td>gsicNDwrLH4WGeWMDcJv6w</td>\n",
       "      <td>Ahmed Indian Restaurant</td>\n",
       "      <td>11301 S Orange Blossom Trl, Ste 104</td>\n",
       "      <td>Orlando</td>\n",
       "      <td>FL</td>\n",
       "      <td>32837</td>\n",
       "      <td>28.401633</td>\n",
       "      <td>-81.404314</td>\n",
       "      <td>3.5</td>\n",
       "      <td>146</td>\n",
       "      <td>...</td>\n",
       "      <td>i6LKe_wPR2DV0ZGGM42ucQ</td>\n",
       "      <td>3.0</td>\n",
       "      <td>0</td>\n",
       "      <td>0</td>\n",
       "      <td>0</td>\n",
       "      <td>This was my first at an Indian restrestaurant,...</td>\n",
       "      <td>2014-10-11 19:21:16</td>\n",
       "      <td>restrestaurant</td>\n",
       "      <td>indian</td>\n",
       "      <td>0.0</td>\n",
       "    </tr>\n",
       "  </tbody>\n",
       "</table>\n",
       "<p>3 rows × 25 columns</p>\n",
       "</div>"
      ],
      "text/plain": [
       "              business_id                     name  \\\n",
       "0  gsicNDwrLH4WGeWMDcJv6w  Ahmed Indian Restaurant   \n",
       "1  gsicNDwrLH4WGeWMDcJv6w  Ahmed Indian Restaurant   \n",
       "2  gsicNDwrLH4WGeWMDcJv6w  Ahmed Indian Restaurant   \n",
       "\n",
       "                               address     city state  postal_code   latitude  \\\n",
       "0  11301 S Orange Blossom Trl, Ste 104  Orlando    FL        32837  28.401633   \n",
       "1  11301 S Orange Blossom Trl, Ste 104  Orlando    FL        32837  28.401633   \n",
       "2  11301 S Orange Blossom Trl, Ste 104  Orlando    FL        32837  28.401633   \n",
       "\n",
       "   longitude  stars  review_count  ...                 user_id review_stars  \\\n",
       "0 -81.404314    3.5           146  ...  qwfVavvEHKTR015tTvDsMQ          5.0   \n",
       "1 -81.404314    3.5           146  ...  qwfVavvEHKTR015tTvDsMQ          5.0   \n",
       "2 -81.404314    3.5           146  ...  i6LKe_wPR2DV0ZGGM42ucQ          3.0   \n",
       "\n",
       "  useful funny cool                                               text  \\\n",
       "0      0     0    0  We have been to Ahmed indian restaurant and it...   \n",
       "1      0     0    0  We have been to Ahmed indian restaurant and it...   \n",
       "2      0     0    0  This was my first at an Indian restrestaurant,...   \n",
       "\n",
       "                  date          aspect  description  polarity  \n",
       "0  2016-03-07 01:18:14      restaurant       indian       0.0  \n",
       "1  2016-03-07 01:18:14     experiences        great       0.8  \n",
       "2  2014-10-11 19:21:16  restrestaurant       indian       0.0  \n",
       "\n",
       "[3 rows x 25 columns]"
      ]
     },
     "execution_count": 74,
     "metadata": {},
     "output_type": "execute_result"
    }
   ],
   "source": [
    "rest = pd.read_csv(\"../buffet_restaurants.csv\")\n",
    "reviews = pd.read_csv(\"../buffet_reviews.csv\")\n",
    "reviews = reviews.rename(columns={\"stars\":\"review_stars\"})\n",
    "data = rest.merge(reviews, on=\"business_id\")\n",
    "aspect = pd.read_csv(\"../buffet_review_aspect.csv\")\n",
    "data = data.merge(aspect, on=[\"business_id\",\"review_id\"])\n",
    "data[\"aspect\"] = data[\"aspect\"].str.lower()\n",
    "data[\"description\"] = data[\"description\"].str.lower()\n",
    "data.loc[data[\"description\"]==\"inferior\", \"polarity\"] = -0.5\n",
    "data = data[data[\"review_count\"] > 6]\n",
    "data.head(3)"
   ]
  },
  {
   "cell_type": "code",
   "execution_count": 75,
   "id": "6d8d2295",
   "metadata": {},
   "outputs": [
    {
     "data": {
      "text/plain": [
       "Index(['business_id', 'name', 'address', 'city', 'state', 'postal_code',\n",
       "       'latitude', 'longitude', 'stars', 'review_count', 'is_open',\n",
       "       'attributes', 'categories', 'hours', 'review_id', 'user_id',\n",
       "       'review_stars', 'useful', 'funny', 'cool', 'text', 'date', 'aspect',\n",
       "       'description', 'polarity'],\n",
       "      dtype='object')"
      ]
     },
     "execution_count": 75,
     "metadata": {},
     "output_type": "execute_result"
    }
   ],
   "source": [
    "data.columns"
   ]
  },
  {
   "cell_type": "code",
   "execution_count": 76,
   "id": "d6f2ed88",
   "metadata": {},
   "outputs": [
    {
     "name": "stdout",
     "output_type": "stream",
     "text": [
      "85183\n",
      "79\n"
     ]
    }
   ],
   "source": [
    "print(len(data))\n",
    "print(len(set(data[\"business_id\"])))"
   ]
  },
  {
   "cell_type": "code",
   "execution_count": 77,
   "id": "c1efb4fb",
   "metadata": {},
   "outputs": [
    {
     "data": {
      "text/html": [
       "<div>\n",
       "<style scoped>\n",
       "    .dataframe tbody tr th:only-of-type {\n",
       "        vertical-align: middle;\n",
       "    }\n",
       "\n",
       "    .dataframe tbody tr th {\n",
       "        vertical-align: top;\n",
       "    }\n",
       "\n",
       "    .dataframe thead th {\n",
       "        text-align: right;\n",
       "    }\n",
       "</style>\n",
       "<table border=\"1\" class=\"dataframe\">\n",
       "  <thead>\n",
       "    <tr style=\"text-align: right;\">\n",
       "      <th></th>\n",
       "      <th>business_id</th>\n",
       "      <th>name</th>\n",
       "      <th>food_score</th>\n",
       "    </tr>\n",
       "  </thead>\n",
       "  <tbody>\n",
       "    <tr>\n",
       "      <th>0</th>\n",
       "      <td>1IX3hFAxdqKwuyt9oElDpw</td>\n",
       "      <td>Moghul Indian Cuisine</td>\n",
       "      <td>0.211885</td>\n",
       "    </tr>\n",
       "    <tr>\n",
       "      <th>1</th>\n",
       "      <td>1pzN6Qp10vGqfRX66d4q5w</td>\n",
       "      <td>Chef Mickey's</td>\n",
       "      <td>0.228596</td>\n",
       "    </tr>\n",
       "    <tr>\n",
       "      <th>2</th>\n",
       "      <td>25iE1snCllaN2fCKodDyuQ</td>\n",
       "      <td>Ichiban Buffet</td>\n",
       "      <td>-0.061667</td>\n",
       "    </tr>\n",
       "  </tbody>\n",
       "</table>\n",
       "</div>"
      ],
      "text/plain": [
       "              business_id                   name  food_score\n",
       "0  1IX3hFAxdqKwuyt9oElDpw  Moghul Indian Cuisine    0.211885\n",
       "1  1pzN6Qp10vGqfRX66d4q5w          Chef Mickey's    0.228596\n",
       "2  25iE1snCllaN2fCKodDyuQ         Ichiban Buffet   -0.061667"
      ]
     },
     "execution_count": 77,
     "metadata": {},
     "output_type": "execute_result"
    }
   ],
   "source": [
    "food_words = set([\"food\", \"taste\", \"tastes\", \"foods\", \"meal\",\"meals\",\"breakfast\"])\n",
    "food_df = data[data[\"aspect\"].isin(food_words)]\n",
    "food_scores = food_df.groupby([\"business_id\", \"name\"],\n",
    "                    as_index=False).agg({\"polarity\":'mean'})\n",
    "food_scores = food_scores.rename(columns={\"polarity\":\"food_score\"})\n",
    "food_scores.head(3)"
   ]
  },
  {
   "cell_type": "code",
   "execution_count": 78,
   "id": "6bc52129",
   "metadata": {},
   "outputs": [
    {
     "data": {
      "text/html": [
       "<div>\n",
       "<style scoped>\n",
       "    .dataframe tbody tr th:only-of-type {\n",
       "        vertical-align: middle;\n",
       "    }\n",
       "\n",
       "    .dataframe tbody tr th {\n",
       "        vertical-align: top;\n",
       "    }\n",
       "\n",
       "    .dataframe thead th {\n",
       "        text-align: right;\n",
       "    }\n",
       "</style>\n",
       "<table border=\"1\" class=\"dataframe\">\n",
       "  <thead>\n",
       "    <tr style=\"text-align: right;\">\n",
       "      <th></th>\n",
       "      <th>business_id</th>\n",
       "      <th>name</th>\n",
       "      <th>service_score</th>\n",
       "    </tr>\n",
       "  </thead>\n",
       "  <tbody>\n",
       "    <tr>\n",
       "      <th>0</th>\n",
       "      <td>1IX3hFAxdqKwuyt9oElDpw</td>\n",
       "      <td>Moghul Indian Cuisine</td>\n",
       "      <td>0.424438</td>\n",
       "    </tr>\n",
       "    <tr>\n",
       "      <th>1</th>\n",
       "      <td>1pzN6Qp10vGqfRX66d4q5w</td>\n",
       "      <td>Chef Mickey's</td>\n",
       "      <td>0.364966</td>\n",
       "    </tr>\n",
       "    <tr>\n",
       "      <th>2</th>\n",
       "      <td>25iE1snCllaN2fCKodDyuQ</td>\n",
       "      <td>Ichiban Buffet</td>\n",
       "      <td>0.146429</td>\n",
       "    </tr>\n",
       "  </tbody>\n",
       "</table>\n",
       "</div>"
      ],
      "text/plain": [
       "              business_id                   name  service_score\n",
       "0  1IX3hFAxdqKwuyt9oElDpw  Moghul Indian Cuisine       0.424438\n",
       "1  1pzN6Qp10vGqfRX66d4q5w          Chef Mickey's       0.364966\n",
       "2  25iE1snCllaN2fCKodDyuQ         Ichiban Buffet       0.146429"
      ]
     },
     "execution_count": 78,
     "metadata": {},
     "output_type": "execute_result"
    }
   ],
   "source": [
    "service_words = [\"staff\", \"staffs\", \"waiter\", \"waiters\", \"service\",\n",
    "                \"server\", \"waitress\", \"servers\"]\n",
    "service_df = data[data[\"aspect\"].isin(service_words)]\n",
    "service_scores = service_df.groupby([\"business_id\", \"name\"],\n",
    "                    as_index=False).agg({\"polarity\":'mean'})\n",
    "service_scores = service_scores.rename(columns={\"polarity\":\"service_score\"})\n",
    "service_scores.head(3)"
   ]
  },
  {
   "cell_type": "code",
   "execution_count": 79,
   "id": "5c65b3d7",
   "metadata": {},
   "outputs": [
    {
     "data": {
      "text/html": [
       "<div>\n",
       "<style scoped>\n",
       "    .dataframe tbody tr th:only-of-type {\n",
       "        vertical-align: middle;\n",
       "    }\n",
       "\n",
       "    .dataframe tbody tr th {\n",
       "        vertical-align: top;\n",
       "    }\n",
       "\n",
       "    .dataframe thead th {\n",
       "        text-align: right;\n",
       "    }\n",
       "</style>\n",
       "<table border=\"1\" class=\"dataframe\">\n",
       "  <thead>\n",
       "    <tr style=\"text-align: right;\">\n",
       "      <th></th>\n",
       "      <th>business_id</th>\n",
       "      <th>name</th>\n",
       "      <th>env_score</th>\n",
       "    </tr>\n",
       "  </thead>\n",
       "  <tbody>\n",
       "    <tr>\n",
       "      <th>0</th>\n",
       "      <td>1IX3hFAxdqKwuyt9oElDpw</td>\n",
       "      <td>Moghul Indian Cuisine</td>\n",
       "      <td>0.458333</td>\n",
       "    </tr>\n",
       "    <tr>\n",
       "      <th>1</th>\n",
       "      <td>1pzN6Qp10vGqfRX66d4q5w</td>\n",
       "      <td>Chef Mickey's</td>\n",
       "      <td>0.479091</td>\n",
       "    </tr>\n",
       "    <tr>\n",
       "      <th>2</th>\n",
       "      <td>2C1A6GzXXRi_eEieQAmyRg</td>\n",
       "      <td>Crazy Buffet</td>\n",
       "      <td>-0.400000</td>\n",
       "    </tr>\n",
       "  </tbody>\n",
       "</table>\n",
       "</div>"
      ],
      "text/plain": [
       "              business_id                   name  env_score\n",
       "0  1IX3hFAxdqKwuyt9oElDpw  Moghul Indian Cuisine   0.458333\n",
       "1  1pzN6Qp10vGqfRX66d4q5w          Chef Mickey's   0.479091\n",
       "2  2C1A6GzXXRi_eEieQAmyRg           Crazy Buffet  -0.400000"
      ]
     },
     "execution_count": 79,
     "metadata": {},
     "output_type": "execute_result"
    }
   ],
   "source": [
    "env_words = [\"environment\", \"atmosphere\"]\n",
    "env_df = data[data[\"aspect\"].isin(env_words)]\n",
    "env_scores = env_df.groupby([\"business_id\", \"name\"],\n",
    "                    as_index=False).agg({\"polarity\":'mean'})\n",
    "env_scores = env_scores.rename(columns={\"polarity\":\"env_score\"})\n",
    "env_scores.head(3)"
   ]
  },
  {
   "cell_type": "code",
   "execution_count": 80,
   "id": "982f3112",
   "metadata": {},
   "outputs": [
    {
     "data": {
      "text/html": [
       "<div>\n",
       "<style scoped>\n",
       "    .dataframe tbody tr th:only-of-type {\n",
       "        vertical-align: middle;\n",
       "    }\n",
       "\n",
       "    .dataframe tbody tr th {\n",
       "        vertical-align: top;\n",
       "    }\n",
       "\n",
       "    .dataframe thead th {\n",
       "        text-align: right;\n",
       "    }\n",
       "</style>\n",
       "<table border=\"1\" class=\"dataframe\">\n",
       "  <thead>\n",
       "    <tr style=\"text-align: right;\">\n",
       "      <th></th>\n",
       "      <th>business_id</th>\n",
       "      <th>name</th>\n",
       "      <th>variety_score</th>\n",
       "    </tr>\n",
       "  </thead>\n",
       "  <tbody>\n",
       "    <tr>\n",
       "      <th>0</th>\n",
       "      <td>1IX3hFAxdqKwuyt9oElDpw</td>\n",
       "      <td>Moghul Indian Cuisine</td>\n",
       "      <td>0.213899</td>\n",
       "    </tr>\n",
       "    <tr>\n",
       "      <th>1</th>\n",
       "      <td>1pzN6Qp10vGqfRX66d4q5w</td>\n",
       "      <td>Chef Mickey's</td>\n",
       "      <td>0.308269</td>\n",
       "    </tr>\n",
       "    <tr>\n",
       "      <th>2</th>\n",
       "      <td>25iE1snCllaN2fCKodDyuQ</td>\n",
       "      <td>Ichiban Buffet</td>\n",
       "      <td>0.216327</td>\n",
       "    </tr>\n",
       "  </tbody>\n",
       "</table>\n",
       "</div>"
      ],
      "text/plain": [
       "              business_id                   name  variety_score\n",
       "0  1IX3hFAxdqKwuyt9oElDpw  Moghul Indian Cuisine       0.213899\n",
       "1  1pzN6Qp10vGqfRX66d4q5w          Chef Mickey's       0.308269\n",
       "2  25iE1snCllaN2fCKodDyuQ         Ichiban Buffet       0.216327"
      ]
     },
     "execution_count": 80,
     "metadata": {},
     "output_type": "execute_result"
    }
   ],
   "source": [
    "variety_words = [\"option\", \"options\", \"choice\", \"choices\",\n",
    "                \"variety\", \"varieties\", \"type\", \"types\", \n",
    "                 \"selection\", \"selections\"]\n",
    "variety_df = data[data[\"aspect\"].isin(variety_words)]\n",
    "variety_scores = variety_df.groupby([\"business_id\", \"name\"],\n",
    "                    as_index=False).agg({\"polarity\":'mean'})\n",
    "variety_scores = variety_scores.rename(columns={\"polarity\":\"variety_score\"})\n",
    "variety_scores.head(3)"
   ]
  },
  {
   "cell_type": "code",
   "execution_count": 81,
   "id": "c9c14938",
   "metadata": {},
   "outputs": [
    {
     "data": {
      "text/html": [
       "<div>\n",
       "<style scoped>\n",
       "    .dataframe tbody tr th:only-of-type {\n",
       "        vertical-align: middle;\n",
       "    }\n",
       "\n",
       "    .dataframe tbody tr th {\n",
       "        vertical-align: top;\n",
       "    }\n",
       "\n",
       "    .dataframe thead th {\n",
       "        text-align: right;\n",
       "    }\n",
       "</style>\n",
       "<table border=\"1\" class=\"dataframe\">\n",
       "  <thead>\n",
       "    <tr style=\"text-align: right;\">\n",
       "      <th></th>\n",
       "      <th>business_id</th>\n",
       "      <th>name</th>\n",
       "      <th>Music Score</th>\n",
       "    </tr>\n",
       "  </thead>\n",
       "  <tbody>\n",
       "    <tr>\n",
       "      <th>0</th>\n",
       "      <td>1IX3hFAxdqKwuyt9oElDpw</td>\n",
       "      <td>Moghul Indian Cuisine</td>\n",
       "      <td>0.00000</td>\n",
       "    </tr>\n",
       "    <tr>\n",
       "      <th>1</th>\n",
       "      <td>1pzN6Qp10vGqfRX66d4q5w</td>\n",
       "      <td>Chef Mickey's</td>\n",
       "      <td>0.00000</td>\n",
       "    </tr>\n",
       "    <tr>\n",
       "      <th>2</th>\n",
       "      <td>2CMrHsjj4R4mVzmetypyFw</td>\n",
       "      <td>Gateway To India</td>\n",
       "      <td>0.10101</td>\n",
       "    </tr>\n",
       "  </tbody>\n",
       "</table>\n",
       "</div>"
      ],
      "text/plain": [
       "              business_id                   name  Music Score\n",
       "0  1IX3hFAxdqKwuyt9oElDpw  Moghul Indian Cuisine      0.00000\n",
       "1  1pzN6Qp10vGqfRX66d4q5w          Chef Mickey's      0.00000\n",
       "2  2CMrHsjj4R4mVzmetypyFw       Gateway To India      0.10101"
      ]
     },
     "execution_count": 81,
     "metadata": {},
     "output_type": "execute_result"
    }
   ],
   "source": [
    "music_words = [\"music\"]\n",
    "music_df = data[data[\"aspect\"].isin(music_words)]\n",
    "music_scores = music_df.groupby([\"business_id\", \"name\"],\n",
    "                    as_index=False).agg({\"polarity\":'mean'})\n",
    "music_scores = music_scores.rename(columns={\"polarity\":\"Music Score\"})\n",
    "music_scores.head(3)"
   ]
  },
  {
   "cell_type": "code",
   "execution_count": 82,
   "id": "3b9ca355",
   "metadata": {},
   "outputs": [
    {
     "data": {
      "text/html": [
       "<div>\n",
       "<style scoped>\n",
       "    .dataframe tbody tr th:only-of-type {\n",
       "        vertical-align: middle;\n",
       "    }\n",
       "\n",
       "    .dataframe tbody tr th {\n",
       "        vertical-align: top;\n",
       "    }\n",
       "\n",
       "    .dataframe thead th {\n",
       "        text-align: right;\n",
       "    }\n",
       "</style>\n",
       "<table border=\"1\" class=\"dataframe\">\n",
       "  <thead>\n",
       "    <tr style=\"text-align: right;\">\n",
       "      <th></th>\n",
       "      <th>business_id</th>\n",
       "      <th>name</th>\n",
       "      <th>Drink Score</th>\n",
       "    </tr>\n",
       "  </thead>\n",
       "  <tbody>\n",
       "    <tr>\n",
       "      <th>0</th>\n",
       "      <td>1IX3hFAxdqKwuyt9oElDpw</td>\n",
       "      <td>Moghul Indian Cuisine</td>\n",
       "      <td>0.033333</td>\n",
       "    </tr>\n",
       "    <tr>\n",
       "      <th>1</th>\n",
       "      <td>1pzN6Qp10vGqfRX66d4q5w</td>\n",
       "      <td>Chef Mickey's</td>\n",
       "      <td>-0.046825</td>\n",
       "    </tr>\n",
       "    <tr>\n",
       "      <th>2</th>\n",
       "      <td>2C1A6GzXXRi_eEieQAmyRg</td>\n",
       "      <td>Crazy Buffet</td>\n",
       "      <td>0.216667</td>\n",
       "    </tr>\n",
       "  </tbody>\n",
       "</table>\n",
       "</div>"
      ],
      "text/plain": [
       "              business_id                   name  Drink Score\n",
       "0  1IX3hFAxdqKwuyt9oElDpw  Moghul Indian Cuisine     0.033333\n",
       "1  1pzN6Qp10vGqfRX66d4q5w          Chef Mickey's    -0.046825\n",
       "2  2C1A6GzXXRi_eEieQAmyRg           Crazy Buffet     0.216667"
      ]
     },
     "execution_count": 82,
     "metadata": {},
     "output_type": "execute_result"
    }
   ],
   "source": [
    "beverage_words = [\"beverage\", \"beer\", \"alchohol\", \"beers\", \"beverages\",\n",
    "                 \"burgundy\", \"drink\", \"drinks\", \"cocktail\", \"cocktails\",\n",
    "                 \"soda\", \"wine\", \"wines\", \"punch\", \"soda\", \"sodas\",\n",
    "                 \"juice\", \"juices\", \"pepsi\", \"coke\", \"burgundy\", \"champagne\",\n",
    "                 \"chardonnay\", \"martinis\", \"sangrias\", \"sake\", \"wine\", \"wines\",\n",
    "                 \"milk\", \"punch\", \"cokes\", \"martini\", \"coffee\", \"coffees\"]\n",
    "beverage_df = data[data[\"aspect\"].isin(beverage_words)]\n",
    "beverage_scores = beverage_df.groupby([\"business_id\", \"name\"],\n",
    "                    as_index=False).agg({\"polarity\":'mean'})\n",
    "beverage_scores = beverage_scores.rename(columns={\"polarity\":\"Drink Score\"})\n",
    "beverage_scores.head(3)"
   ]
  },
  {
   "cell_type": "code",
   "execution_count": 83,
   "id": "bca84c31",
   "metadata": {},
   "outputs": [
    {
     "data": {
      "text/html": [
       "<div>\n",
       "<style scoped>\n",
       "    .dataframe tbody tr th:only-of-type {\n",
       "        vertical-align: middle;\n",
       "    }\n",
       "\n",
       "    .dataframe tbody tr th {\n",
       "        vertical-align: top;\n",
       "    }\n",
       "\n",
       "    .dataframe thead th {\n",
       "        text-align: right;\n",
       "    }\n",
       "</style>\n",
       "<table border=\"1\" class=\"dataframe\">\n",
       "  <thead>\n",
       "    <tr style=\"text-align: right;\">\n",
       "      <th></th>\n",
       "      <th>business_id</th>\n",
       "      <th>name</th>\n",
       "      <th>Sauce Score</th>\n",
       "    </tr>\n",
       "  </thead>\n",
       "  <tbody>\n",
       "    <tr>\n",
       "      <th>0</th>\n",
       "      <td>1IX3hFAxdqKwuyt9oElDpw</td>\n",
       "      <td>Moghul Indian Cuisine</td>\n",
       "      <td>0.110606</td>\n",
       "    </tr>\n",
       "    <tr>\n",
       "      <th>1</th>\n",
       "      <td>1pzN6Qp10vGqfRX66d4q5w</td>\n",
       "      <td>Chef Mickey's</td>\n",
       "      <td>0.000000</td>\n",
       "    </tr>\n",
       "    <tr>\n",
       "      <th>2</th>\n",
       "      <td>2C1A6GzXXRi_eEieQAmyRg</td>\n",
       "      <td>Crazy Buffet</td>\n",
       "      <td>0.000000</td>\n",
       "    </tr>\n",
       "  </tbody>\n",
       "</table>\n",
       "</div>"
      ],
      "text/plain": [
       "              business_id                   name  Sauce Score\n",
       "0  1IX3hFAxdqKwuyt9oElDpw  Moghul Indian Cuisine     0.110606\n",
       "1  1pzN6Qp10vGqfRX66d4q5w          Chef Mickey's     0.000000\n",
       "2  2C1A6GzXXRi_eEieQAmyRg           Crazy Buffet     0.000000"
      ]
     },
     "execution_count": 83,
     "metadata": {},
     "output_type": "execute_result"
    }
   ],
   "source": [
    "sauce_words = [\"sauce\", \"sauces\"]\n",
    "sauce_df = data[data[\"aspect\"].isin(sauce_words)]\n",
    "sauce_scores = sauce_df.groupby([\"business_id\", \"name\"],\n",
    "                    as_index=False).agg({\"polarity\":'mean'})\n",
    "sauce_scores = sauce_scores.rename(columns={\"polarity\":\"Sauce Score\"})\n",
    "sauce_scores.head(3)"
   ]
  },
  {
   "cell_type": "code",
   "execution_count": 84,
   "id": "7dbceba9",
   "metadata": {},
   "outputs": [],
   "source": [
    "scores = food_scores.merge(service_scores, \n",
    "        on=[\"business_id\", \"name\"], how=\"left\").merge(env_scores, \n",
    "        on=[\"business_id\", \"name\"], how=\"left\").merge(variety_scores, \n",
    "        on=[\"business_id\", \"name\"], how=\"left\").merge(music_scores, \n",
    "        on=[\"business_id\", \"name\"], how=\"left\").merge(beverage_scores, \n",
    "        on=[\"business_id\", \"name\"], how=\"left\").merge(sauce_scores, \n",
    "        on=[\"business_id\", \"name\"], how=\"left\")"
   ]
  },
  {
   "cell_type": "code",
   "execution_count": 85,
   "id": "778087d7",
   "metadata": {},
   "outputs": [
    {
     "data": {
      "text/html": [
       "<div>\n",
       "<style scoped>\n",
       "    .dataframe tbody tr th:only-of-type {\n",
       "        vertical-align: middle;\n",
       "    }\n",
       "\n",
       "    .dataframe tbody tr th {\n",
       "        vertical-align: top;\n",
       "    }\n",
       "\n",
       "    .dataframe thead th {\n",
       "        text-align: right;\n",
       "    }\n",
       "</style>\n",
       "<table border=\"1\" class=\"dataframe\">\n",
       "  <thead>\n",
       "    <tr style=\"text-align: right;\">\n",
       "      <th></th>\n",
       "      <th>business_id</th>\n",
       "      <th>name</th>\n",
       "      <th>Food Score</th>\n",
       "      <th>Service Score</th>\n",
       "      <th>Environment Score</th>\n",
       "      <th>Variety Score</th>\n",
       "      <th>Music Score</th>\n",
       "      <th>Drink Score</th>\n",
       "      <th>Sauce Score</th>\n",
       "      <th>Stars</th>\n",
       "      <th>Review Count</th>\n",
       "      <th>address</th>\n",
       "    </tr>\n",
       "  </thead>\n",
       "  <tbody>\n",
       "    <tr>\n",
       "      <th>0</th>\n",
       "      <td>gsicNDwrLH4WGeWMDcJv6w</td>\n",
       "      <td>Ahmed Indian Restaurant</td>\n",
       "      <td>0.249444</td>\n",
       "      <td>0.349242</td>\n",
       "      <td>0.133333</td>\n",
       "      <td>0.230331</td>\n",
       "      <td>NaN</td>\n",
       "      <td>0.5</td>\n",
       "      <td>-0.062500</td>\n",
       "      <td>3.5</td>\n",
       "      <td>146</td>\n",
       "      <td>11301 S Orange Blossom Trl, Ste 104</td>\n",
       "    </tr>\n",
       "    <tr>\n",
       "      <th>1</th>\n",
       "      <td>n4diWKcRvAFctwdRA6IPMg</td>\n",
       "      <td>Ahmed Indian Restaurant</td>\n",
       "      <td>0.226196</td>\n",
       "      <td>0.404545</td>\n",
       "      <td>0.491667</td>\n",
       "      <td>0.173044</td>\n",
       "      <td>0.0</td>\n",
       "      <td>-0.2</td>\n",
       "      <td>0.158333</td>\n",
       "      <td>4.0</td>\n",
       "      <td>131</td>\n",
       "      <td>10042 University Blvd</td>\n",
       "    </tr>\n",
       "    <tr>\n",
       "      <th>2</th>\n",
       "      <td>riAMZdetrgWrwoUQUoJHRQ</td>\n",
       "      <td>Bachata Breeze Restaurant</td>\n",
       "      <td>0.150000</td>\n",
       "      <td>NaN</td>\n",
       "      <td>NaN</td>\n",
       "      <td>0.650000</td>\n",
       "      <td>NaN</td>\n",
       "      <td>NaN</td>\n",
       "      <td>NaN</td>\n",
       "      <td>3.0</td>\n",
       "      <td>9</td>\n",
       "      <td>5773 Curry Ford Rd</td>\n",
       "    </tr>\n",
       "  </tbody>\n",
       "</table>\n",
       "</div>"
      ],
      "text/plain": [
       "              business_id                       name  Food Score  \\\n",
       "0  gsicNDwrLH4WGeWMDcJv6w    Ahmed Indian Restaurant    0.249444   \n",
       "1  n4diWKcRvAFctwdRA6IPMg    Ahmed Indian Restaurant    0.226196   \n",
       "2  riAMZdetrgWrwoUQUoJHRQ  Bachata Breeze Restaurant    0.150000   \n",
       "\n",
       "   Service Score  Environment Score  Variety Score  Music Score  Drink Score  \\\n",
       "0       0.349242           0.133333       0.230331          NaN          0.5   \n",
       "1       0.404545           0.491667       0.173044          0.0         -0.2   \n",
       "2            NaN                NaN       0.650000          NaN          NaN   \n",
       "\n",
       "   Sauce Score  Stars  Review Count                              address  \n",
       "0    -0.062500    3.5           146  11301 S Orange Blossom Trl, Ste 104  \n",
       "1     0.158333    4.0           131                10042 University Blvd  \n",
       "2          NaN    3.0             9                   5773 Curry Ford Rd  "
      ]
     },
     "execution_count": 85,
     "metadata": {},
     "output_type": "execute_result"
    }
   ],
   "source": [
    "rest_scores = data[[\"business_id\", \"name\", \"stars\", \"review_count\", \"address\"]].drop_duplicates()\n",
    "plot_df = scores.merge(rest_scores, on=[\"business_id\", \"name\"], how=\"right\")\n",
    "plot_df = plot_df.rename(columns={\"food_score\": \"Food Score\",\n",
    "                                 \"service_score\": \"Service Score\",\n",
    "                                 \"env_score\": \"Environment Score\",\n",
    "                                 \"variety_score\": \"Variety Score\",\n",
    "                                 \"stars\": \"Stars\",\n",
    "                                 \"review_count\": \"Review Count\"})\n",
    "plot_df.head(3)"
   ]
  },
  {
   "cell_type": "code",
   "execution_count": 86,
   "id": "b1d6a090",
   "metadata": {},
   "outputs": [],
   "source": [
    "plot_df.to_csv(\"scores_all.csv\", index=False)"
   ]
  },
  {
   "cell_type": "code",
   "execution_count": 87,
   "id": "8cd2e985",
   "metadata": {},
   "outputs": [
    {
     "data": {
      "application/vnd.plotly.v1+json": {
       "config": {
        "plotlyServerURL": "https://plot.ly"
       },
       "data": [
        {
         "hovertemplate": "<b>%{hovertext}</b><br><br>Food Score=%{x}<br>Service Score=%{y}<br>Review Count=%{marker.size}<br>Stars=%{marker.color}<extra></extra>",
         "hovertext": [
          "Ahmed Indian Restaurant",
          "Ahmed Indian Restaurant",
          "Bachata Breeze Restaurant",
          "Backlot Express",
          "Bamboo Garden Super Buffet",
          "Biergarten Restaurant",
          "Boi Brazil Churrascaria",
          "Boston Lobster Feast",
          "Breakfast with Goofy and his Pals",
          "Buffet City",
          "Café Osceola",
          "Cafe Gauguin",
          "Cafe Matisse",
          "Chef Mickey's",
          "Cici's Pizza",
          "Cici's Pizza",
          "Cici's Pizza",
          "Cici's Pizza",
          "Covington Mill Restaurant",
          "Crazy Buffet",
          "Crydermans Barbecue",
          "Curry House Indian Cuisine",
          "El Palacio Buffet",
          "El Palacio Buffet",
          "El Palacio Buffet",
          "El Potro",
          "Estrella Latina",
          "Fresh Mediterranean Market",
          "Garden Grill Restaurant",
          "Gateway To India",
          "Giant Panda",
          "Golden Corral Buffet & Grill",
          "Golden Corral Buffet & Grill",
          "Golden Corral Buffet & Grill",
          "Golden Corral Buffet & Grill",
          "Golden Corral Buffet & Grill",
          "Golden Corral Buffet & Grill",
          "Golden Corral Buffet & Grill",
          "Golden Corral Buffet & Grill",
          "Golden Corral Buffet & Grill",
          "Golden Corral Buffet & Grill",
          "Golden Corral Buffet & Grill",
          "Harvest Bistro",
          "Hokkaido Chinese & Japanese Buffet",
          "Hokkaido Chinese & Japanese Buffet",
          "Hollywood & Vine",
          "Ichiban Buffet",
          "Ichiban Buffet",
          "Ichiban Buffet",
          "Ichigo Ichie Buffet",
          "Izziban Sushi And Korean BBQ",
          "King Buffet",
          "Koywan Hibachi Buffet",
          "La China Blue",
          "Lai Lai Chinese Cuisine & Sushi Bar",
          "Latitude & Longitude",
          "Mandolin's",
          "Mei Asian China Buffet",
          "Mikado Japanese Seafood Buffet",
          "Moghul Indian Cuisine",
          "Nine Spices Hot Pot",
          "Oreganatta",
          "Phil-Asian Foodmart",
          "Ponderosa Steakhouse",
          "Rosen Inn Lake Buena Vista",
          "Saffron Indian Cuisine",
          "Saffron Indian Cuisine",
          "Savannah Bar and Grille",
          "SeaWorld Orlando",
          "Spice Indian Grill",
          "Texas de Brazil",
          "The Crystal Palace",
          "The Garden Gallery",
          "The Knife - Lake Buena Vista",
          "Tony's Brazilian Grill",
          "Tropical Cabana",
          "U & Me Revolving Hot Pot",
          "Villa de Flora",
          "Whistle Stop Restaurant"
         ],
         "legendgroup": "",
         "marker": {
          "color": [
           3.5,
           4,
           3,
           3.5,
           2.5,
           4,
           4,
           3,
           5,
           3,
           3.5,
           3,
           3,
           3.5,
           2.5,
           2.5,
           3,
           3,
           4,
           3.5,
           4.5,
           4.5,
           4,
           3.5,
           1.5,
           4,
           3,
           3.5,
           4,
           4,
           3,
           3,
           2.5,
           2,
           2.5,
           2,
           3.5,
           3.5,
           2.5,
           2.5,
           2.5,
           3,
           4,
           3.5,
           3,
           3,
           3,
           2.5,
           3,
           3,
           3.5,
           2.5,
           3,
           3.5,
           4,
           4,
           2.5,
           2,
           4,
           4,
           4,
           2.5,
           4.5,
           3.5,
           2.5,
           4.5,
           3.5,
           2.5,
           3.5,
           4.5,
           4,
           3.5,
           3.5,
           3,
           4,
           5,
           4,
           3.5,
           4
          ],
          "coloraxis": "coloraxis",
          "size": [
           146,
           131,
           9,
           129,
           11,
           596,
           367,
           763,
           9,
           70,
           54,
           49,
           28,
           562,
           102,
           32,
           55,
           35,
           18,
           240,
           114,
           16,
           38,
           152,
           26,
           248,
           8,
           54,
           250,
           184,
           159,
           69,
           22,
           72,
           160,
           107,
           112,
           53,
           123,
           60,
           62,
           34,
           84,
           369,
           316,
           284,
           419,
           29,
           481,
           72,
           818,
           27,
           283,
           39,
           67,
           28,
           12,
           133,
           335,
           280,
           492,
           75,
           10,
           21,
           140,
           834,
           70,
           9,
           1082,
           88,
           825,
           565,
           19,
           462,
           53,
           148,
           105,
           138,
           8
          ],
          "sizemode": "area",
          "sizeref": 2.705,
          "symbol": "circle"
         },
         "mode": "markers",
         "name": "",
         "orientation": "v",
         "showlegend": false,
         "type": "scatter",
         "x": [
          0.24944444444444444,
          0.2261961722488038,
          0.15000000000000002,
          0.22228370221327967,
          -0.027500000000000004,
          0.22279776110921695,
          0.3976317663817664,
          0.11385249366018597,
          0.05500000000000003,
          0.20844988344988347,
          0.4408333333333333,
          0.061594202898550734,
          0.34259259259259256,
          0.22859582357533176,
          0.3041666666666667,
          0.42000000000000004,
          0.2333333333333333,
          0.3433333333333333,
          0.2513888888888889,
          0.19938088976550516,
          0.40535714285714286,
          0.21428571428571427,
          0.19007936507936507,
          0.15195414913724772,
          0.16428571428571428,
          0.31419330289193304,
          0.04761904761904767,
          0.07291666666666667,
          0.2632301587301587,
          0.2826028138528139,
          0.1544047619047619,
          0.21694444444444447,
          0.25773809523809527,
          0.14821428571428572,
          0.13874458874458875,
          -0.024056036556036556,
          0.20877039627039626,
          0.22941176470588234,
          0.08169765840220386,
          -0.06052631578947368,
          0.19722222222222222,
          -0.022727272727272717,
          0.3718671679197995,
          0.22147869674185464,
          0.17051042862610027,
          0.255078125,
          0.13019514767932489,
          -0.06166666666666666,
          0.14032909682909683,
          0.17405764966740575,
          0.3203080592876511,
          0.10000000000000002,
          0.12686688311688313,
          0.19333333333333333,
          0.185,
          0.43333333333333335,
          0.024999999999999994,
          -0.029390175042348955,
          0.2013690415864329,
          0.21188492063492065,
          0.274042846042846,
          -0.29999999999999993,
          0.4000000000000001,
          0.36041666666666666,
          0.22391304347826088,
          0.3438917125631786,
          0.21463414634146344,
          0.1666666666666667,
          0.11632302405498282,
          0.2540983606557377,
          0.43456319956319955,
          0.25577577931134415,
          0.20888888888888887,
          0.13030925013683636,
          0.3091666666666667,
          0.4456456456456457,
          0.5016666666666667,
          0.28208333333333335,
          0.37777777777777777
         ],
         "xaxis": "x",
         "y": [
          0.34924242424242424,
          0.40454545454545454,
          null,
          0.35757575757575755,
          0,
          0.3887276785714286,
          0.514932712215321,
          0.4330362448009507,
          -0.6999999999999998,
          0.3125,
          0.16833333333333333,
          0.44166666666666665,
          0.2,
          0.3649659863945578,
          0.2027777777777778,
          0.0780952380952381,
          0.74375,
          0.7,
          0.725,
          0.02916666666666667,
          0.30925925925925923,
          0.3013888888888889,
          0.46458333333333335,
          0.26805555555555555,
          0.10060606060606059,
          0.44614427860696515,
          0.7,
          0.23461538461538461,
          0.40023148148148147,
          0.3830246913580247,
          0.024404761904761905,
          0.5923611111111111,
          0.32166666666666666,
          0.41862745098039217,
          0.3355263157894737,
          0.07986111111111112,
          0.5236111111111111,
          0.37604166666666666,
          0.1875,
          -0.0037878787878787945,
          0.45401785714285714,
          0.2875,
          0.42126436781609194,
          0.25863095238095235,
          0.08687500000000001,
          0.3642156862745098,
          0.2274404761904762,
          0.1464285714285714,
          -0.028378378378378363,
          0.35694444444444445,
          0.33067909308916504,
          0,
          0.0050000000000000175,
          0.2,
          0.4428571428571429,
          0.8000000000000002,
          -0.19999999999999998,
          -0.14318181818181816,
          0.3859717868338558,
          0.4244379889116731,
          0.3827934662236988,
          0.39416666666666667,
          0.7,
          0.8666666666666667,
          -0.05373563218390805,
          0.5143689986282579,
          0.22749999999999998,
          0.2833333333333333,
          0.05389784946236559,
          0.4377450980392157,
          0.420197837589142,
          0.17102564102564102,
          -0.1,
          0.23160066006600663,
          0.4291666666666667,
          0.5541666666666667,
          0.38452380952380955,
          0.4235507246376812,
          null
         ],
         "yaxis": "y"
        }
       ],
       "layout": {
        "coloraxis": {
         "colorbar": {
          "title": {
           "text": "Stars"
          }
         },
         "colorscale": [
          [
           0,
           "#0d0887"
          ],
          [
           0.1111111111111111,
           "#46039f"
          ],
          [
           0.2222222222222222,
           "#7201a8"
          ],
          [
           0.3333333333333333,
           "#9c179e"
          ],
          [
           0.4444444444444444,
           "#bd3786"
          ],
          [
           0.5555555555555556,
           "#d8576b"
          ],
          [
           0.6666666666666666,
           "#ed7953"
          ],
          [
           0.7777777777777778,
           "#fb9f3a"
          ],
          [
           0.8888888888888888,
           "#fdca26"
          ],
          [
           1,
           "#f0f921"
          ]
         ]
        },
        "legend": {
         "itemsizing": "constant",
         "tracegroupgap": 0
        },
        "template": {
         "data": {
          "bar": [
           {
            "error_x": {
             "color": "#2a3f5f"
            },
            "error_y": {
             "color": "#2a3f5f"
            },
            "marker": {
             "line": {
              "color": "#E5ECF6",
              "width": 0.5
             },
             "pattern": {
              "fillmode": "overlay",
              "size": 10,
              "solidity": 0.2
             }
            },
            "type": "bar"
           }
          ],
          "barpolar": [
           {
            "marker": {
             "line": {
              "color": "#E5ECF6",
              "width": 0.5
             },
             "pattern": {
              "fillmode": "overlay",
              "size": 10,
              "solidity": 0.2
             }
            },
            "type": "barpolar"
           }
          ],
          "carpet": [
           {
            "aaxis": {
             "endlinecolor": "#2a3f5f",
             "gridcolor": "white",
             "linecolor": "white",
             "minorgridcolor": "white",
             "startlinecolor": "#2a3f5f"
            },
            "baxis": {
             "endlinecolor": "#2a3f5f",
             "gridcolor": "white",
             "linecolor": "white",
             "minorgridcolor": "white",
             "startlinecolor": "#2a3f5f"
            },
            "type": "carpet"
           }
          ],
          "choropleth": [
           {
            "colorbar": {
             "outlinewidth": 0,
             "ticks": ""
            },
            "type": "choropleth"
           }
          ],
          "contour": [
           {
            "colorbar": {
             "outlinewidth": 0,
             "ticks": ""
            },
            "colorscale": [
             [
              0,
              "#0d0887"
             ],
             [
              0.1111111111111111,
              "#46039f"
             ],
             [
              0.2222222222222222,
              "#7201a8"
             ],
             [
              0.3333333333333333,
              "#9c179e"
             ],
             [
              0.4444444444444444,
              "#bd3786"
             ],
             [
              0.5555555555555556,
              "#d8576b"
             ],
             [
              0.6666666666666666,
              "#ed7953"
             ],
             [
              0.7777777777777778,
              "#fb9f3a"
             ],
             [
              0.8888888888888888,
              "#fdca26"
             ],
             [
              1,
              "#f0f921"
             ]
            ],
            "type": "contour"
           }
          ],
          "contourcarpet": [
           {
            "colorbar": {
             "outlinewidth": 0,
             "ticks": ""
            },
            "type": "contourcarpet"
           }
          ],
          "heatmap": [
           {
            "colorbar": {
             "outlinewidth": 0,
             "ticks": ""
            },
            "colorscale": [
             [
              0,
              "#0d0887"
             ],
             [
              0.1111111111111111,
              "#46039f"
             ],
             [
              0.2222222222222222,
              "#7201a8"
             ],
             [
              0.3333333333333333,
              "#9c179e"
             ],
             [
              0.4444444444444444,
              "#bd3786"
             ],
             [
              0.5555555555555556,
              "#d8576b"
             ],
             [
              0.6666666666666666,
              "#ed7953"
             ],
             [
              0.7777777777777778,
              "#fb9f3a"
             ],
             [
              0.8888888888888888,
              "#fdca26"
             ],
             [
              1,
              "#f0f921"
             ]
            ],
            "type": "heatmap"
           }
          ],
          "heatmapgl": [
           {
            "colorbar": {
             "outlinewidth": 0,
             "ticks": ""
            },
            "colorscale": [
             [
              0,
              "#0d0887"
             ],
             [
              0.1111111111111111,
              "#46039f"
             ],
             [
              0.2222222222222222,
              "#7201a8"
             ],
             [
              0.3333333333333333,
              "#9c179e"
             ],
             [
              0.4444444444444444,
              "#bd3786"
             ],
             [
              0.5555555555555556,
              "#d8576b"
             ],
             [
              0.6666666666666666,
              "#ed7953"
             ],
             [
              0.7777777777777778,
              "#fb9f3a"
             ],
             [
              0.8888888888888888,
              "#fdca26"
             ],
             [
              1,
              "#f0f921"
             ]
            ],
            "type": "heatmapgl"
           }
          ],
          "histogram": [
           {
            "marker": {
             "pattern": {
              "fillmode": "overlay",
              "size": 10,
              "solidity": 0.2
             }
            },
            "type": "histogram"
           }
          ],
          "histogram2d": [
           {
            "colorbar": {
             "outlinewidth": 0,
             "ticks": ""
            },
            "colorscale": [
             [
              0,
              "#0d0887"
             ],
             [
              0.1111111111111111,
              "#46039f"
             ],
             [
              0.2222222222222222,
              "#7201a8"
             ],
             [
              0.3333333333333333,
              "#9c179e"
             ],
             [
              0.4444444444444444,
              "#bd3786"
             ],
             [
              0.5555555555555556,
              "#d8576b"
             ],
             [
              0.6666666666666666,
              "#ed7953"
             ],
             [
              0.7777777777777778,
              "#fb9f3a"
             ],
             [
              0.8888888888888888,
              "#fdca26"
             ],
             [
              1,
              "#f0f921"
             ]
            ],
            "type": "histogram2d"
           }
          ],
          "histogram2dcontour": [
           {
            "colorbar": {
             "outlinewidth": 0,
             "ticks": ""
            },
            "colorscale": [
             [
              0,
              "#0d0887"
             ],
             [
              0.1111111111111111,
              "#46039f"
             ],
             [
              0.2222222222222222,
              "#7201a8"
             ],
             [
              0.3333333333333333,
              "#9c179e"
             ],
             [
              0.4444444444444444,
              "#bd3786"
             ],
             [
              0.5555555555555556,
              "#d8576b"
             ],
             [
              0.6666666666666666,
              "#ed7953"
             ],
             [
              0.7777777777777778,
              "#fb9f3a"
             ],
             [
              0.8888888888888888,
              "#fdca26"
             ],
             [
              1,
              "#f0f921"
             ]
            ],
            "type": "histogram2dcontour"
           }
          ],
          "mesh3d": [
           {
            "colorbar": {
             "outlinewidth": 0,
             "ticks": ""
            },
            "type": "mesh3d"
           }
          ],
          "parcoords": [
           {
            "line": {
             "colorbar": {
              "outlinewidth": 0,
              "ticks": ""
             }
            },
            "type": "parcoords"
           }
          ],
          "pie": [
           {
            "automargin": true,
            "type": "pie"
           }
          ],
          "scatter": [
           {
            "marker": {
             "colorbar": {
              "outlinewidth": 0,
              "ticks": ""
             }
            },
            "type": "scatter"
           }
          ],
          "scatter3d": [
           {
            "line": {
             "colorbar": {
              "outlinewidth": 0,
              "ticks": ""
             }
            },
            "marker": {
             "colorbar": {
              "outlinewidth": 0,
              "ticks": ""
             }
            },
            "type": "scatter3d"
           }
          ],
          "scattercarpet": [
           {
            "marker": {
             "colorbar": {
              "outlinewidth": 0,
              "ticks": ""
             }
            },
            "type": "scattercarpet"
           }
          ],
          "scattergeo": [
           {
            "marker": {
             "colorbar": {
              "outlinewidth": 0,
              "ticks": ""
             }
            },
            "type": "scattergeo"
           }
          ],
          "scattergl": [
           {
            "marker": {
             "colorbar": {
              "outlinewidth": 0,
              "ticks": ""
             }
            },
            "type": "scattergl"
           }
          ],
          "scattermapbox": [
           {
            "marker": {
             "colorbar": {
              "outlinewidth": 0,
              "ticks": ""
             }
            },
            "type": "scattermapbox"
           }
          ],
          "scatterpolar": [
           {
            "marker": {
             "colorbar": {
              "outlinewidth": 0,
              "ticks": ""
             }
            },
            "type": "scatterpolar"
           }
          ],
          "scatterpolargl": [
           {
            "marker": {
             "colorbar": {
              "outlinewidth": 0,
              "ticks": ""
             }
            },
            "type": "scatterpolargl"
           }
          ],
          "scatterternary": [
           {
            "marker": {
             "colorbar": {
              "outlinewidth": 0,
              "ticks": ""
             }
            },
            "type": "scatterternary"
           }
          ],
          "surface": [
           {
            "colorbar": {
             "outlinewidth": 0,
             "ticks": ""
            },
            "colorscale": [
             [
              0,
              "#0d0887"
             ],
             [
              0.1111111111111111,
              "#46039f"
             ],
             [
              0.2222222222222222,
              "#7201a8"
             ],
             [
              0.3333333333333333,
              "#9c179e"
             ],
             [
              0.4444444444444444,
              "#bd3786"
             ],
             [
              0.5555555555555556,
              "#d8576b"
             ],
             [
              0.6666666666666666,
              "#ed7953"
             ],
             [
              0.7777777777777778,
              "#fb9f3a"
             ],
             [
              0.8888888888888888,
              "#fdca26"
             ],
             [
              1,
              "#f0f921"
             ]
            ],
            "type": "surface"
           }
          ],
          "table": [
           {
            "cells": {
             "fill": {
              "color": "#EBF0F8"
             },
             "line": {
              "color": "white"
             }
            },
            "header": {
             "fill": {
              "color": "#C8D4E3"
             },
             "line": {
              "color": "white"
             }
            },
            "type": "table"
           }
          ]
         },
         "layout": {
          "annotationdefaults": {
           "arrowcolor": "#2a3f5f",
           "arrowhead": 0,
           "arrowwidth": 1
          },
          "autotypenumbers": "strict",
          "coloraxis": {
           "colorbar": {
            "outlinewidth": 0,
            "ticks": ""
           }
          },
          "colorscale": {
           "diverging": [
            [
             0,
             "#8e0152"
            ],
            [
             0.1,
             "#c51b7d"
            ],
            [
             0.2,
             "#de77ae"
            ],
            [
             0.3,
             "#f1b6da"
            ],
            [
             0.4,
             "#fde0ef"
            ],
            [
             0.5,
             "#f7f7f7"
            ],
            [
             0.6,
             "#e6f5d0"
            ],
            [
             0.7,
             "#b8e186"
            ],
            [
             0.8,
             "#7fbc41"
            ],
            [
             0.9,
             "#4d9221"
            ],
            [
             1,
             "#276419"
            ]
           ],
           "sequential": [
            [
             0,
             "#0d0887"
            ],
            [
             0.1111111111111111,
             "#46039f"
            ],
            [
             0.2222222222222222,
             "#7201a8"
            ],
            [
             0.3333333333333333,
             "#9c179e"
            ],
            [
             0.4444444444444444,
             "#bd3786"
            ],
            [
             0.5555555555555556,
             "#d8576b"
            ],
            [
             0.6666666666666666,
             "#ed7953"
            ],
            [
             0.7777777777777778,
             "#fb9f3a"
            ],
            [
             0.8888888888888888,
             "#fdca26"
            ],
            [
             1,
             "#f0f921"
            ]
           ],
           "sequentialminus": [
            [
             0,
             "#0d0887"
            ],
            [
             0.1111111111111111,
             "#46039f"
            ],
            [
             0.2222222222222222,
             "#7201a8"
            ],
            [
             0.3333333333333333,
             "#9c179e"
            ],
            [
             0.4444444444444444,
             "#bd3786"
            ],
            [
             0.5555555555555556,
             "#d8576b"
            ],
            [
             0.6666666666666666,
             "#ed7953"
            ],
            [
             0.7777777777777778,
             "#fb9f3a"
            ],
            [
             0.8888888888888888,
             "#fdca26"
            ],
            [
             1,
             "#f0f921"
            ]
           ]
          },
          "colorway": [
           "#636efa",
           "#EF553B",
           "#00cc96",
           "#ab63fa",
           "#FFA15A",
           "#19d3f3",
           "#FF6692",
           "#B6E880",
           "#FF97FF",
           "#FECB52"
          ],
          "font": {
           "color": "#2a3f5f"
          },
          "geo": {
           "bgcolor": "white",
           "lakecolor": "white",
           "landcolor": "#E5ECF6",
           "showlakes": true,
           "showland": true,
           "subunitcolor": "white"
          },
          "hoverlabel": {
           "align": "left"
          },
          "hovermode": "closest",
          "mapbox": {
           "style": "light"
          },
          "paper_bgcolor": "white",
          "plot_bgcolor": "#E5ECF6",
          "polar": {
           "angularaxis": {
            "gridcolor": "white",
            "linecolor": "white",
            "ticks": ""
           },
           "bgcolor": "#E5ECF6",
           "radialaxis": {
            "gridcolor": "white",
            "linecolor": "white",
            "ticks": ""
           }
          },
          "scene": {
           "xaxis": {
            "backgroundcolor": "#E5ECF6",
            "gridcolor": "white",
            "gridwidth": 2,
            "linecolor": "white",
            "showbackground": true,
            "ticks": "",
            "zerolinecolor": "white"
           },
           "yaxis": {
            "backgroundcolor": "#E5ECF6",
            "gridcolor": "white",
            "gridwidth": 2,
            "linecolor": "white",
            "showbackground": true,
            "ticks": "",
            "zerolinecolor": "white"
           },
           "zaxis": {
            "backgroundcolor": "#E5ECF6",
            "gridcolor": "white",
            "gridwidth": 2,
            "linecolor": "white",
            "showbackground": true,
            "ticks": "",
            "zerolinecolor": "white"
           }
          },
          "shapedefaults": {
           "line": {
            "color": "#2a3f5f"
           }
          },
          "ternary": {
           "aaxis": {
            "gridcolor": "white",
            "linecolor": "white",
            "ticks": ""
           },
           "baxis": {
            "gridcolor": "white",
            "linecolor": "white",
            "ticks": ""
           },
           "bgcolor": "#E5ECF6",
           "caxis": {
            "gridcolor": "white",
            "linecolor": "white",
            "ticks": ""
           }
          },
          "title": {
           "x": 0.05
          },
          "xaxis": {
           "automargin": true,
           "gridcolor": "white",
           "linecolor": "white",
           "ticks": "",
           "title": {
            "standoff": 15
           },
           "zerolinecolor": "white",
           "zerolinewidth": 2
          },
          "yaxis": {
           "automargin": true,
           "gridcolor": "white",
           "linecolor": "white",
           "ticks": "",
           "title": {
            "standoff": 15
           },
           "zerolinecolor": "white",
           "zerolinewidth": 2
          }
         }
        },
        "title": {
         "text": "Food vs Service Score"
        },
        "xaxis": {
         "anchor": "y",
         "domain": [
          0,
          1
         ],
         "title": {
          "text": "Food Score"
         }
        },
        "yaxis": {
         "anchor": "x",
         "domain": [
          0,
          1
         ],
         "title": {
          "text": "Service Score"
         }
        }
       }
      },
      "text/html": [
       "<div>                            <div id=\"cebf8120-4c1c-4fa3-8499-31ef31c58e0e\" class=\"plotly-graph-div\" style=\"height:525px; width:100%;\"></div>            <script type=\"text/javascript\">                require([\"plotly\"], function(Plotly) {                    window.PLOTLYENV=window.PLOTLYENV || {};                                    if (document.getElementById(\"cebf8120-4c1c-4fa3-8499-31ef31c58e0e\")) {                    Plotly.newPlot(                        \"cebf8120-4c1c-4fa3-8499-31ef31c58e0e\",                        [{\"hovertemplate\":\"<b>%{hovertext}</b><br><br>Food Score=%{x}<br>Service Score=%{y}<br>Review Count=%{marker.size}<br>Stars=%{marker.color}<extra></extra>\",\"hovertext\":[\"Ahmed Indian Restaurant\",\"Ahmed Indian Restaurant\",\"Bachata Breeze Restaurant\",\"Backlot Express\",\"Bamboo Garden Super Buffet\",\"Biergarten Restaurant\",\"Boi Brazil Churrascaria\",\"Boston Lobster Feast\",\"Breakfast with Goofy and his Pals\",\"Buffet City\",\"Café Osceola\",\"Cafe Gauguin\",\"Cafe Matisse\",\"Chef Mickey's\",\"Cici's Pizza\",\"Cici's Pizza\",\"Cici's Pizza\",\"Cici's Pizza\",\"Covington Mill Restaurant\",\"Crazy Buffet\",\"Crydermans Barbecue\",\"Curry House Indian Cuisine\",\"El Palacio Buffet\",\"El Palacio Buffet\",\"El Palacio Buffet\",\"El Potro\",\"Estrella Latina\",\"Fresh Mediterranean Market\",\"Garden Grill Restaurant\",\"Gateway To India\",\"Giant Panda\",\"Golden Corral Buffet & Grill\",\"Golden Corral Buffet & Grill\",\"Golden Corral Buffet & Grill\",\"Golden Corral Buffet & Grill\",\"Golden Corral Buffet & Grill\",\"Golden Corral Buffet & Grill\",\"Golden Corral Buffet & Grill\",\"Golden Corral Buffet & Grill\",\"Golden Corral Buffet & Grill\",\"Golden Corral Buffet & Grill\",\"Golden Corral Buffet & Grill\",\"Harvest Bistro\",\"Hokkaido Chinese & Japanese Buffet\",\"Hokkaido Chinese & Japanese Buffet\",\"Hollywood & Vine\",\"Ichiban Buffet\",\"Ichiban Buffet\",\"Ichiban Buffet\",\"Ichigo Ichie Buffet\",\"Izziban Sushi And Korean BBQ\",\"King Buffet\",\"Koywan Hibachi Buffet\",\"La China Blue\",\"Lai Lai Chinese Cuisine & Sushi Bar\",\"Latitude & Longitude\",\"Mandolin's\",\"Mei Asian China Buffet\",\"Mikado Japanese Seafood Buffet\",\"Moghul Indian Cuisine\",\"Nine Spices Hot Pot\",\"Oreganatta\",\"Phil-Asian Foodmart\",\"Ponderosa Steakhouse\",\"Rosen Inn Lake Buena Vista\",\"Saffron Indian Cuisine\",\"Saffron Indian Cuisine\",\"Savannah Bar and Grille\",\"SeaWorld Orlando\",\"Spice Indian Grill\",\"Texas de Brazil\",\"The Crystal Palace\",\"The Garden Gallery\",\"The Knife - Lake Buena Vista\",\"Tony's Brazilian Grill\",\"Tropical Cabana\",\"U & Me Revolving Hot Pot\",\"Villa de Flora\",\"Whistle Stop Restaurant\"],\"legendgroup\":\"\",\"marker\":{\"color\":[3.5,4.0,3.0,3.5,2.5,4.0,4.0,3.0,5.0,3.0,3.5,3.0,3.0,3.5,2.5,2.5,3.0,3.0,4.0,3.5,4.5,4.5,4.0,3.5,1.5,4.0,3.0,3.5,4.0,4.0,3.0,3.0,2.5,2.0,2.5,2.0,3.5,3.5,2.5,2.5,2.5,3.0,4.0,3.5,3.0,3.0,3.0,2.5,3.0,3.0,3.5,2.5,3.0,3.5,4.0,4.0,2.5,2.0,4.0,4.0,4.0,2.5,4.5,3.5,2.5,4.5,3.5,2.5,3.5,4.5,4.0,3.5,3.5,3.0,4.0,5.0,4.0,3.5,4.0],\"coloraxis\":\"coloraxis\",\"size\":[146,131,9,129,11,596,367,763,9,70,54,49,28,562,102,32,55,35,18,240,114,16,38,152,26,248,8,54,250,184,159,69,22,72,160,107,112,53,123,60,62,34,84,369,316,284,419,29,481,72,818,27,283,39,67,28,12,133,335,280,492,75,10,21,140,834,70,9,1082,88,825,565,19,462,53,148,105,138,8],\"sizemode\":\"area\",\"sizeref\":2.705,\"symbol\":\"circle\"},\"mode\":\"markers\",\"name\":\"\",\"orientation\":\"v\",\"showlegend\":false,\"type\":\"scatter\",\"x\":[0.24944444444444444,0.2261961722488038,0.15000000000000002,0.22228370221327967,-0.027500000000000004,0.22279776110921695,0.3976317663817664,0.11385249366018597,0.05500000000000003,0.20844988344988347,0.4408333333333333,0.061594202898550734,0.34259259259259256,0.22859582357533176,0.3041666666666667,0.42000000000000004,0.2333333333333333,0.3433333333333333,0.2513888888888889,0.19938088976550516,0.40535714285714286,0.21428571428571427,0.19007936507936507,0.15195414913724772,0.16428571428571428,0.31419330289193304,0.04761904761904767,0.07291666666666667,0.2632301587301587,0.2826028138528139,0.1544047619047619,0.21694444444444447,0.25773809523809527,0.14821428571428572,0.13874458874458875,-0.024056036556036556,0.20877039627039626,0.22941176470588234,0.08169765840220386,-0.06052631578947368,0.19722222222222222,-0.022727272727272717,0.3718671679197995,0.22147869674185464,0.17051042862610027,0.255078125,0.13019514767932489,-0.06166666666666666,0.14032909682909683,0.17405764966740575,0.3203080592876511,0.10000000000000002,0.12686688311688313,0.19333333333333333,0.185,0.43333333333333335,0.024999999999999994,-0.029390175042348955,0.2013690415864329,0.21188492063492065,0.274042846042846,-0.29999999999999993,0.4000000000000001,0.36041666666666666,0.22391304347826088,0.3438917125631786,0.21463414634146344,0.1666666666666667,0.11632302405498282,0.2540983606557377,0.43456319956319955,0.25577577931134415,0.20888888888888887,0.13030925013683636,0.3091666666666667,0.4456456456456457,0.5016666666666667,0.28208333333333335,0.37777777777777777],\"xaxis\":\"x\",\"y\":[0.34924242424242424,0.40454545454545454,null,0.35757575757575755,0.0,0.3887276785714286,0.514932712215321,0.4330362448009507,-0.6999999999999998,0.3125,0.16833333333333333,0.44166666666666665,0.2,0.3649659863945578,0.2027777777777778,0.0780952380952381,0.74375,0.7,0.725,0.02916666666666667,0.30925925925925923,0.3013888888888889,0.46458333333333335,0.26805555555555555,0.10060606060606059,0.44614427860696515,0.7,0.23461538461538461,0.40023148148148147,0.3830246913580247,0.024404761904761905,0.5923611111111111,0.32166666666666666,0.41862745098039217,0.3355263157894737,0.07986111111111112,0.5236111111111111,0.37604166666666666,0.1875,-0.0037878787878787945,0.45401785714285714,0.2875,0.42126436781609194,0.25863095238095235,0.08687500000000001,0.3642156862745098,0.2274404761904762,0.1464285714285714,-0.028378378378378363,0.35694444444444445,0.33067909308916504,0.0,0.0050000000000000175,0.2,0.4428571428571429,0.8000000000000002,-0.19999999999999998,-0.14318181818181816,0.3859717868338558,0.4244379889116731,0.3827934662236988,0.39416666666666667,0.7,0.8666666666666667,-0.05373563218390805,0.5143689986282579,0.22749999999999998,0.2833333333333333,0.05389784946236559,0.4377450980392157,0.420197837589142,0.17102564102564102,-0.1,0.23160066006600663,0.4291666666666667,0.5541666666666667,0.38452380952380955,0.4235507246376812,null],\"yaxis\":\"y\"}],                        {\"coloraxis\":{\"colorbar\":{\"title\":{\"text\":\"Stars\"}},\"colorscale\":[[0.0,\"#0d0887\"],[0.1111111111111111,\"#46039f\"],[0.2222222222222222,\"#7201a8\"],[0.3333333333333333,\"#9c179e\"],[0.4444444444444444,\"#bd3786\"],[0.5555555555555556,\"#d8576b\"],[0.6666666666666666,\"#ed7953\"],[0.7777777777777778,\"#fb9f3a\"],[0.8888888888888888,\"#fdca26\"],[1.0,\"#f0f921\"]]},\"legend\":{\"itemsizing\":\"constant\",\"tracegroupgap\":0},\"template\":{\"data\":{\"bar\":[{\"error_x\":{\"color\":\"#2a3f5f\"},\"error_y\":{\"color\":\"#2a3f5f\"},\"marker\":{\"line\":{\"color\":\"#E5ECF6\",\"width\":0.5},\"pattern\":{\"fillmode\":\"overlay\",\"size\":10,\"solidity\":0.2}},\"type\":\"bar\"}],\"barpolar\":[{\"marker\":{\"line\":{\"color\":\"#E5ECF6\",\"width\":0.5},\"pattern\":{\"fillmode\":\"overlay\",\"size\":10,\"solidity\":0.2}},\"type\":\"barpolar\"}],\"carpet\":[{\"aaxis\":{\"endlinecolor\":\"#2a3f5f\",\"gridcolor\":\"white\",\"linecolor\":\"white\",\"minorgridcolor\":\"white\",\"startlinecolor\":\"#2a3f5f\"},\"baxis\":{\"endlinecolor\":\"#2a3f5f\",\"gridcolor\":\"white\",\"linecolor\":\"white\",\"minorgridcolor\":\"white\",\"startlinecolor\":\"#2a3f5f\"},\"type\":\"carpet\"}],\"choropleth\":[{\"colorbar\":{\"outlinewidth\":0,\"ticks\":\"\"},\"type\":\"choropleth\"}],\"contour\":[{\"colorbar\":{\"outlinewidth\":0,\"ticks\":\"\"},\"colorscale\":[[0.0,\"#0d0887\"],[0.1111111111111111,\"#46039f\"],[0.2222222222222222,\"#7201a8\"],[0.3333333333333333,\"#9c179e\"],[0.4444444444444444,\"#bd3786\"],[0.5555555555555556,\"#d8576b\"],[0.6666666666666666,\"#ed7953\"],[0.7777777777777778,\"#fb9f3a\"],[0.8888888888888888,\"#fdca26\"],[1.0,\"#f0f921\"]],\"type\":\"contour\"}],\"contourcarpet\":[{\"colorbar\":{\"outlinewidth\":0,\"ticks\":\"\"},\"type\":\"contourcarpet\"}],\"heatmap\":[{\"colorbar\":{\"outlinewidth\":0,\"ticks\":\"\"},\"colorscale\":[[0.0,\"#0d0887\"],[0.1111111111111111,\"#46039f\"],[0.2222222222222222,\"#7201a8\"],[0.3333333333333333,\"#9c179e\"],[0.4444444444444444,\"#bd3786\"],[0.5555555555555556,\"#d8576b\"],[0.6666666666666666,\"#ed7953\"],[0.7777777777777778,\"#fb9f3a\"],[0.8888888888888888,\"#fdca26\"],[1.0,\"#f0f921\"]],\"type\":\"heatmap\"}],\"heatmapgl\":[{\"colorbar\":{\"outlinewidth\":0,\"ticks\":\"\"},\"colorscale\":[[0.0,\"#0d0887\"],[0.1111111111111111,\"#46039f\"],[0.2222222222222222,\"#7201a8\"],[0.3333333333333333,\"#9c179e\"],[0.4444444444444444,\"#bd3786\"],[0.5555555555555556,\"#d8576b\"],[0.6666666666666666,\"#ed7953\"],[0.7777777777777778,\"#fb9f3a\"],[0.8888888888888888,\"#fdca26\"],[1.0,\"#f0f921\"]],\"type\":\"heatmapgl\"}],\"histogram\":[{\"marker\":{\"pattern\":{\"fillmode\":\"overlay\",\"size\":10,\"solidity\":0.2}},\"type\":\"histogram\"}],\"histogram2d\":[{\"colorbar\":{\"outlinewidth\":0,\"ticks\":\"\"},\"colorscale\":[[0.0,\"#0d0887\"],[0.1111111111111111,\"#46039f\"],[0.2222222222222222,\"#7201a8\"],[0.3333333333333333,\"#9c179e\"],[0.4444444444444444,\"#bd3786\"],[0.5555555555555556,\"#d8576b\"],[0.6666666666666666,\"#ed7953\"],[0.7777777777777778,\"#fb9f3a\"],[0.8888888888888888,\"#fdca26\"],[1.0,\"#f0f921\"]],\"type\":\"histogram2d\"}],\"histogram2dcontour\":[{\"colorbar\":{\"outlinewidth\":0,\"ticks\":\"\"},\"colorscale\":[[0.0,\"#0d0887\"],[0.1111111111111111,\"#46039f\"],[0.2222222222222222,\"#7201a8\"],[0.3333333333333333,\"#9c179e\"],[0.4444444444444444,\"#bd3786\"],[0.5555555555555556,\"#d8576b\"],[0.6666666666666666,\"#ed7953\"],[0.7777777777777778,\"#fb9f3a\"],[0.8888888888888888,\"#fdca26\"],[1.0,\"#f0f921\"]],\"type\":\"histogram2dcontour\"}],\"mesh3d\":[{\"colorbar\":{\"outlinewidth\":0,\"ticks\":\"\"},\"type\":\"mesh3d\"}],\"parcoords\":[{\"line\":{\"colorbar\":{\"outlinewidth\":0,\"ticks\":\"\"}},\"type\":\"parcoords\"}],\"pie\":[{\"automargin\":true,\"type\":\"pie\"}],\"scatter\":[{\"marker\":{\"colorbar\":{\"outlinewidth\":0,\"ticks\":\"\"}},\"type\":\"scatter\"}],\"scatter3d\":[{\"line\":{\"colorbar\":{\"outlinewidth\":0,\"ticks\":\"\"}},\"marker\":{\"colorbar\":{\"outlinewidth\":0,\"ticks\":\"\"}},\"type\":\"scatter3d\"}],\"scattercarpet\":[{\"marker\":{\"colorbar\":{\"outlinewidth\":0,\"ticks\":\"\"}},\"type\":\"scattercarpet\"}],\"scattergeo\":[{\"marker\":{\"colorbar\":{\"outlinewidth\":0,\"ticks\":\"\"}},\"type\":\"scattergeo\"}],\"scattergl\":[{\"marker\":{\"colorbar\":{\"outlinewidth\":0,\"ticks\":\"\"}},\"type\":\"scattergl\"}],\"scattermapbox\":[{\"marker\":{\"colorbar\":{\"outlinewidth\":0,\"ticks\":\"\"}},\"type\":\"scattermapbox\"}],\"scatterpolar\":[{\"marker\":{\"colorbar\":{\"outlinewidth\":0,\"ticks\":\"\"}},\"type\":\"scatterpolar\"}],\"scatterpolargl\":[{\"marker\":{\"colorbar\":{\"outlinewidth\":0,\"ticks\":\"\"}},\"type\":\"scatterpolargl\"}],\"scatterternary\":[{\"marker\":{\"colorbar\":{\"outlinewidth\":0,\"ticks\":\"\"}},\"type\":\"scatterternary\"}],\"surface\":[{\"colorbar\":{\"outlinewidth\":0,\"ticks\":\"\"},\"colorscale\":[[0.0,\"#0d0887\"],[0.1111111111111111,\"#46039f\"],[0.2222222222222222,\"#7201a8\"],[0.3333333333333333,\"#9c179e\"],[0.4444444444444444,\"#bd3786\"],[0.5555555555555556,\"#d8576b\"],[0.6666666666666666,\"#ed7953\"],[0.7777777777777778,\"#fb9f3a\"],[0.8888888888888888,\"#fdca26\"],[1.0,\"#f0f921\"]],\"type\":\"surface\"}],\"table\":[{\"cells\":{\"fill\":{\"color\":\"#EBF0F8\"},\"line\":{\"color\":\"white\"}},\"header\":{\"fill\":{\"color\":\"#C8D4E3\"},\"line\":{\"color\":\"white\"}},\"type\":\"table\"}]},\"layout\":{\"annotationdefaults\":{\"arrowcolor\":\"#2a3f5f\",\"arrowhead\":0,\"arrowwidth\":1},\"autotypenumbers\":\"strict\",\"coloraxis\":{\"colorbar\":{\"outlinewidth\":0,\"ticks\":\"\"}},\"colorscale\":{\"diverging\":[[0,\"#8e0152\"],[0.1,\"#c51b7d\"],[0.2,\"#de77ae\"],[0.3,\"#f1b6da\"],[0.4,\"#fde0ef\"],[0.5,\"#f7f7f7\"],[0.6,\"#e6f5d0\"],[0.7,\"#b8e186\"],[0.8,\"#7fbc41\"],[0.9,\"#4d9221\"],[1,\"#276419\"]],\"sequential\":[[0.0,\"#0d0887\"],[0.1111111111111111,\"#46039f\"],[0.2222222222222222,\"#7201a8\"],[0.3333333333333333,\"#9c179e\"],[0.4444444444444444,\"#bd3786\"],[0.5555555555555556,\"#d8576b\"],[0.6666666666666666,\"#ed7953\"],[0.7777777777777778,\"#fb9f3a\"],[0.8888888888888888,\"#fdca26\"],[1.0,\"#f0f921\"]],\"sequentialminus\":[[0.0,\"#0d0887\"],[0.1111111111111111,\"#46039f\"],[0.2222222222222222,\"#7201a8\"],[0.3333333333333333,\"#9c179e\"],[0.4444444444444444,\"#bd3786\"],[0.5555555555555556,\"#d8576b\"],[0.6666666666666666,\"#ed7953\"],[0.7777777777777778,\"#fb9f3a\"],[0.8888888888888888,\"#fdca26\"],[1.0,\"#f0f921\"]]},\"colorway\":[\"#636efa\",\"#EF553B\",\"#00cc96\",\"#ab63fa\",\"#FFA15A\",\"#19d3f3\",\"#FF6692\",\"#B6E880\",\"#FF97FF\",\"#FECB52\"],\"font\":{\"color\":\"#2a3f5f\"},\"geo\":{\"bgcolor\":\"white\",\"lakecolor\":\"white\",\"landcolor\":\"#E5ECF6\",\"showlakes\":true,\"showland\":true,\"subunitcolor\":\"white\"},\"hoverlabel\":{\"align\":\"left\"},\"hovermode\":\"closest\",\"mapbox\":{\"style\":\"light\"},\"paper_bgcolor\":\"white\",\"plot_bgcolor\":\"#E5ECF6\",\"polar\":{\"angularaxis\":{\"gridcolor\":\"white\",\"linecolor\":\"white\",\"ticks\":\"\"},\"bgcolor\":\"#E5ECF6\",\"radialaxis\":{\"gridcolor\":\"white\",\"linecolor\":\"white\",\"ticks\":\"\"}},\"scene\":{\"xaxis\":{\"backgroundcolor\":\"#E5ECF6\",\"gridcolor\":\"white\",\"gridwidth\":2,\"linecolor\":\"white\",\"showbackground\":true,\"ticks\":\"\",\"zerolinecolor\":\"white\"},\"yaxis\":{\"backgroundcolor\":\"#E5ECF6\",\"gridcolor\":\"white\",\"gridwidth\":2,\"linecolor\":\"white\",\"showbackground\":true,\"ticks\":\"\",\"zerolinecolor\":\"white\"},\"zaxis\":{\"backgroundcolor\":\"#E5ECF6\",\"gridcolor\":\"white\",\"gridwidth\":2,\"linecolor\":\"white\",\"showbackground\":true,\"ticks\":\"\",\"zerolinecolor\":\"white\"}},\"shapedefaults\":{\"line\":{\"color\":\"#2a3f5f\"}},\"ternary\":{\"aaxis\":{\"gridcolor\":\"white\",\"linecolor\":\"white\",\"ticks\":\"\"},\"baxis\":{\"gridcolor\":\"white\",\"linecolor\":\"white\",\"ticks\":\"\"},\"bgcolor\":\"#E5ECF6\",\"caxis\":{\"gridcolor\":\"white\",\"linecolor\":\"white\",\"ticks\":\"\"}},\"title\":{\"x\":0.05},\"xaxis\":{\"automargin\":true,\"gridcolor\":\"white\",\"linecolor\":\"white\",\"ticks\":\"\",\"title\":{\"standoff\":15},\"zerolinecolor\":\"white\",\"zerolinewidth\":2},\"yaxis\":{\"automargin\":true,\"gridcolor\":\"white\",\"linecolor\":\"white\",\"ticks\":\"\",\"title\":{\"standoff\":15},\"zerolinecolor\":\"white\",\"zerolinewidth\":2}}},\"title\":{\"text\":\"Food vs Service Score\"},\"xaxis\":{\"anchor\":\"y\",\"domain\":[0.0,1.0],\"title\":{\"text\":\"Food Score\"}},\"yaxis\":{\"anchor\":\"x\",\"domain\":[0.0,1.0],\"title\":{\"text\":\"Service Score\"}}},                        {\"responsive\": true}                    ).then(function(){\n",
       "                            \n",
       "var gd = document.getElementById('cebf8120-4c1c-4fa3-8499-31ef31c58e0e');\n",
       "var x = new MutationObserver(function (mutations, observer) {{\n",
       "        var display = window.getComputedStyle(gd).display;\n",
       "        if (!display || display === 'none') {{\n",
       "            console.log([gd, 'removed!']);\n",
       "            Plotly.purge(gd);\n",
       "            observer.disconnect();\n",
       "        }}\n",
       "}});\n",
       "\n",
       "// Listen for the removal of the full notebook cells\n",
       "var notebookContainer = gd.closest('#notebook-container');\n",
       "if (notebookContainer) {{\n",
       "    x.observe(notebookContainer, {childList: true});\n",
       "}}\n",
       "\n",
       "// Listen for the clearing of the current output cell\n",
       "var outputEl = gd.closest('.output');\n",
       "if (outputEl) {{\n",
       "    x.observe(outputEl, {childList: true});\n",
       "}}\n",
       "\n",
       "                        })                };                });            </script>        </div>"
      ]
     },
     "metadata": {},
     "output_type": "display_data"
    }
   ],
   "source": [
    "import plotly.express as px\n",
    "fig = px.scatter(plot_df, x=\"Food Score\", y=\"Service Score\",\n",
    "                 color='Stars', hover_data=['Food Score'], hover_name=\"name\",\n",
    "                 size=\"Review Count\", title=\"Food vs Service Score\"\n",
    "                )\n",
    "# fig.update_traces(marker_size=15)\n",
    "# fig.write_html('../food_service_score.html')\n",
    "fig.show()"
   ]
  },
  {
   "cell_type": "code",
   "execution_count": 88,
   "id": "06ba2d82",
   "metadata": {},
   "outputs": [
    {
     "data": {
      "text/html": [
       "\n",
       "<div id=\"altair-viz-6a3450cc20354d60b39cc70a2b15ca15\"></div>\n",
       "<script type=\"text/javascript\">\n",
       "  var VEGA_DEBUG = (typeof VEGA_DEBUG == \"undefined\") ? {} : VEGA_DEBUG;\n",
       "  (function(spec, embedOpt){\n",
       "    let outputDiv = document.currentScript.previousElementSibling;\n",
       "    if (outputDiv.id !== \"altair-viz-6a3450cc20354d60b39cc70a2b15ca15\") {\n",
       "      outputDiv = document.getElementById(\"altair-viz-6a3450cc20354d60b39cc70a2b15ca15\");\n",
       "    }\n",
       "    const paths = {\n",
       "      \"vega\": \"https://cdn.jsdelivr.net/npm//vega@5?noext\",\n",
       "      \"vega-lib\": \"https://cdn.jsdelivr.net/npm//vega-lib?noext\",\n",
       "      \"vega-lite\": \"https://cdn.jsdelivr.net/npm//vega-lite@4.17.0?noext\",\n",
       "      \"vega-embed\": \"https://cdn.jsdelivr.net/npm//vega-embed@6?noext\",\n",
       "    };\n",
       "\n",
       "    function maybeLoadScript(lib, version) {\n",
       "      var key = `${lib.replace(\"-\", \"\")}_version`;\n",
       "      return (VEGA_DEBUG[key] == version) ?\n",
       "        Promise.resolve(paths[lib]) :\n",
       "        new Promise(function(resolve, reject) {\n",
       "          var s = document.createElement('script');\n",
       "          document.getElementsByTagName(\"head\")[0].appendChild(s);\n",
       "          s.async = true;\n",
       "          s.onload = () => {\n",
       "            VEGA_DEBUG[key] = version;\n",
       "            return resolve(paths[lib]);\n",
       "          };\n",
       "          s.onerror = () => reject(`Error loading script: ${paths[lib]}`);\n",
       "          s.src = paths[lib];\n",
       "        });\n",
       "    }\n",
       "\n",
       "    function showError(err) {\n",
       "      outputDiv.innerHTML = `<div class=\"error\" style=\"color:red;\">${err}</div>`;\n",
       "      throw err;\n",
       "    }\n",
       "\n",
       "    function displayChart(vegaEmbed) {\n",
       "      vegaEmbed(outputDiv, spec, embedOpt)\n",
       "        .catch(err => showError(`Javascript Error: ${err.message}<br>This usually means there's a typo in your chart specification. See the javascript console for the full traceback.`));\n",
       "    }\n",
       "\n",
       "    if(typeof define === \"function\" && define.amd) {\n",
       "      requirejs.config({paths});\n",
       "      require([\"vega-embed\"], displayChart, err => showError(`Error loading script: ${err.message}`));\n",
       "    } else {\n",
       "      maybeLoadScript(\"vega\", \"5\")\n",
       "        .then(() => maybeLoadScript(\"vega-lite\", \"4.17.0\"))\n",
       "        .then(() => maybeLoadScript(\"vega-embed\", \"6\"))\n",
       "        .catch(showError)\n",
       "        .then(() => displayChart(vegaEmbed));\n",
       "    }\n",
       "  })({\"config\": {\"view\": {\"continuousWidth\": 400, \"continuousHeight\": 300}}, \"data\": {\"name\": \"data-589e860961085bfc91a265c9f5c2e934\"}, \"mark\": {\"type\": \"circle\", \"size\": 70}, \"encoding\": {\"color\": {\"field\": \"Stars\", \"scale\": {\"scheme\": \"redblue\"}, \"type\": \"quantitative\"}, \"size\": {\"field\": \"Review Count\", \"type\": \"quantitative\"}, \"tooltip\": [{\"field\": \"name\", \"type\": \"nominal\"}, {\"field\": \"address\", \"type\": \"nominal\"}], \"x\": {\"field\": \"Food Score\", \"scale\": {\"zero\": false}, \"type\": \"quantitative\"}, \"y\": {\"field\": \"Service Score\", \"scale\": {\"padding\": 1, \"zero\": false}, \"type\": \"quantitative\"}}, \"title\": \" \", \"$schema\": \"https://vega.github.io/schema/vega-lite/v4.17.0.json\", \"datasets\": {\"data-589e860961085bfc91a265c9f5c2e934\": [{\"business_id\": \"gsicNDwrLH4WGeWMDcJv6w\", \"name\": \"Ahmed Indian Restaurant\", \"Food Score\": 0.24944444444444444, \"Service Score\": 0.34924242424242424, \"Environment Score\": 0.13333333333333336, \"Variety Score\": 0.2303312629399586, \"Music Score\": null, \"Drink Score\": 0.5, \"Sauce Score\": -0.0625, \"Stars\": 3.5, \"Review Count\": 146, \"address\": \"11301 S Orange Blossom Trl, Ste 104\"}, {\"business_id\": \"n4diWKcRvAFctwdRA6IPMg\", \"name\": \"Ahmed Indian Restaurant\", \"Food Score\": 0.2261961722488038, \"Service Score\": 0.40454545454545454, \"Environment Score\": 0.4916666666666667, \"Variety Score\": 0.17304421768707481, \"Music Score\": 0.0, \"Drink Score\": -0.2, \"Sauce Score\": 0.15833333333333335, \"Stars\": 4.0, \"Review Count\": 131, \"address\": \"10042 University Blvd\"}, {\"business_id\": \"riAMZdetrgWrwoUQUoJHRQ\", \"name\": \"Bachata Breeze Restaurant\", \"Food Score\": 0.15000000000000002, \"Service Score\": null, \"Environment Score\": null, \"Variety Score\": 0.65, \"Music Score\": null, \"Drink Score\": null, \"Sauce Score\": null, \"Stars\": 3.0, \"Review Count\": 9, \"address\": \"5773 Curry Ford Rd\"}, {\"business_id\": \"ZCDaGq6eJfG5qB4n3b78Ag\", \"name\": \"Backlot Express\", \"Food Score\": 0.22228370221327967, \"Service Score\": 0.35757575757575755, \"Environment Score\": 0.3, \"Variety Score\": 0.29316770186335406, \"Music Score\": null, \"Drink Score\": 0.05555555555555555, \"Sauce Score\": 0.23055555555555557, \"Stars\": 3.5, \"Review Count\": 129, \"address\": \"351 S Studio Dr\"}, {\"business_id\": \"gmRYAB3xneTOuK8I7UEQCg\", \"name\": \"Bamboo Garden Super Buffet\", \"Food Score\": -0.027500000000000004, \"Service Score\": 0.0, \"Environment Score\": null, \"Variety Score\": 0.3, \"Music Score\": null, \"Drink Score\": null, \"Sauce Score\": null, \"Stars\": 2.5, \"Review Count\": 11, \"address\": \"3125 Columbia Blvd\"}, {\"business_id\": \"CHTiicer1vhhJ0AfjuEHxA\", \"name\": \"Biergarten Restaurant\", \"Food Score\": 0.22279776110921695, \"Service Score\": 0.3887276785714286, \"Environment Score\": 0.3350279106858054, \"Variety Score\": 0.31013184843830005, \"Music Score\": 0.11050830889540564, \"Drink Score\": 0.1688839285714286, \"Sauce Score\": 0.3471153846153846, \"Stars\": 4.0, \"Review Count\": 596, \"address\": \"1510 Ave Of The Stars\"}, {\"business_id\": \"CnNt_kUkrJ-kpgPPGbMG4A\", \"name\": \"Boi Brazil Churrascaria\", \"Food Score\": 0.3976317663817664, \"Service Score\": 0.514932712215321, \"Environment Score\": 0.36083333333333334, \"Variety Score\": 0.2698936645365217, \"Music Score\": 0.2333333333333333, \"Drink Score\": 0.05, \"Sauce Score\": 0.0, \"Stars\": 4.0, \"Review Count\": 367, \"address\": \"5600 International Dr\"}, {\"business_id\": \"ft1njL-bedfFyefTlDJAyA\", \"name\": \"Boston Lobster Feast\", \"Food Score\": 0.11385249366018597, \"Service Score\": 0.4330362448009507, \"Environment Score\": 0.13999999999999999, \"Variety Score\": 0.23010673234811163, \"Music Score\": null, \"Drink Score\": 0.1980769230769231, \"Sauce Score\": 0.05089285714285714, \"Stars\": 3.0, \"Review Count\": 763, \"address\": \"8731 International Dr\"}, {\"business_id\": \"traOWnt8eIJlqsevJq27Mg\", \"name\": \"Breakfast with Goofy and his Pals\", \"Food Score\": 0.05500000000000003, \"Service Score\": -0.6999999999999998, \"Environment Score\": null, \"Variety Score\": null, \"Music Score\": null, \"Drink Score\": null, \"Sauce Score\": null, \"Stars\": 5.0, \"Review Count\": 9, \"address\": \"10100 Dream Tree Blvd\"}, {\"business_id\": \"SRxHN7ua5DQawthf7QMMUw\", \"name\": \"Buffet City\", \"Food Score\": 0.20844988344988347, \"Service Score\": 0.3125, \"Environment Score\": null, \"Variety Score\": 0.3746031746031746, \"Music Score\": 0.6, \"Drink Score\": null, \"Sauce Score\": null, \"Stars\": 3.0, \"Review Count\": 70, \"address\": \"4551 13th St\"}, {\"business_id\": \"FKeg0KQtVfBTLBpt7mBZvA\", \"name\": \"Caf\\u00e9 Osceola\", \"Food Score\": 0.4408333333333333, \"Service Score\": 0.16833333333333333, \"Environment Score\": 0.6, \"Variety Score\": 0.21945684523809522, \"Music Score\": null, \"Drink Score\": -0.0625, \"Sauce Score\": 0.6000000000000001, \"Stars\": 3.5, \"Review Count\": 54, \"address\": \"9939 Universal Blvd\"}, {\"business_id\": \"Nv_O0QRGbHwgTQhDC87rMg\", \"name\": \"Cafe Gauguin\", \"Food Score\": 0.061594202898550734, \"Service Score\": 0.44166666666666665, \"Environment Score\": null, \"Variety Score\": 0.3755952380952381, \"Music Score\": null, \"Drink Score\": 0.1, \"Sauce Score\": null, \"Stars\": 3.0, \"Review Count\": 49, \"address\": \"9840 International Dr\"}, {\"business_id\": \"OdbUi0riQRTDqvAHfGaT6g\", \"name\": \"Cafe Matisse\", \"Food Score\": 0.34259259259259256, \"Service Score\": 0.2, \"Environment Score\": null, \"Variety Score\": 0.287037037037037, \"Music Score\": null, \"Drink Score\": 0.0, \"Sauce Score\": null, \"Stars\": 3.0, \"Review Count\": 28, \"address\": \"9700 International Dr\"}, {\"business_id\": \"1pzN6Qp10vGqfRX66d4q5w\", \"name\": \"Chef Mickey's\", \"Food Score\": 0.22859582357533176, \"Service Score\": 0.3649659863945578, \"Environment Score\": 0.4790909090909091, \"Variety Score\": 0.3082694151486098, \"Music Score\": 0.0, \"Drink Score\": -0.046825396825396826, \"Sauce Score\": 0.0, \"Stars\": 3.5, \"Review Count\": 562, \"address\": \"4600 World Dr\"}, {\"business_id\": \"B2F2hFXUSbcr8dG69w6iVQ\", \"name\": \"Cici's Pizza\", \"Food Score\": 0.3041666666666667, \"Service Score\": 0.2027777777777778, \"Environment Score\": 0.26666666666666666, \"Variety Score\": 0.20113378684807257, \"Music Score\": null, \"Drink Score\": 0.022222222222222237, \"Sauce Score\": 0.0, \"Stars\": 2.5, \"Review Count\": 102, \"address\": \"7437 International Dr\"}, {\"business_id\": \"mb0IO3qQ0MMNmPypdz37fw\", \"name\": \"Cici's Pizza\", \"Food Score\": 0.42000000000000004, \"Service Score\": 0.0780952380952381, \"Environment Score\": null, \"Variety Score\": 0.1, \"Music Score\": null, \"Drink Score\": 0.22499999999999998, \"Sauce Score\": 0.0, \"Stars\": 2.5, \"Review Count\": 32, \"address\": \"11701 International Dr, Ste 2200\"}, {\"business_id\": \"TNpbiGJJd5iePBj19yTV_A\", \"name\": \"Cici's Pizza\", \"Food Score\": 0.2333333333333333, \"Service Score\": 0.74375, \"Environment Score\": 0.1, \"Variety Score\": 0.23333333333333334, \"Music Score\": null, \"Drink Score\": 0.16071428571428564, \"Sauce Score\": 0.0, \"Stars\": 3.0, \"Review Count\": 55, \"address\": \"5035 W Irlo Bronson Memorial Hwy\"}, {\"business_id\": \"8ardwENx6HbdkQaNv0AIyQ\", \"name\": \"Cici's Pizza\", \"Food Score\": 0.3433333333333333, \"Service Score\": 0.7, \"Environment Score\": 0.4777777777777777, \"Variety Score\": 0.20731292517006802, \"Music Score\": null, \"Drink Score\": 0.05, \"Sauce Score\": null, \"Stars\": 3.0, \"Review Count\": 35, \"address\": \"13605 Sr 535, Ste 101\"}, {\"business_id\": \"_715vG1M1uq8zIl05A9MmA\", \"name\": \"Covington Mill Restaurant\", \"Food Score\": 0.2513888888888889, \"Service Score\": 0.725, \"Environment Score\": -0.20000000000000007, \"Variety Score\": 0.37857142857142856, \"Music Score\": null, \"Drink Score\": null, \"Sauce Score\": null, \"Stars\": 4.0, \"Review Count\": 18, \"address\": \"1751 Hotel Plaza Blvd\"}, {\"business_id\": \"2C1A6GzXXRi_eEieQAmyRg\", \"name\": \"Crazy Buffet\", \"Food Score\": 0.19938088976550516, \"Service Score\": 0.02916666666666667, \"Environment Score\": -0.4, \"Variety Score\": 0.28058016749605535, \"Music Score\": null, \"Drink Score\": 0.21666666666666665, \"Sauce Score\": 0.0, \"Stars\": 3.5, \"Review Count\": 240, \"address\": \"7038 W Colonial Dr\"}, {\"business_id\": \"LEvt2r5fIQ1Iquy7N3KvCA\", \"name\": \"Crydermans Barbecue\", \"Food Score\": 0.40535714285714286, \"Service Score\": 0.30925925925925923, \"Environment Score\": 0.175, \"Variety Score\": 0.3277777777777778, \"Music Score\": 0.1666666666666666, \"Drink Score\": -0.014583333333333295, \"Sauce Score\": 0.281077694235589, \"Stars\": 4.5, \"Review Count\": 114, \"address\": \"401 Florida Ave\"}, {\"business_id\": \"hla1pV9SYTCZRzzxDVXz3g\", \"name\": \"Curry House Indian Cuisine\", \"Food Score\": 0.21428571428571427, \"Service Score\": 0.3013888888888889, \"Environment Score\": null, \"Variety Score\": 0.32380952380952377, \"Music Score\": null, \"Drink Score\": null, \"Sauce Score\": null, \"Stars\": 4.5, \"Review Count\": 16, \"address\": \"11352 S Orange Blossom Trl\"}, {\"business_id\": \"hmcXUPprL7ju7nzJlPIqlg\", \"name\": \"El Palacio Buffet\", \"Food Score\": 0.19007936507936507, \"Service Score\": 0.46458333333333335, \"Environment Score\": 0.48333333333333334, \"Variety Score\": 0.3860491071428571, \"Music Score\": null, \"Drink Score\": null, \"Sauce Score\": null, \"Stars\": 4.0, \"Review Count\": 38, \"address\": \"909 West Vine St\"}, {\"business_id\": \"J9e7IUn_FmZ7Y-OtUql6Ug\", \"name\": \"El Palacio Buffet\", \"Food Score\": 0.15195414913724772, \"Service Score\": 0.26805555555555555, \"Environment Score\": 0.16111111111111112, \"Variety Score\": 0.3576494427558258, \"Music Score\": null, \"Drink Score\": 0.043877551020408155, \"Sauce Score\": null, \"Stars\": 3.5, \"Review Count\": 152, \"address\": \"7403 S Orange Blossom Trl\"}, {\"business_id\": \"GLHa2PtTm9wL_cUvEYxkHQ\", \"name\": \"El Palacio Buffet\", \"Food Score\": 0.16428571428571428, \"Service Score\": 0.10060606060606059, \"Environment Score\": null, \"Variety Score\": 0.26, \"Music Score\": 0.0, \"Drink Score\": null, \"Sauce Score\": null, \"Stars\": 1.5, \"Review Count\": 26, \"address\": \"843 Lee Rd\"}, {\"business_id\": \"GrVFM_LptHyjc29h1rjVaA\", \"name\": \"El Potro\", \"Food Score\": 0.31419330289193304, \"Service Score\": 0.44614427860696515, \"Environment Score\": 0.2720238095238095, \"Variety Score\": 0.2954585537918871, \"Music Score\": 0.75, \"Drink Score\": 0.0833333333333333, \"Sauce Score\": 0.049999999999999996, \"Stars\": 4.0, \"Review Count\": 248, \"address\": \"501 N Orlando Ave, Ste 217\"}, {\"business_id\": \"Gj18ANQXr8x9H8IVTKKX6Q\", \"name\": \"Estrella Latina\", \"Food Score\": 0.04761904761904767, \"Service Score\": 0.7, \"Environment Score\": null, \"Variety Score\": null, \"Music Score\": null, \"Drink Score\": null, \"Sauce Score\": null, \"Stars\": 3.0, \"Review Count\": 8, \"address\": \"7371 Lake Underhill Rd\"}, {\"business_id\": \"wdLw1A1ytkTB7RKY4gIkjA\", \"name\": \"Fresh Mediterranean Market\", \"Food Score\": 0.07291666666666667, \"Service Score\": 0.23461538461538461, \"Environment Score\": 0.32222222222222224, \"Variety Score\": 0.29453781512605043, \"Music Score\": null, \"Drink Score\": 0.08828125, \"Sauce Score\": 0.0, \"Stars\": 3.5, \"Review Count\": 54, \"address\": \"1500 Epcot Resorts Blvd\"}, {\"business_id\": \"aSrwFbp5NdtaHvZvRCSmeg\", \"name\": \"Garden Grill Restaurant\", \"Food Score\": 0.2632301587301587, \"Service Score\": 0.40023148148148147, \"Environment Score\": 0.20714285714285713, \"Variety Score\": 0.3191751700680272, \"Music Score\": null, \"Drink Score\": 0.03314285714285714, \"Sauce Score\": 0.13958333333333334, \"Stars\": 4.0, \"Review Count\": 250, \"address\": \"1510 N Cove Rd\"}, {\"business_id\": \"2CMrHsjj4R4mVzmetypyFw\", \"name\": \"Gateway To India\", \"Food Score\": 0.2826028138528139, \"Service Score\": 0.3830246913580247, \"Environment Score\": 0.6916666666666667, \"Variety Score\": 0.36444444444444446, \"Music Score\": 0.101010101010101, \"Drink Score\": 0.26212121212121214, \"Sauce Score\": 0.0, \"Stars\": 4.0, \"Review Count\": 184, \"address\": \"790 E State Rd 434\"}, {\"business_id\": \"YiNBEgOGONm1vq7QMfjkjg\", \"name\": \"Giant Panda\", \"Food Score\": 0.1544047619047619, \"Service Score\": 0.024404761904761905, \"Environment Score\": 0.2555555555555556, \"Variety Score\": 0.28051568223443224, \"Music Score\": null, \"Drink Score\": 0.35, \"Sauce Score\": 0.041666666666666664, \"Stars\": 3.0, \"Review Count\": 159, \"address\": \"11726 E Colonial Dr\"}, {\"business_id\": \"lD62IuTkmNXwNc9_BNYr_w\", \"name\": \"Golden Corral Buffet & Grill\", \"Food Score\": 0.21694444444444447, \"Service Score\": 0.5923611111111111, \"Environment Score\": 0.35833333333333334, \"Variety Score\": 0.2, \"Music Score\": null, \"Drink Score\": -0.1875, \"Sauce Score\": null, \"Stars\": 3.0, \"Review Count\": 69, \"address\": \"11731 E. Colonial Drive\"}, {\"business_id\": \"EIVG9fe45-Meyg4uHv_2lQ\", \"name\": \"Golden Corral Buffet & Grill\", \"Food Score\": 0.25773809523809527, \"Service Score\": 0.32166666666666666, \"Environment Score\": null, \"Variety Score\": 0.033333333333333326, \"Music Score\": null, \"Drink Score\": null, \"Sauce Score\": null, \"Stars\": 2.5, \"Review Count\": 22, \"address\": \"7251 West Colonial Drive\"}, {\"business_id\": \"zqa5digfaYKtzgOnx8tzSQ\", \"name\": \"Golden Corral Buffet & Grill\", \"Food Score\": 0.14821428571428572, \"Service Score\": 0.41862745098039217, \"Environment Score\": null, \"Variety Score\": 0.3438775510204081, \"Music Score\": null, \"Drink Score\": -0.125, \"Sauce Score\": 0.125, \"Stars\": 2.0, \"Review Count\": 72, \"address\": \"5535 S Kirkman Rd\"}, {\"business_id\": \"_Zn7bmef51dkorKR8M91sw\", \"name\": \"Golden Corral Buffet & Grill\", \"Food Score\": 0.13874458874458875, \"Service Score\": 0.3355263157894737, \"Environment Score\": 0.38, \"Variety Score\": 0.28531746031746036, \"Music Score\": null, \"Drink Score\": 0.2, \"Sauce Score\": null, \"Stars\": 2.5, \"Review Count\": 160, \"address\": \"8707 Vineland Avenue\"}, {\"business_id\": \"pOuNx0bkXJ1QibLSBxDgig\", \"name\": \"Golden Corral Buffet & Grill\", \"Food Score\": -0.024056036556036556, \"Service Score\": 0.07986111111111112, \"Environment Score\": 0.05, \"Variety Score\": 0.23992673992673993, \"Music Score\": null, \"Drink Score\": 0.4333333333333333, \"Sauce Score\": 0.0, \"Stars\": 2.0, \"Review Count\": 107, \"address\": \"6077 W. Irlo Bronson Memorial\"}, {\"business_id\": \"QfWyyGjzgzNY_Qy7LZFV4A\", \"name\": \"Golden Corral Buffet & Grill\", \"Food Score\": 0.20877039627039626, \"Service Score\": 0.5236111111111111, \"Environment Score\": 0.3666666666666667, \"Variety Score\": 0.295875147579693, \"Music Score\": null, \"Drink Score\": 0.059090909090909076, \"Sauce Score\": 0.0, \"Stars\": 3.5, \"Review Count\": 112, \"address\": \"11701 International Dr\"}, {\"business_id\": \"q2fO6kwLEa6PoCgy6_L1Dg\", \"name\": \"Golden Corral Buffet & Grill\", \"Food Score\": 0.22941176470588234, \"Service Score\": 0.37604166666666666, \"Environment Score\": -0.0833333333333333, \"Variety Score\": 0.4828571428571428, \"Music Score\": null, \"Drink Score\": null, \"Sauce Score\": 0.25, \"Stars\": 3.5, \"Review Count\": 53, \"address\": \"2701 W Vine St\"}, {\"business_id\": \"Tm_28r-suhH8dUkjRoMjAA\", \"name\": \"Golden Corral Buffet & Grill\", \"Food Score\": 0.08169765840220386, \"Service Score\": 0.1875, \"Environment Score\": 0.10555555555555556, \"Variety Score\": 0.33938492063492065, \"Music Score\": null, \"Drink Score\": 0.11666666666666667, \"Sauce Score\": null, \"Stars\": 2.5, \"Review Count\": 123, \"address\": \"8032 International Drive\"}, {\"business_id\": \"cKfE2R3q3jHOAQIS8_ahmg\", \"name\": \"Golden Corral Buffet & Grill\", \"Food Score\": -0.06052631578947368, \"Service Score\": -0.0037878787878787945, \"Environment Score\": 0.8, \"Variety Score\": 0.38033126293995856, \"Music Score\": null, \"Drink Score\": null, \"Sauce Score\": null, \"Stars\": 2.5, \"Review Count\": 60, \"address\": \"897 West Town Parkway\"}, {\"business_id\": \"HeHoNEvd1aWlmlyITaH9bw\", \"name\": \"Golden Corral Buffet & Grill\", \"Food Score\": 0.19722222222222222, \"Service Score\": 0.45401785714285714, \"Environment Score\": 0.0, \"Variety Score\": 0.02713358070500927, \"Music Score\": null, \"Drink Score\": -0.1, \"Sauce Score\": null, \"Stars\": 2.5, \"Review Count\": 62, \"address\": \"2328 S. Semoran Blvd.\"}, {\"business_id\": \"6_xgMJrpfQWOBBcofc_QmQ\", \"name\": \"Golden Corral Buffet & Grill\", \"Food Score\": -0.022727272727272717, \"Service Score\": 0.2875, \"Environment Score\": null, \"Variety Score\": 0.27261904761904765, \"Music Score\": null, \"Drink Score\": null, \"Sauce Score\": null, \"Stars\": 3.0, \"Review Count\": 34, \"address\": \"1555 Grand Hwy\"}, {\"business_id\": \"GE2mJQ-4v1ljxdr0wx0bIw\", \"name\": \"Harvest Bistro\", \"Food Score\": 0.3718671679197995, \"Service Score\": 0.42126436781609194, \"Environment Score\": 0.48, \"Variety Score\": 0.31363636363636366, \"Music Score\": null, \"Drink Score\": 0.06666666666666667, \"Sauce Score\": 0.0, \"Stars\": 4.0, \"Review Count\": 84, \"address\": \"14100 Bonnet Creek Resort Ln\"}, {\"business_id\": \"A8A9qhSztrqB6TFKjnq-hA\", \"name\": \"Hokkaido Chinese & Japanese Buffet\", \"Food Score\": 0.22147869674185464, \"Service Score\": 0.25863095238095235, \"Environment Score\": 0.5722222222222223, \"Variety Score\": 0.36051698769395396, \"Music Score\": null, \"Drink Score\": 0.41428571428571426, \"Sauce Score\": -0.075, \"Stars\": 3.5, \"Review Count\": 369, \"address\": \"5737 W Irlo Bronson Memorial Hwy\"}, {\"business_id\": \"4bPz2NYimJ8ZVozbxLwyCA\", \"name\": \"Hokkaido Chinese & Japanese Buffet\", \"Food Score\": 0.17051042862610027, \"Service Score\": 0.08687500000000001, \"Environment Score\": 0.5333333333333333, \"Variety Score\": 0.3175195451314854, \"Music Score\": 0.0, \"Drink Score\": 0.035, \"Sauce Score\": 0.225, \"Stars\": 3.0, \"Review Count\": 316, \"address\": \"12173 S Apopka Vineland Rd\"}, {\"business_id\": \"6dLKGElV8Bt-1NhJNv8hKQ\", \"name\": \"Hollywood & Vine\", \"Food Score\": 0.255078125, \"Service Score\": 0.3642156862745098, \"Environment Score\": 0.26666666666666666, \"Variety Score\": 0.3301948051948052, \"Music Score\": 0.06000000000000001, \"Drink Score\": 0.029166666666666664, \"Sauce Score\": 0.51875, \"Stars\": 3.0, \"Review Count\": 284, \"address\": \"351 S Studio Dr\"}, {\"business_id\": \"iHmBoyZEWsJfryywZmrB8A\", \"name\": \"Ichiban Buffet\", \"Food Score\": 0.13019514767932489, \"Service Score\": 0.2274404761904762, \"Environment Score\": 0.5395833333333333, \"Variety Score\": 0.33486153326578855, \"Music Score\": null, \"Drink Score\": 0.125, \"Sauce Score\": 0.056547619047619034, \"Stars\": 3.0, \"Review Count\": 419, \"address\": \"5529 International Dr\"}, {\"business_id\": \"25iE1snCllaN2fCKodDyuQ\", \"name\": \"Ichiban Buffet\", \"Food Score\": -0.06166666666666666, \"Service Score\": 0.1464285714285714, \"Environment Score\": null, \"Variety Score\": 0.21632653061224488, \"Music Score\": null, \"Drink Score\": null, \"Sauce Score\": null, \"Stars\": 2.5, \"Review Count\": 29, \"address\": \"735 N Courtenay Pkwy\"}, {\"business_id\": \"Sx0IM4UyHbrRrA6QeulcGQ\", \"name\": \"Ichiban Buffet\", \"Food Score\": 0.14032909682909683, \"Service Score\": -0.028378378378378363, \"Environment Score\": 0.5, \"Variety Score\": 0.3288392857142857, \"Music Score\": null, \"Drink Score\": 0.05, \"Sauce Score\": -0.04270833333333333, \"Stars\": 3.0, \"Review Count\": 481, \"address\": \"5269 W Irlo Bronson Memorial Hwy\"}, {\"business_id\": \"GU4fAmdCcZDhIoq8kjBw1g\", \"name\": \"Ichigo Ichie Buffet\", \"Food Score\": 0.17405764966740575, \"Service Score\": 0.35694444444444445, \"Environment Score\": 0.2, \"Variety Score\": 0.3200113378684807, \"Music Score\": -0.44999999999999996, \"Drink Score\": null, \"Sauce Score\": null, \"Stars\": 3.0, \"Review Count\": 72, \"address\": \"3611 S Orlando Dr\"}, {\"business_id\": \"jQjYkev1KJlxyy6qqaWaGA\", \"name\": \"Izziban Sushi And Korean BBQ\", \"Food Score\": 0.3203080592876511, \"Service Score\": 0.33067909308916504, \"Environment Score\": 0.4071969696969697, \"Variety Score\": 0.33743026814455385, \"Music Score\": 0.22142857142857145, \"Drink Score\": 0.12492240463938577, \"Sauce Score\": 0.0844047619047619, \"Stars\": 3.5, \"Review Count\": 818, \"address\": \"5310 E Colonial Dr\"}, {\"business_id\": \"qWMOGUtoOE_h4Uk1_WOe8Q\", \"name\": \"King Buffet\", \"Food Score\": 0.10000000000000002, \"Service Score\": 0.0, \"Environment Score\": 0.0, \"Variety Score\": 0.16666666666666666, \"Music Score\": null, \"Drink Score\": null, \"Sauce Score\": null, \"Stars\": 2.5, \"Review Count\": 27, \"address\": \"2157 E Semoran Blvd\"}, {\"business_id\": \"3oGGAVCSVyS2GTwsl1mi1g\", \"name\": \"Koywan Hibachi Buffet\", \"Food Score\": 0.12686688311688313, \"Service Score\": 0.0050000000000000175, \"Environment Score\": 0.5555555555555556, \"Variety Score\": 0.3061695624195624, \"Music Score\": null, \"Drink Score\": 0.003333333333333341, \"Sauce Score\": 0.18714285714285714, \"Stars\": 3.0, \"Review Count\": 283, \"address\": \"945 W State Rd 436, Ste 1179\"}, {\"business_id\": \"LKEN4LlImPf0WzaEsjpcdw\", \"name\": \"La China Blue\", \"Food Score\": 0.19333333333333333, \"Service Score\": 0.2, \"Environment Score\": null, \"Variety Score\": 0.23285714285714282, \"Music Score\": null, \"Drink Score\": null, \"Sauce Score\": 0.11249999999999999, \"Stars\": 3.5, \"Review Count\": 39, \"address\": \"3749 S Kirkman Rd\"}, {\"business_id\": \"MBzso9nI1suMXtSLRkp0lg\", \"name\": \"Lai Lai Chinese Cuisine & Sushi Bar\", \"Food Score\": 0.185, \"Service Score\": 0.4428571428571429, \"Environment Score\": -0.1999999999999999, \"Variety Score\": 0.25416666666666665, \"Music Score\": null, \"Drink Score\": 0.0, \"Sauce Score\": 0.0, \"Stars\": 4.0, \"Review Count\": 67, \"address\": \"7400 Southland Blvd, Ste 116\"}, {\"business_id\": \"I6CqnODnNL8tbco4yC3XcQ\", \"name\": \"Latitude & Longitude\", \"Food Score\": 0.43333333333333335, \"Service Score\": 0.8000000000000002, \"Environment Score\": null, \"Variety Score\": 0.53125, \"Music Score\": null, \"Drink Score\": null, \"Sauce Score\": null, \"Stars\": 4.0, \"Review Count\": 28, \"address\": \"8701 World Center Drive\"}, {\"business_id\": \"QVQZnByRmO_w_IvzVE0fWA\", \"name\": \"Mandolin's\", \"Food Score\": 0.024999999999999994, \"Service Score\": -0.19999999999999998, \"Environment Score\": null, \"Variety Score\": 0.16666666666666666, \"Music Score\": null, \"Drink Score\": -0.25, \"Sauce Score\": 0.0, \"Stars\": 2.5, \"Review Count\": 12, \"address\": \"2900 Parkway Blvd\"}, {\"business_id\": \"fsMX2yJrYuJODzhyG8FqiA\", \"name\": \"Mei Asian China Buffet\", \"Food Score\": -0.029390175042348955, \"Service Score\": -0.14318181818181816, \"Environment Score\": 0.6, \"Variety Score\": 0.225, \"Music Score\": null, \"Drink Score\": -0.5, \"Sauce Score\": null, \"Stars\": 2.0, \"Review Count\": 133, \"address\": \"8255 International Dr, Ste 126\"}, {\"business_id\": \"ZcrkL6bFAqRC1pnALJy5Og\", \"name\": \"Mikado Japanese Seafood Buffet\", \"Food Score\": 0.2013690415864329, \"Service Score\": 0.3859717868338558, \"Environment Score\": 0.28833333333333333, \"Variety Score\": 0.3027675503190967, \"Music Score\": null, \"Drink Score\": -0.033333333333333326, \"Sauce Score\": 0.1683035714285714, \"Stars\": 4.0, \"Review Count\": 335, \"address\": \"851 S State Rd 434, Ste 1130-1170\"}, {\"business_id\": \"1IX3hFAxdqKwuyt9oElDpw\", \"name\": \"Moghul Indian Cuisine\", \"Food Score\": 0.21188492063492065, \"Service Score\": 0.4244379889116731, \"Environment Score\": 0.45833333333333337, \"Variety Score\": 0.21389872753509118, \"Music Score\": 0.0, \"Drink Score\": 0.03333333333333333, \"Sauce Score\": 0.1106060606060606, \"Stars\": 4.0, \"Review Count\": 280, \"address\": \"401 N Semoran Blvd\"}, {\"business_id\": \"2glp3Ug8GMrAYeP7JftPOA\", \"name\": \"Nine Spices Hot Pot\", \"Food Score\": 0.274042846042846, \"Service Score\": 0.3827934662236988, \"Environment Score\": 0.16666666666666666, \"Variety Score\": 0.31395211930926215, \"Music Score\": 0.3, \"Drink Score\": 0.2618421052631579, \"Sauce Score\": 0.3206556503198294, \"Stars\": 4.0, \"Review Count\": 492, \"address\": \"5320 S Kirkman Rd\"}, {\"business_id\": \"DXAnXWLbvlpboR6ZwLauDA\", \"name\": \"Oreganatta\", \"Food Score\": -0.29999999999999993, \"Service Score\": 0.39416666666666667, \"Environment Score\": 0.7, \"Variety Score\": 0.13652073732718895, \"Music Score\": 0.2333333333333333, \"Drink Score\": 0.044444444444444446, \"Sauce Score\": -0.020833333333333325, \"Stars\": 2.5, \"Review Count\": 75, \"address\": \"6320 International Dr\"}, {\"business_id\": \"KuQ-dokC0jaKWL3-px8qGQ\", \"name\": \"Phil-Asian Foodmart\", \"Food Score\": 0.4000000000000001, \"Service Score\": 0.7, \"Environment Score\": null, \"Variety Score\": 0.4, \"Music Score\": null, \"Drink Score\": null, \"Sauce Score\": null, \"Stars\": 4.5, \"Review Count\": 10, \"address\": \"2650 N Orange Blossom Trl\"}, {\"business_id\": \"t4p4SkyihBfI2p2IctGcFQ\", \"name\": \"Ponderosa Steakhouse\", \"Food Score\": 0.36041666666666666, \"Service Score\": 0.8666666666666667, \"Environment Score\": null, \"Variety Score\": null, \"Music Score\": null, \"Drink Score\": null, \"Sauce Score\": null, \"Stars\": 3.5, \"Review Count\": 21, \"address\": \"7598 W Irlo Bronson Memorial Hwy\"}, {\"business_id\": \"4UHqIiqzS2sgnhNi0cXtXw\", \"name\": \"Rosen Inn Lake Buena Vista\", \"Food Score\": 0.22391304347826088, \"Service Score\": -0.05373563218390805, \"Environment Score\": null, \"Variety Score\": 0.2775641025641026, \"Music Score\": null, \"Drink Score\": -0.03333333333333333, \"Sauce Score\": null, \"Stars\": 2.5, \"Review Count\": 140, \"address\": \"8442 Palm Pkwy\"}, {\"business_id\": \"DDvLLp9cT1m0U8SN-DYIKA\", \"name\": \"Saffron Indian Cuisine\", \"Food Score\": 0.3438917125631786, \"Service Score\": 0.5143689986282579, \"Environment Score\": 0.4654924242424242, \"Variety Score\": 0.3304883472691692, \"Music Score\": 0.1285714285714286, \"Drink Score\": 0.1863479262672811, \"Sauce Score\": 0.23583333333333334, \"Stars\": 4.5, \"Review Count\": 834, \"address\": \"7724 W Sand Lake Rd\"}, {\"business_id\": \"esHeBE48Fah6nuYKRS61KA\", \"name\": \"Saffron Indian Cuisine\", \"Food Score\": 0.21463414634146344, \"Service Score\": 0.22749999999999998, \"Environment Score\": null, \"Variety Score\": 0.17544642857142856, \"Music Score\": null, \"Drink Score\": -0.025, \"Sauce Score\": 0.35357142857142854, \"Stars\": 3.5, \"Review Count\": 70, \"address\": \"16745 Cagan Crossings Blvd, Ste 103@104\"}, {\"business_id\": \"bIwbjfRhiDOGnqkKXAoJ-Q\", \"name\": \"Savannah Bar and Grille\", \"Food Score\": 0.1666666666666667, \"Service Score\": 0.2833333333333333, \"Environment Score\": null, \"Variety Score\": 0.125, \"Music Score\": null, \"Drink Score\": null, \"Sauce Score\": null, \"Stars\": 2.5, \"Review Count\": 9, \"address\": \"3011 Maingate Ln\"}, {\"business_id\": \"U9lrX8Nviajz-74dF6zL7g\", \"name\": \"SeaWorld Orlando\", \"Food Score\": 0.11632302405498282, \"Service Score\": 0.05389784946236559, \"Environment Score\": 0.3011857707509882, \"Variety Score\": 0.21806972789115647, \"Music Score\": 0.12, \"Drink Score\": 0.20869565217391306, \"Sauce Score\": 0.0, \"Stars\": 3.5, \"Review Count\": 1082, \"address\": \"7007 SeaWorld Dr\"}, {\"business_id\": \"cQqDl2LsQw_JpbC-cu3KvA\", \"name\": \"Spice Indian Grill\", \"Food Score\": 0.2540983606557377, \"Service Score\": 0.4377450980392157, \"Environment Score\": 0.6, \"Variety Score\": 0.348, \"Music Score\": null, \"Drink Score\": 0.0, \"Sauce Score\": 0.35333333333333333, \"Stars\": 4.5, \"Review Count\": 88, \"address\": \"4498 N Alafaya Trl, Ste 306\"}, {\"business_id\": \"5K6W5eZKzJNImYVxHG7G4g\", \"name\": \"Texas de Brazil\", \"Food Score\": 0.43456319956319955, \"Service Score\": 0.420197837589142, \"Environment Score\": 0.4558080808080808, \"Variety Score\": 0.27916926406926407, \"Music Score\": 0.5, \"Drink Score\": 0.1409090909090909, \"Sauce Score\": 0.45370370370370366, \"Stars\": 4.0, \"Review Count\": 825, \"address\": \"5259 International Dr, Ste F1\"}, {\"business_id\": \"ZqYyavcfs69iGVnpn5t9Fg\", \"name\": \"The Crystal Palace\", \"Food Score\": 0.25577577931134415, \"Service Score\": 0.17102564102564102, \"Environment Score\": 0.6288461538461539, \"Variety Score\": 0.30027797921198934, \"Music Score\": null, \"Drink Score\": 0.06666666666666667, \"Sauce Score\": 0.0, \"Stars\": 3.5, \"Review Count\": 565, \"address\": \"1365 W Monorail Way\"}, {\"business_id\": \"3O8mfTK37HGnCgowSLG3bA\", \"name\": \"The Garden Gallery\", \"Food Score\": 0.20888888888888887, \"Service Score\": -0.1, \"Environment Score\": 0.3, \"Variety Score\": 0.19675324675324674, \"Music Score\": null, \"Drink Score\": null, \"Sauce Score\": null, \"Stars\": 3.5, \"Review Count\": 19, \"address\": \"1950 Magnolia Palm\"}, {\"business_id\": \"6-nX4fFhEBZBOGPZGGl5ng\", \"name\": \"The Knife - Lake Buena Vista\", \"Food Score\": 0.13030925013683636, \"Service Score\": 0.23160066006600663, \"Environment Score\": 0.48095238095238096, \"Variety Score\": 0.34310381810381807, \"Music Score\": 0.20189393939393938, \"Drink Score\": 0.12192460317460317, \"Sauce Score\": 0.07142857142857142, \"Stars\": 3.0, \"Review Count\": 462, \"address\": \"12501 State Rd 535\"}, {\"business_id\": \"Yttutdu1cYsHQU_nEu-ZDg\", \"name\": \"Tony's Brazilian Grill\", \"Food Score\": 0.3091666666666667, \"Service Score\": 0.4291666666666667, \"Environment Score\": 0.3416666666666667, \"Variety Score\": 0.19374999999999998, \"Music Score\": null, \"Drink Score\": 0.18333333333333335, \"Sauce Score\": 0.0, \"Stars\": 4.0, \"Review Count\": 53, \"address\": \"5159 International Dr\"}, {\"business_id\": \"5xjvDjN7s-FC00gkqAPqmA\", \"name\": \"Tropical Cabana\", \"Food Score\": 0.4456456456456457, \"Service Score\": 0.5541666666666667, \"Environment Score\": 0.15, \"Variety Score\": 0.5942307692307692, \"Music Score\": 0.1363636363636363, \"Drink Score\": 0.16944444444444443, \"Sauce Score\": 0.2916666666666667, \"Stars\": 5.0, \"Review Count\": 148, \"address\": \"1875 Central Florida Pkwy\"}, {\"business_id\": \"ets5rqez9CZGJ0Z1BN72mg\", \"name\": \"U & Me Revolving Hot Pot\", \"Food Score\": 0.5016666666666667, \"Service Score\": 0.38452380952380955, \"Environment Score\": 0.48888888888888893, \"Variety Score\": 0.33755411255411255, \"Music Score\": null, \"Drink Score\": 0.1041666666666667, \"Sauce Score\": 0.2375, \"Stars\": 4.0, \"Review Count\": 105, \"address\": \"12384 S Apopka Vineland Rd\"}, {\"business_id\": \"_vS_Bhzhoa5Z3CYVmUf5jg\", \"name\": \"Villa de Flora\", \"Food Score\": 0.28208333333333335, \"Service Score\": 0.4235507246376812, \"Environment Score\": 0.73125, \"Variety Score\": 0.3552813852813853, \"Music Score\": 0.18727272727272726, \"Drink Score\": 0.055844155844155835, \"Sauce Score\": 0.3333333333333333, \"Stars\": 3.5, \"Review Count\": 138, \"address\": \"6000 W Osceola Pkwy\"}, {\"business_id\": \"zsH_s5Lwh_OALAEewCsbew\", \"name\": \"Whistle Stop Restaurant\", \"Food Score\": 0.37777777777777777, \"Service Score\": null, \"Environment Score\": 0.8, \"Variety Score\": 0.25, \"Music Score\": null, \"Drink Score\": 0.4, \"Sauce Score\": null, \"Stars\": 4.0, \"Review Count\": 8, \"address\": \"2728 Cayman Cir\"}]}}, {\"padding\": {\"left\": 0, \"right\": 0, \"bottom\": 0, \"top\": 0}, \"mode\": \"vega-lite\"});\n",
       "</script>"
      ],
      "text/plain": [
       "alt.Chart(...)"
      ]
     },
     "execution_count": 88,
     "metadata": {},
     "output_type": "execute_result"
    }
   ],
   "source": [
    "import altair as alt\n",
    "from vega_datasets import data\n",
    "\n",
    "alt.renderers.set_embed_options(\n",
    "    padding={\"left\": 0, \"right\": 0, \"bottom\": 0, \"top\": 0}\n",
    ")\n",
    "\n",
    "chart = alt.Chart(plot_df, title=\" \").mark_circle(size=70).encode(\n",
    "    alt.X('Food Score', scale=alt.Scale(zero=False)),\n",
    "    alt.Y('Service Score', scale=alt.Scale(zero=False, padding=1)),\n",
    "    color=alt.Color(\"Stars\", scale=alt.Scale(scheme='redblue')),\n",
    "    size=alt.Size(\"Review Count\"),\n",
    "    tooltip=['name', 'address']\n",
    ")\n",
    "\n",
    "# chart.save('../food_service_score.html')\n",
    "\n",
    "chart"
   ]
  },
  {
   "cell_type": "code",
   "execution_count": 89,
   "id": "07a14c53",
   "metadata": {},
   "outputs": [],
   "source": [
    "import pandas as pd\n",
    "import numpy as np\n",
    "import altair as alt\n",
    "df = pd.read_csv(\"plot5_finalset.csv\")\n",
    "df.food_score = df.food_score.round(2)\n",
    "df.service_score = df.service_score.round(2)\n",
    "df = df.rename(columns={\"star_binning\":\"average_rating\"})\n",
    "df = df[[\"average_rating\", \"food_score\", \"service_score\", \"price\"]]\n",
    "df[\"average_rating\"] = df[\"average_rating\"].astype(\"category\")\n"
   ]
  },
  {
   "cell_type": "code",
   "execution_count": 90,
   "id": "95727d0c",
   "metadata": {},
   "outputs": [
    {
     "data": {
      "application/vnd.plotly.v1+json": {
       "config": {
        "plotlyServerURL": "https://plot.ly"
       },
       "data": [
        {
         "dimensions": [
          {
           "label": "average_rating",
           "ticktext": [
            "1",
            "2",
            "3",
            "4"
           ],
           "tickvals": [
            1,
            2,
            3,
            4
           ],
           "values": [
            3,
            3,
            3,
            3,
            3,
            2,
            4,
            2,
            3,
            2,
            2,
            3,
            2,
            2,
            2,
            2,
            3,
            3,
            4,
            3,
            3,
            2,
            3,
            3,
            2,
            3,
            2,
            2,
            2,
            2,
            2,
            3,
            2,
            2,
            2,
            1,
            3,
            1,
            3,
            3,
            2,
            2,
            2,
            2,
            2,
            2,
            3,
            2,
            2,
            3,
            3,
            3,
            2,
            1,
            3,
            3,
            3,
            2,
            4,
            3,
            2,
            4,
            3,
            2,
            3,
            4,
            3,
            3,
            3,
            2,
            3,
            4,
            3
           ]
          },
          {
           "label": "food_score",
           "values": [
            0.25,
            0.23,
            0.22,
            0.22,
            0.4,
            0.11,
            0.06,
            0.21,
            0.44,
            0.06,
            0.34,
            0.23,
            0.3,
            0.34,
            0.23,
            0.42,
            0.25,
            0.2,
            0.41,
            0.15,
            0.31,
            0.05,
            0.07,
            0.26,
            0.07,
            0.28,
            0.15,
            0.22,
            -0.02,
            0.26,
            0.2,
            0.21,
            0.08,
            0.14,
            -0.06,
            -0.02,
            0.23,
            0.15,
            0.37,
            0.22,
            0.17,
            0.26,
            -0.06,
            0.14,
            0.13,
            0.17,
            0.32,
            0.1,
            0.13,
            0.19,
            0.18,
            0.43,
            0.02,
            -0.03,
            0.2,
            0.21,
            0.27,
            -0.3,
            0.4,
            0.36,
            0.22,
            0.34,
            0.21,
            0.17,
            0.12,
            0.25,
            0.43,
            0.26,
            0.21,
            0.13,
            0.31,
            0.45,
            0.28
           ]
          },
          {
           "label": "service_score",
           "values": [
            0.35,
            0.4,
            0.36,
            0.39,
            0.51,
            0.43,
            -0.7,
            0.31,
            0.17,
            0.44,
            0.2,
            0.36,
            0.2,
            0.7,
            0.74,
            0.08,
            0.72,
            0.03,
            0.31,
            0.27,
            0.45,
            0.7,
            0.23,
            0.4,
            0.2,
            0.38,
            0.02,
            0.59,
            0.29,
            0.32,
            0.45,
            0.52,
            0.19,
            0.34,
            0,
            0.08,
            0.38,
            0.42,
            0.42,
            0.26,
            0.09,
            0.36,
            0.15,
            -0.03,
            0.23,
            0.36,
            0.33,
            0,
            0,
            0.2,
            0.44,
            0.8,
            -0.2,
            -0.14,
            0.39,
            0.42,
            0.38,
            0.39,
            0.7,
            0.87,
            -0.05,
            0.51,
            0.23,
            0.28,
            0.05,
            0.44,
            0.42,
            0.17,
            -0.1,
            0.23,
            0.43,
            0.55,
            0.42
           ]
          },
          {
           "label": "price",
           "ticktext": [
            "$",
            "$$",
            "$$$",
            "$$$$"
           ],
           "tickvals": [
            1,
            2,
            3,
            4
           ],
           "values": [
            2,
            2,
            2,
            3,
            2,
            3,
            4,
            1,
            2,
            2,
            2,
            3,
            1,
            1,
            1,
            1,
            2,
            2,
            2,
            2,
            2,
            1,
            2,
            3,
            2,
            2,
            2,
            2,
            2,
            2,
            2,
            2,
            2,
            2,
            2,
            2,
            2,
            2,
            2,
            2,
            2,
            3,
            2,
            2,
            2,
            2,
            2,
            1,
            2,
            1,
            2,
            2,
            2,
            2,
            2,
            2,
            2,
            1,
            1,
            2,
            2,
            2,
            2,
            2,
            4,
            2,
            3,
            3,
            2,
            3,
            2,
            1,
            3
           ],
           "visible": true
          }
         ],
         "line": {
          "cmax": 4,
          "cmin": 1,
          "color": [
           3,
           3,
           3,
           3,
           3,
           2,
           4,
           2,
           3,
           2,
           2,
           3,
           2,
           2,
           2,
           2,
           3,
           3,
           4,
           3,
           3,
           2,
           3,
           3,
           2,
           3,
           2,
           2,
           2,
           2,
           2,
           3,
           2,
           2,
           2,
           1,
           3,
           1,
           3,
           3,
           2,
           2,
           2,
           2,
           2,
           2,
           3,
           2,
           2,
           3,
           3,
           3,
           2,
           1,
           3,
           3,
           3,
           2,
           4,
           3,
           2,
           4,
           3,
           2,
           3,
           4,
           3,
           3,
           3,
           2,
           3,
           4,
           3
          ],
          "colorscale": [
           [
            0,
            "rgb(150,0,90)"
           ],
           [
            0.125,
            "rgb(0,0,200)"
           ],
           [
            0.25,
            "rgb(0,25,255)"
           ],
           [
            0.375,
            "rgb(0,152,255)"
           ],
           [
            0.5,
            "rgb(44,255,150)"
           ],
           [
            0.625,
            "rgb(151,255,0)"
           ],
           [
            0.75,
            "rgb(255,234,0)"
           ],
           [
            0.875,
            "rgb(255,111,0)"
           ],
           [
            1,
            "rgb(255,0,0)"
           ]
          ],
          "showscale": true
         },
         "type": "parcoords"
        }
       ],
       "layout": {
        "template": {
         "data": {
          "bar": [
           {
            "error_x": {
             "color": "#2a3f5f"
            },
            "error_y": {
             "color": "#2a3f5f"
            },
            "marker": {
             "line": {
              "color": "#E5ECF6",
              "width": 0.5
             },
             "pattern": {
              "fillmode": "overlay",
              "size": 10,
              "solidity": 0.2
             }
            },
            "type": "bar"
           }
          ],
          "barpolar": [
           {
            "marker": {
             "line": {
              "color": "#E5ECF6",
              "width": 0.5
             },
             "pattern": {
              "fillmode": "overlay",
              "size": 10,
              "solidity": 0.2
             }
            },
            "type": "barpolar"
           }
          ],
          "carpet": [
           {
            "aaxis": {
             "endlinecolor": "#2a3f5f",
             "gridcolor": "white",
             "linecolor": "white",
             "minorgridcolor": "white",
             "startlinecolor": "#2a3f5f"
            },
            "baxis": {
             "endlinecolor": "#2a3f5f",
             "gridcolor": "white",
             "linecolor": "white",
             "minorgridcolor": "white",
             "startlinecolor": "#2a3f5f"
            },
            "type": "carpet"
           }
          ],
          "choropleth": [
           {
            "colorbar": {
             "outlinewidth": 0,
             "ticks": ""
            },
            "type": "choropleth"
           }
          ],
          "contour": [
           {
            "colorbar": {
             "outlinewidth": 0,
             "ticks": ""
            },
            "colorscale": [
             [
              0,
              "#0d0887"
             ],
             [
              0.1111111111111111,
              "#46039f"
             ],
             [
              0.2222222222222222,
              "#7201a8"
             ],
             [
              0.3333333333333333,
              "#9c179e"
             ],
             [
              0.4444444444444444,
              "#bd3786"
             ],
             [
              0.5555555555555556,
              "#d8576b"
             ],
             [
              0.6666666666666666,
              "#ed7953"
             ],
             [
              0.7777777777777778,
              "#fb9f3a"
             ],
             [
              0.8888888888888888,
              "#fdca26"
             ],
             [
              1,
              "#f0f921"
             ]
            ],
            "type": "contour"
           }
          ],
          "contourcarpet": [
           {
            "colorbar": {
             "outlinewidth": 0,
             "ticks": ""
            },
            "type": "contourcarpet"
           }
          ],
          "heatmap": [
           {
            "colorbar": {
             "outlinewidth": 0,
             "ticks": ""
            },
            "colorscale": [
             [
              0,
              "#0d0887"
             ],
             [
              0.1111111111111111,
              "#46039f"
             ],
             [
              0.2222222222222222,
              "#7201a8"
             ],
             [
              0.3333333333333333,
              "#9c179e"
             ],
             [
              0.4444444444444444,
              "#bd3786"
             ],
             [
              0.5555555555555556,
              "#d8576b"
             ],
             [
              0.6666666666666666,
              "#ed7953"
             ],
             [
              0.7777777777777778,
              "#fb9f3a"
             ],
             [
              0.8888888888888888,
              "#fdca26"
             ],
             [
              1,
              "#f0f921"
             ]
            ],
            "type": "heatmap"
           }
          ],
          "heatmapgl": [
           {
            "colorbar": {
             "outlinewidth": 0,
             "ticks": ""
            },
            "colorscale": [
             [
              0,
              "#0d0887"
             ],
             [
              0.1111111111111111,
              "#46039f"
             ],
             [
              0.2222222222222222,
              "#7201a8"
             ],
             [
              0.3333333333333333,
              "#9c179e"
             ],
             [
              0.4444444444444444,
              "#bd3786"
             ],
             [
              0.5555555555555556,
              "#d8576b"
             ],
             [
              0.6666666666666666,
              "#ed7953"
             ],
             [
              0.7777777777777778,
              "#fb9f3a"
             ],
             [
              0.8888888888888888,
              "#fdca26"
             ],
             [
              1,
              "#f0f921"
             ]
            ],
            "type": "heatmapgl"
           }
          ],
          "histogram": [
           {
            "marker": {
             "pattern": {
              "fillmode": "overlay",
              "size": 10,
              "solidity": 0.2
             }
            },
            "type": "histogram"
           }
          ],
          "histogram2d": [
           {
            "colorbar": {
             "outlinewidth": 0,
             "ticks": ""
            },
            "colorscale": [
             [
              0,
              "#0d0887"
             ],
             [
              0.1111111111111111,
              "#46039f"
             ],
             [
              0.2222222222222222,
              "#7201a8"
             ],
             [
              0.3333333333333333,
              "#9c179e"
             ],
             [
              0.4444444444444444,
              "#bd3786"
             ],
             [
              0.5555555555555556,
              "#d8576b"
             ],
             [
              0.6666666666666666,
              "#ed7953"
             ],
             [
              0.7777777777777778,
              "#fb9f3a"
             ],
             [
              0.8888888888888888,
              "#fdca26"
             ],
             [
              1,
              "#f0f921"
             ]
            ],
            "type": "histogram2d"
           }
          ],
          "histogram2dcontour": [
           {
            "colorbar": {
             "outlinewidth": 0,
             "ticks": ""
            },
            "colorscale": [
             [
              0,
              "#0d0887"
             ],
             [
              0.1111111111111111,
              "#46039f"
             ],
             [
              0.2222222222222222,
              "#7201a8"
             ],
             [
              0.3333333333333333,
              "#9c179e"
             ],
             [
              0.4444444444444444,
              "#bd3786"
             ],
             [
              0.5555555555555556,
              "#d8576b"
             ],
             [
              0.6666666666666666,
              "#ed7953"
             ],
             [
              0.7777777777777778,
              "#fb9f3a"
             ],
             [
              0.8888888888888888,
              "#fdca26"
             ],
             [
              1,
              "#f0f921"
             ]
            ],
            "type": "histogram2dcontour"
           }
          ],
          "mesh3d": [
           {
            "colorbar": {
             "outlinewidth": 0,
             "ticks": ""
            },
            "type": "mesh3d"
           }
          ],
          "parcoords": [
           {
            "line": {
             "colorbar": {
              "outlinewidth": 0,
              "ticks": ""
             }
            },
            "type": "parcoords"
           }
          ],
          "pie": [
           {
            "automargin": true,
            "type": "pie"
           }
          ],
          "scatter": [
           {
            "marker": {
             "colorbar": {
              "outlinewidth": 0,
              "ticks": ""
             }
            },
            "type": "scatter"
           }
          ],
          "scatter3d": [
           {
            "line": {
             "colorbar": {
              "outlinewidth": 0,
              "ticks": ""
             }
            },
            "marker": {
             "colorbar": {
              "outlinewidth": 0,
              "ticks": ""
             }
            },
            "type": "scatter3d"
           }
          ],
          "scattercarpet": [
           {
            "marker": {
             "colorbar": {
              "outlinewidth": 0,
              "ticks": ""
             }
            },
            "type": "scattercarpet"
           }
          ],
          "scattergeo": [
           {
            "marker": {
             "colorbar": {
              "outlinewidth": 0,
              "ticks": ""
             }
            },
            "type": "scattergeo"
           }
          ],
          "scattergl": [
           {
            "marker": {
             "colorbar": {
              "outlinewidth": 0,
              "ticks": ""
             }
            },
            "type": "scattergl"
           }
          ],
          "scattermapbox": [
           {
            "marker": {
             "colorbar": {
              "outlinewidth": 0,
              "ticks": ""
             }
            },
            "type": "scattermapbox"
           }
          ],
          "scatterpolar": [
           {
            "marker": {
             "colorbar": {
              "outlinewidth": 0,
              "ticks": ""
             }
            },
            "type": "scatterpolar"
           }
          ],
          "scatterpolargl": [
           {
            "marker": {
             "colorbar": {
              "outlinewidth": 0,
              "ticks": ""
             }
            },
            "type": "scatterpolargl"
           }
          ],
          "scatterternary": [
           {
            "marker": {
             "colorbar": {
              "outlinewidth": 0,
              "ticks": ""
             }
            },
            "type": "scatterternary"
           }
          ],
          "surface": [
           {
            "colorbar": {
             "outlinewidth": 0,
             "ticks": ""
            },
            "colorscale": [
             [
              0,
              "#0d0887"
             ],
             [
              0.1111111111111111,
              "#46039f"
             ],
             [
              0.2222222222222222,
              "#7201a8"
             ],
             [
              0.3333333333333333,
              "#9c179e"
             ],
             [
              0.4444444444444444,
              "#bd3786"
             ],
             [
              0.5555555555555556,
              "#d8576b"
             ],
             [
              0.6666666666666666,
              "#ed7953"
             ],
             [
              0.7777777777777778,
              "#fb9f3a"
             ],
             [
              0.8888888888888888,
              "#fdca26"
             ],
             [
              1,
              "#f0f921"
             ]
            ],
            "type": "surface"
           }
          ],
          "table": [
           {
            "cells": {
             "fill": {
              "color": "#EBF0F8"
             },
             "line": {
              "color": "white"
             }
            },
            "header": {
             "fill": {
              "color": "#C8D4E3"
             },
             "line": {
              "color": "white"
             }
            },
            "type": "table"
           }
          ]
         },
         "layout": {
          "annotationdefaults": {
           "arrowcolor": "#2a3f5f",
           "arrowhead": 0,
           "arrowwidth": 1
          },
          "autotypenumbers": "strict",
          "coloraxis": {
           "colorbar": {
            "outlinewidth": 0,
            "ticks": ""
           }
          },
          "colorscale": {
           "diverging": [
            [
             0,
             "#8e0152"
            ],
            [
             0.1,
             "#c51b7d"
            ],
            [
             0.2,
             "#de77ae"
            ],
            [
             0.3,
             "#f1b6da"
            ],
            [
             0.4,
             "#fde0ef"
            ],
            [
             0.5,
             "#f7f7f7"
            ],
            [
             0.6,
             "#e6f5d0"
            ],
            [
             0.7,
             "#b8e186"
            ],
            [
             0.8,
             "#7fbc41"
            ],
            [
             0.9,
             "#4d9221"
            ],
            [
             1,
             "#276419"
            ]
           ],
           "sequential": [
            [
             0,
             "#0d0887"
            ],
            [
             0.1111111111111111,
             "#46039f"
            ],
            [
             0.2222222222222222,
             "#7201a8"
            ],
            [
             0.3333333333333333,
             "#9c179e"
            ],
            [
             0.4444444444444444,
             "#bd3786"
            ],
            [
             0.5555555555555556,
             "#d8576b"
            ],
            [
             0.6666666666666666,
             "#ed7953"
            ],
            [
             0.7777777777777778,
             "#fb9f3a"
            ],
            [
             0.8888888888888888,
             "#fdca26"
            ],
            [
             1,
             "#f0f921"
            ]
           ],
           "sequentialminus": [
            [
             0,
             "#0d0887"
            ],
            [
             0.1111111111111111,
             "#46039f"
            ],
            [
             0.2222222222222222,
             "#7201a8"
            ],
            [
             0.3333333333333333,
             "#9c179e"
            ],
            [
             0.4444444444444444,
             "#bd3786"
            ],
            [
             0.5555555555555556,
             "#d8576b"
            ],
            [
             0.6666666666666666,
             "#ed7953"
            ],
            [
             0.7777777777777778,
             "#fb9f3a"
            ],
            [
             0.8888888888888888,
             "#fdca26"
            ],
            [
             1,
             "#f0f921"
            ]
           ]
          },
          "colorway": [
           "#636efa",
           "#EF553B",
           "#00cc96",
           "#ab63fa",
           "#FFA15A",
           "#19d3f3",
           "#FF6692",
           "#B6E880",
           "#FF97FF",
           "#FECB52"
          ],
          "font": {
           "color": "#2a3f5f"
          },
          "geo": {
           "bgcolor": "white",
           "lakecolor": "white",
           "landcolor": "#E5ECF6",
           "showlakes": true,
           "showland": true,
           "subunitcolor": "white"
          },
          "hoverlabel": {
           "align": "left"
          },
          "hovermode": "closest",
          "mapbox": {
           "style": "light"
          },
          "paper_bgcolor": "white",
          "plot_bgcolor": "#E5ECF6",
          "polar": {
           "angularaxis": {
            "gridcolor": "white",
            "linecolor": "white",
            "ticks": ""
           },
           "bgcolor": "#E5ECF6",
           "radialaxis": {
            "gridcolor": "white",
            "linecolor": "white",
            "ticks": ""
           }
          },
          "scene": {
           "xaxis": {
            "backgroundcolor": "#E5ECF6",
            "gridcolor": "white",
            "gridwidth": 2,
            "linecolor": "white",
            "showbackground": true,
            "ticks": "",
            "zerolinecolor": "white"
           },
           "yaxis": {
            "backgroundcolor": "#E5ECF6",
            "gridcolor": "white",
            "gridwidth": 2,
            "linecolor": "white",
            "showbackground": true,
            "ticks": "",
            "zerolinecolor": "white"
           },
           "zaxis": {
            "backgroundcolor": "#E5ECF6",
            "gridcolor": "white",
            "gridwidth": 2,
            "linecolor": "white",
            "showbackground": true,
            "ticks": "",
            "zerolinecolor": "white"
           }
          },
          "shapedefaults": {
           "line": {
            "color": "#2a3f5f"
           }
          },
          "ternary": {
           "aaxis": {
            "gridcolor": "white",
            "linecolor": "white",
            "ticks": ""
           },
           "baxis": {
            "gridcolor": "white",
            "linecolor": "white",
            "ticks": ""
           },
           "bgcolor": "#E5ECF6",
           "caxis": {
            "gridcolor": "white",
            "linecolor": "white",
            "ticks": ""
           }
          },
          "title": {
           "x": 0.05
          },
          "xaxis": {
           "automargin": true,
           "gridcolor": "white",
           "linecolor": "white",
           "ticks": "",
           "title": {
            "standoff": 15
           },
           "zerolinecolor": "white",
           "zerolinewidth": 2
          },
          "yaxis": {
           "automargin": true,
           "gridcolor": "white",
           "linecolor": "white",
           "ticks": "",
           "title": {
            "standoff": 15
           },
           "zerolinecolor": "white",
           "zerolinewidth": 2
          }
         }
        }
       }
      },
      "text/html": [
       "<div>                            <div id=\"fed58e3b-b8ee-42c0-9a74-bd3eb672097d\" class=\"plotly-graph-div\" style=\"height:525px; width:100%;\"></div>            <script type=\"text/javascript\">                require([\"plotly\"], function(Plotly) {                    window.PLOTLYENV=window.PLOTLYENV || {};                                    if (document.getElementById(\"fed58e3b-b8ee-42c0-9a74-bd3eb672097d\")) {                    Plotly.newPlot(                        \"fed58e3b-b8ee-42c0-9a74-bd3eb672097d\",                        [{\"dimensions\":[{\"label\":\"average_rating\",\"ticktext\":[\"1\",\"2\",\"3\",\"4\"],\"tickvals\":[1,2,3,4],\"values\":[3,3,3,3,3,2,4,2,3,2,2,3,2,2,2,2,3,3,4,3,3,2,3,3,2,3,2,2,2,2,2,3,2,2,2,1,3,1,3,3,2,2,2,2,2,2,3,2,2,3,3,3,2,1,3,3,3,2,4,3,2,4,3,2,3,4,3,3,3,2,3,4,3]},{\"label\":\"food_score\",\"values\":[0.25,0.23,0.22,0.22,0.4,0.11,0.06,0.21,0.44,0.06,0.34,0.23,0.3,0.34,0.23,0.42,0.25,0.2,0.41,0.15,0.31,0.05,0.07,0.26,0.07,0.28,0.15,0.22,-0.02,0.26,0.2,0.21,0.08,0.14,-0.06,-0.02,0.23,0.15,0.37,0.22,0.17,0.26,-0.06,0.14,0.13,0.17,0.32,0.1,0.13,0.19,0.18,0.43,0.02,-0.03,0.2,0.21,0.27,-0.3,0.4,0.36,0.22,0.34,0.21,0.17,0.12,0.25,0.43,0.26,0.21,0.13,0.31,0.45,0.28]},{\"label\":\"service_score\",\"values\":[0.35,0.4,0.36,0.39,0.51,0.43,-0.7,0.31,0.17,0.44,0.2,0.36,0.2,0.7,0.74,0.08,0.72,0.03,0.31,0.27,0.45,0.7,0.23,0.4,0.2,0.38,0.02,0.59,0.29,0.32,0.45,0.52,0.19,0.34,-0.0,0.08,0.38,0.42,0.42,0.26,0.09,0.36,0.15,-0.03,0.23,0.36,0.33,0.0,0.0,0.2,0.44,0.8,-0.2,-0.14,0.39,0.42,0.38,0.39,0.7,0.87,-0.05,0.51,0.23,0.28,0.05,0.44,0.42,0.17,-0.1,0.23,0.43,0.55,0.42]},{\"label\":\"price\",\"ticktext\":[\"$\",\"$$\",\"$$$\",\"$$$$\"],\"tickvals\":[1,2,3,4],\"values\":[2,2,2,3,2,3,4,1,2,2,2,3,1,1,1,1,2,2,2,2,2,1,2,3,2,2,2,2,2,2,2,2,2,2,2,2,2,2,2,2,2,3,2,2,2,2,2,1,2,1,2,2,2,2,2,2,2,1,1,2,2,2,2,2,4,2,3,3,2,3,2,1,3],\"visible\":true}],\"line\":{\"cmax\":4,\"cmin\":1,\"color\":[3,3,3,3,3,2,4,2,3,2,2,3,2,2,2,2,3,3,4,3,3,2,3,3,2,3,2,2,2,2,2,3,2,2,2,1,3,1,3,3,2,2,2,2,2,2,3,2,2,3,3,3,2,1,3,3,3,2,4,3,2,4,3,2,3,4,3,3,3,2,3,4,3],\"colorscale\":[[0.0,\"rgb(150,0,90)\"],[0.125,\"rgb(0,0,200)\"],[0.25,\"rgb(0,25,255)\"],[0.375,\"rgb(0,152,255)\"],[0.5,\"rgb(44,255,150)\"],[0.625,\"rgb(151,255,0)\"],[0.75,\"rgb(255,234,0)\"],[0.875,\"rgb(255,111,0)\"],[1.0,\"rgb(255,0,0)\"]],\"showscale\":true},\"type\":\"parcoords\"}],                        {\"template\":{\"data\":{\"bar\":[{\"error_x\":{\"color\":\"#2a3f5f\"},\"error_y\":{\"color\":\"#2a3f5f\"},\"marker\":{\"line\":{\"color\":\"#E5ECF6\",\"width\":0.5},\"pattern\":{\"fillmode\":\"overlay\",\"size\":10,\"solidity\":0.2}},\"type\":\"bar\"}],\"barpolar\":[{\"marker\":{\"line\":{\"color\":\"#E5ECF6\",\"width\":0.5},\"pattern\":{\"fillmode\":\"overlay\",\"size\":10,\"solidity\":0.2}},\"type\":\"barpolar\"}],\"carpet\":[{\"aaxis\":{\"endlinecolor\":\"#2a3f5f\",\"gridcolor\":\"white\",\"linecolor\":\"white\",\"minorgridcolor\":\"white\",\"startlinecolor\":\"#2a3f5f\"},\"baxis\":{\"endlinecolor\":\"#2a3f5f\",\"gridcolor\":\"white\",\"linecolor\":\"white\",\"minorgridcolor\":\"white\",\"startlinecolor\":\"#2a3f5f\"},\"type\":\"carpet\"}],\"choropleth\":[{\"colorbar\":{\"outlinewidth\":0,\"ticks\":\"\"},\"type\":\"choropleth\"}],\"contour\":[{\"colorbar\":{\"outlinewidth\":0,\"ticks\":\"\"},\"colorscale\":[[0.0,\"#0d0887\"],[0.1111111111111111,\"#46039f\"],[0.2222222222222222,\"#7201a8\"],[0.3333333333333333,\"#9c179e\"],[0.4444444444444444,\"#bd3786\"],[0.5555555555555556,\"#d8576b\"],[0.6666666666666666,\"#ed7953\"],[0.7777777777777778,\"#fb9f3a\"],[0.8888888888888888,\"#fdca26\"],[1.0,\"#f0f921\"]],\"type\":\"contour\"}],\"contourcarpet\":[{\"colorbar\":{\"outlinewidth\":0,\"ticks\":\"\"},\"type\":\"contourcarpet\"}],\"heatmap\":[{\"colorbar\":{\"outlinewidth\":0,\"ticks\":\"\"},\"colorscale\":[[0.0,\"#0d0887\"],[0.1111111111111111,\"#46039f\"],[0.2222222222222222,\"#7201a8\"],[0.3333333333333333,\"#9c179e\"],[0.4444444444444444,\"#bd3786\"],[0.5555555555555556,\"#d8576b\"],[0.6666666666666666,\"#ed7953\"],[0.7777777777777778,\"#fb9f3a\"],[0.8888888888888888,\"#fdca26\"],[1.0,\"#f0f921\"]],\"type\":\"heatmap\"}],\"heatmapgl\":[{\"colorbar\":{\"outlinewidth\":0,\"ticks\":\"\"},\"colorscale\":[[0.0,\"#0d0887\"],[0.1111111111111111,\"#46039f\"],[0.2222222222222222,\"#7201a8\"],[0.3333333333333333,\"#9c179e\"],[0.4444444444444444,\"#bd3786\"],[0.5555555555555556,\"#d8576b\"],[0.6666666666666666,\"#ed7953\"],[0.7777777777777778,\"#fb9f3a\"],[0.8888888888888888,\"#fdca26\"],[1.0,\"#f0f921\"]],\"type\":\"heatmapgl\"}],\"histogram\":[{\"marker\":{\"pattern\":{\"fillmode\":\"overlay\",\"size\":10,\"solidity\":0.2}},\"type\":\"histogram\"}],\"histogram2d\":[{\"colorbar\":{\"outlinewidth\":0,\"ticks\":\"\"},\"colorscale\":[[0.0,\"#0d0887\"],[0.1111111111111111,\"#46039f\"],[0.2222222222222222,\"#7201a8\"],[0.3333333333333333,\"#9c179e\"],[0.4444444444444444,\"#bd3786\"],[0.5555555555555556,\"#d8576b\"],[0.6666666666666666,\"#ed7953\"],[0.7777777777777778,\"#fb9f3a\"],[0.8888888888888888,\"#fdca26\"],[1.0,\"#f0f921\"]],\"type\":\"histogram2d\"}],\"histogram2dcontour\":[{\"colorbar\":{\"outlinewidth\":0,\"ticks\":\"\"},\"colorscale\":[[0.0,\"#0d0887\"],[0.1111111111111111,\"#46039f\"],[0.2222222222222222,\"#7201a8\"],[0.3333333333333333,\"#9c179e\"],[0.4444444444444444,\"#bd3786\"],[0.5555555555555556,\"#d8576b\"],[0.6666666666666666,\"#ed7953\"],[0.7777777777777778,\"#fb9f3a\"],[0.8888888888888888,\"#fdca26\"],[1.0,\"#f0f921\"]],\"type\":\"histogram2dcontour\"}],\"mesh3d\":[{\"colorbar\":{\"outlinewidth\":0,\"ticks\":\"\"},\"type\":\"mesh3d\"}],\"parcoords\":[{\"line\":{\"colorbar\":{\"outlinewidth\":0,\"ticks\":\"\"}},\"type\":\"parcoords\"}],\"pie\":[{\"automargin\":true,\"type\":\"pie\"}],\"scatter\":[{\"marker\":{\"colorbar\":{\"outlinewidth\":0,\"ticks\":\"\"}},\"type\":\"scatter\"}],\"scatter3d\":[{\"line\":{\"colorbar\":{\"outlinewidth\":0,\"ticks\":\"\"}},\"marker\":{\"colorbar\":{\"outlinewidth\":0,\"ticks\":\"\"}},\"type\":\"scatter3d\"}],\"scattercarpet\":[{\"marker\":{\"colorbar\":{\"outlinewidth\":0,\"ticks\":\"\"}},\"type\":\"scattercarpet\"}],\"scattergeo\":[{\"marker\":{\"colorbar\":{\"outlinewidth\":0,\"ticks\":\"\"}},\"type\":\"scattergeo\"}],\"scattergl\":[{\"marker\":{\"colorbar\":{\"outlinewidth\":0,\"ticks\":\"\"}},\"type\":\"scattergl\"}],\"scattermapbox\":[{\"marker\":{\"colorbar\":{\"outlinewidth\":0,\"ticks\":\"\"}},\"type\":\"scattermapbox\"}],\"scatterpolar\":[{\"marker\":{\"colorbar\":{\"outlinewidth\":0,\"ticks\":\"\"}},\"type\":\"scatterpolar\"}],\"scatterpolargl\":[{\"marker\":{\"colorbar\":{\"outlinewidth\":0,\"ticks\":\"\"}},\"type\":\"scatterpolargl\"}],\"scatterternary\":[{\"marker\":{\"colorbar\":{\"outlinewidth\":0,\"ticks\":\"\"}},\"type\":\"scatterternary\"}],\"surface\":[{\"colorbar\":{\"outlinewidth\":0,\"ticks\":\"\"},\"colorscale\":[[0.0,\"#0d0887\"],[0.1111111111111111,\"#46039f\"],[0.2222222222222222,\"#7201a8\"],[0.3333333333333333,\"#9c179e\"],[0.4444444444444444,\"#bd3786\"],[0.5555555555555556,\"#d8576b\"],[0.6666666666666666,\"#ed7953\"],[0.7777777777777778,\"#fb9f3a\"],[0.8888888888888888,\"#fdca26\"],[1.0,\"#f0f921\"]],\"type\":\"surface\"}],\"table\":[{\"cells\":{\"fill\":{\"color\":\"#EBF0F8\"},\"line\":{\"color\":\"white\"}},\"header\":{\"fill\":{\"color\":\"#C8D4E3\"},\"line\":{\"color\":\"white\"}},\"type\":\"table\"}]},\"layout\":{\"annotationdefaults\":{\"arrowcolor\":\"#2a3f5f\",\"arrowhead\":0,\"arrowwidth\":1},\"autotypenumbers\":\"strict\",\"coloraxis\":{\"colorbar\":{\"outlinewidth\":0,\"ticks\":\"\"}},\"colorscale\":{\"diverging\":[[0,\"#8e0152\"],[0.1,\"#c51b7d\"],[0.2,\"#de77ae\"],[0.3,\"#f1b6da\"],[0.4,\"#fde0ef\"],[0.5,\"#f7f7f7\"],[0.6,\"#e6f5d0\"],[0.7,\"#b8e186\"],[0.8,\"#7fbc41\"],[0.9,\"#4d9221\"],[1,\"#276419\"]],\"sequential\":[[0.0,\"#0d0887\"],[0.1111111111111111,\"#46039f\"],[0.2222222222222222,\"#7201a8\"],[0.3333333333333333,\"#9c179e\"],[0.4444444444444444,\"#bd3786\"],[0.5555555555555556,\"#d8576b\"],[0.6666666666666666,\"#ed7953\"],[0.7777777777777778,\"#fb9f3a\"],[0.8888888888888888,\"#fdca26\"],[1.0,\"#f0f921\"]],\"sequentialminus\":[[0.0,\"#0d0887\"],[0.1111111111111111,\"#46039f\"],[0.2222222222222222,\"#7201a8\"],[0.3333333333333333,\"#9c179e\"],[0.4444444444444444,\"#bd3786\"],[0.5555555555555556,\"#d8576b\"],[0.6666666666666666,\"#ed7953\"],[0.7777777777777778,\"#fb9f3a\"],[0.8888888888888888,\"#fdca26\"],[1.0,\"#f0f921\"]]},\"colorway\":[\"#636efa\",\"#EF553B\",\"#00cc96\",\"#ab63fa\",\"#FFA15A\",\"#19d3f3\",\"#FF6692\",\"#B6E880\",\"#FF97FF\",\"#FECB52\"],\"font\":{\"color\":\"#2a3f5f\"},\"geo\":{\"bgcolor\":\"white\",\"lakecolor\":\"white\",\"landcolor\":\"#E5ECF6\",\"showlakes\":true,\"showland\":true,\"subunitcolor\":\"white\"},\"hoverlabel\":{\"align\":\"left\"},\"hovermode\":\"closest\",\"mapbox\":{\"style\":\"light\"},\"paper_bgcolor\":\"white\",\"plot_bgcolor\":\"#E5ECF6\",\"polar\":{\"angularaxis\":{\"gridcolor\":\"white\",\"linecolor\":\"white\",\"ticks\":\"\"},\"bgcolor\":\"#E5ECF6\",\"radialaxis\":{\"gridcolor\":\"white\",\"linecolor\":\"white\",\"ticks\":\"\"}},\"scene\":{\"xaxis\":{\"backgroundcolor\":\"#E5ECF6\",\"gridcolor\":\"white\",\"gridwidth\":2,\"linecolor\":\"white\",\"showbackground\":true,\"ticks\":\"\",\"zerolinecolor\":\"white\"},\"yaxis\":{\"backgroundcolor\":\"#E5ECF6\",\"gridcolor\":\"white\",\"gridwidth\":2,\"linecolor\":\"white\",\"showbackground\":true,\"ticks\":\"\",\"zerolinecolor\":\"white\"},\"zaxis\":{\"backgroundcolor\":\"#E5ECF6\",\"gridcolor\":\"white\",\"gridwidth\":2,\"linecolor\":\"white\",\"showbackground\":true,\"ticks\":\"\",\"zerolinecolor\":\"white\"}},\"shapedefaults\":{\"line\":{\"color\":\"#2a3f5f\"}},\"ternary\":{\"aaxis\":{\"gridcolor\":\"white\",\"linecolor\":\"white\",\"ticks\":\"\"},\"baxis\":{\"gridcolor\":\"white\",\"linecolor\":\"white\",\"ticks\":\"\"},\"bgcolor\":\"#E5ECF6\",\"caxis\":{\"gridcolor\":\"white\",\"linecolor\":\"white\",\"ticks\":\"\"}},\"title\":{\"x\":0.05},\"xaxis\":{\"automargin\":true,\"gridcolor\":\"white\",\"linecolor\":\"white\",\"ticks\":\"\",\"title\":{\"standoff\":15},\"zerolinecolor\":\"white\",\"zerolinewidth\":2},\"yaxis\":{\"automargin\":true,\"gridcolor\":\"white\",\"linecolor\":\"white\",\"ticks\":\"\",\"title\":{\"standoff\":15},\"zerolinecolor\":\"white\",\"zerolinewidth\":2}}}},                        {\"responsive\": true}                    ).then(function(){\n",
       "                            \n",
       "var gd = document.getElementById('fed58e3b-b8ee-42c0-9a74-bd3eb672097d');\n",
       "var x = new MutationObserver(function (mutations, observer) {{\n",
       "        var display = window.getComputedStyle(gd).display;\n",
       "        if (!display || display === 'none') {{\n",
       "            console.log([gd, 'removed!']);\n",
       "            Plotly.purge(gd);\n",
       "            observer.disconnect();\n",
       "        }}\n",
       "}});\n",
       "\n",
       "// Listen for the removal of the full notebook cells\n",
       "var notebookContainer = gd.closest('#notebook-container');\n",
       "if (notebookContainer) {{\n",
       "    x.observe(notebookContainer, {childList: true});\n",
       "}}\n",
       "\n",
       "// Listen for the clearing of the current output cell\n",
       "var outputEl = gd.closest('.output');\n",
       "if (outputEl) {{\n",
       "    x.observe(outputEl, {childList: true});\n",
       "}}\n",
       "\n",
       "                        })                };                });            </script>        </div>"
      ]
     },
     "metadata": {},
     "output_type": "display_data"
    }
   ],
   "source": [
    "import plotly.graph_objects as go\n",
    "\n",
    "import pandas as pd\n",
    "\n",
    "\n",
    "fig = go.Figure(data=\n",
    "    go.Parcoords(\n",
    "        line = dict(color = df['average_rating'],\n",
    "                   colorscale = 'rainbow',\n",
    "                   showscale = True,\n",
    "                   cmin = 1,\n",
    "                   cmax = 4),\n",
    "        dimensions = list([\n",
    "            dict(tickvals = [1,2,3,4],\n",
    "                 ticktext = ['1','2','3','4'],\n",
    "                 label = 'average_rating', values = df['average_rating']),\n",
    "            dict(\n",
    "                 label = 'food_score', values = df['food_score']),\n",
    "            dict(\n",
    "                 label = 'service_score', values = df['service_score']),\n",
    "            dict(tickvals = [1,2,3,4],\n",
    "                 ticktext = ['$','$$','$$$','$$$$'],\n",
    "                 visible = True,\n",
    "                 label = 'price', values = df['price'])])\n",
    "    )\n",
    ")\n",
    "fig.show()"
   ]
  },
  {
   "cell_type": "code",
   "execution_count": 91,
   "id": "2f1e6efb",
   "metadata": {},
   "outputs": [
    {
     "data": {
      "text/html": [
       "<div>\n",
       "<style scoped>\n",
       "    .dataframe tbody tr th:only-of-type {\n",
       "        vertical-align: middle;\n",
       "    }\n",
       "\n",
       "    .dataframe tbody tr th {\n",
       "        vertical-align: top;\n",
       "    }\n",
       "\n",
       "    .dataframe thead th {\n",
       "        text-align: right;\n",
       "    }\n",
       "</style>\n",
       "<table border=\"1\" class=\"dataframe\">\n",
       "  <thead>\n",
       "    <tr style=\"text-align: right;\">\n",
       "      <th></th>\n",
       "      <th>business_id</th>\n",
       "      <th>name</th>\n",
       "      <th>Food Score</th>\n",
       "      <th>Service Score</th>\n",
       "      <th>Environment Score</th>\n",
       "      <th>Variety Score</th>\n",
       "      <th>Music Score</th>\n",
       "      <th>Drink Score</th>\n",
       "      <th>Sauce Score</th>\n",
       "      <th>Stars</th>\n",
       "      <th>Review Count</th>\n",
       "      <th>address</th>\n",
       "    </tr>\n",
       "  </thead>\n",
       "  <tbody>\n",
       "    <tr>\n",
       "      <th>0</th>\n",
       "      <td>gsicNDwrLH4WGeWMDcJv6w</td>\n",
       "      <td>Ahmed Indian Restaurant</td>\n",
       "      <td>0.249444</td>\n",
       "      <td>0.349242</td>\n",
       "      <td>0.133333</td>\n",
       "      <td>0.230331</td>\n",
       "      <td>NaN</td>\n",
       "      <td>0.500000</td>\n",
       "      <td>-0.062500</td>\n",
       "      <td>3.5</td>\n",
       "      <td>146</td>\n",
       "      <td>11301 S Orange Blossom Trl, Ste 104</td>\n",
       "    </tr>\n",
       "    <tr>\n",
       "      <th>1</th>\n",
       "      <td>n4diWKcRvAFctwdRA6IPMg</td>\n",
       "      <td>Ahmed Indian Restaurant</td>\n",
       "      <td>0.226196</td>\n",
       "      <td>0.404545</td>\n",
       "      <td>0.491667</td>\n",
       "      <td>0.173044</td>\n",
       "      <td>0.0</td>\n",
       "      <td>-0.200000</td>\n",
       "      <td>0.158333</td>\n",
       "      <td>4.0</td>\n",
       "      <td>131</td>\n",
       "      <td>10042 University Blvd</td>\n",
       "    </tr>\n",
       "    <tr>\n",
       "      <th>14</th>\n",
       "      <td>B2F2hFXUSbcr8dG69w6iVQ</td>\n",
       "      <td>Cici's Pizza</td>\n",
       "      <td>0.304167</td>\n",
       "      <td>0.202778</td>\n",
       "      <td>0.266667</td>\n",
       "      <td>0.201134</td>\n",
       "      <td>NaN</td>\n",
       "      <td>0.022222</td>\n",
       "      <td>0.000000</td>\n",
       "      <td>2.5</td>\n",
       "      <td>102</td>\n",
       "      <td>7437 International Dr</td>\n",
       "    </tr>\n",
       "  </tbody>\n",
       "</table>\n",
       "</div>"
      ],
      "text/plain": [
       "               business_id                     name  Food Score  \\\n",
       "0   gsicNDwrLH4WGeWMDcJv6w  Ahmed Indian Restaurant    0.249444   \n",
       "1   n4diWKcRvAFctwdRA6IPMg  Ahmed Indian Restaurant    0.226196   \n",
       "14  B2F2hFXUSbcr8dG69w6iVQ             Cici's Pizza    0.304167   \n",
       "\n",
       "    Service Score  Environment Score  Variety Score  Music Score  Drink Score  \\\n",
       "0        0.349242           0.133333       0.230331          NaN     0.500000   \n",
       "1        0.404545           0.491667       0.173044          0.0    -0.200000   \n",
       "14       0.202778           0.266667       0.201134          NaN     0.022222   \n",
       "\n",
       "    Sauce Score  Stars  Review Count                              address  \n",
       "0     -0.062500    3.5           146  11301 S Orange Blossom Trl, Ste 104  \n",
       "1      0.158333    4.0           131                10042 University Blvd  \n",
       "14     0.000000    2.5           102                7437 International Dr  "
      ]
     },
     "execution_count": 91,
     "metadata": {},
     "output_type": "execute_result"
    }
   ],
   "source": [
    "buffet_restaurants = [\"Ahmed Indian Restaurant\",\"Cici's Pizza\",\n",
    "                     \"Crazy Buffet\",\"El Palacio Buffet\",\n",
    "                     \"Golden Corral Buffet & Grill\",\"Hokkaido Chinese & Japanese Buffet\",\n",
    "                     \"Ichiban Buffet\",\"Saffron Indian Cuisine\"]\n",
    "plot_df = plot_df[plot_df[\"name\"].isin(buffet_restaurants)]\n",
    "plot_df.head(3)"
   ]
  },
  {
   "cell_type": "code",
   "execution_count": 92,
   "id": "658aed2b",
   "metadata": {},
   "outputs": [],
   "source": [
    "names = [\"Food Score\",\"Service Score\",\"Environment Score\",\n",
    "        \"Variety Score\",\"Drink Score\", \"Sauce Score\", \"Stars\",\"Review Count\"]\n",
    "stacked = plot_df.reset_index()[names].corr(method=\"spearman\").stack().reset_index()\n",
    "stacked[\"row\"] = np.nan\n",
    "stacked[\"column\"] = np.nan\n",
    "prepare = []\n",
    "for i in range(len(names)):\n",
    "    for j in range(len(names)):\n",
    "        prepare.append([i+1,j+1])\n",
    "stacked[[\"row\", \"column\"]] = prepare"
   ]
  },
  {
   "cell_type": "code",
   "execution_count": 93,
   "id": "6281e017",
   "metadata": {},
   "outputs": [],
   "source": [
    "stacked.columns = [\"column_x\", \"column_y\", \"correlation\", \"row\", \"column\"]\n",
    "stacked.to_csv(\"../corr_data.csv\",index=False)"
   ]
  },
  {
   "cell_type": "code",
   "execution_count": 24,
   "id": "101f2f97",
   "metadata": {},
   "outputs": [
    {
     "data": {
      "text/html": [
       "<div>\n",
       "<style scoped>\n",
       "    .dataframe tbody tr th:only-of-type {\n",
       "        vertical-align: middle;\n",
       "    }\n",
       "\n",
       "    .dataframe tbody tr th {\n",
       "        vertical-align: top;\n",
       "    }\n",
       "\n",
       "    .dataframe thead th {\n",
       "        text-align: right;\n",
       "    }\n",
       "</style>\n",
       "<table border=\"1\" class=\"dataframe\">\n",
       "  <thead>\n",
       "    <tr style=\"text-align: right;\">\n",
       "      <th></th>\n",
       "      <th>Variable</th>\n",
       "      <th>Variable2</th>\n",
       "      <th>Correlation</th>\n",
       "      <th>correlation_label</th>\n",
       "    </tr>\n",
       "  </thead>\n",
       "  <tbody>\n",
       "    <tr>\n",
       "      <th>0</th>\n",
       "      <td>Food Score</td>\n",
       "      <td>Food Score</td>\n",
       "      <td>1.000000</td>\n",
       "      <td>1.00</td>\n",
       "    </tr>\n",
       "    <tr>\n",
       "      <th>1</th>\n",
       "      <td>Food Score</td>\n",
       "      <td>Service Score</td>\n",
       "      <td>0.444444</td>\n",
       "      <td>0.44</td>\n",
       "    </tr>\n",
       "    <tr>\n",
       "      <th>2</th>\n",
       "      <td>Food Score</td>\n",
       "      <td>Environment Score</td>\n",
       "      <td>-0.170130</td>\n",
       "      <td>-0.17</td>\n",
       "    </tr>\n",
       "    <tr>\n",
       "      <th>3</th>\n",
       "      <td>Food Score</td>\n",
       "      <td>Variety Score</td>\n",
       "      <td>-0.384784</td>\n",
       "      <td>-0.38</td>\n",
       "    </tr>\n",
       "    <tr>\n",
       "      <th>4</th>\n",
       "      <td>Food Score</td>\n",
       "      <td>Drink Score</td>\n",
       "      <td>0.032478</td>\n",
       "      <td>0.03</td>\n",
       "    </tr>\n",
       "    <tr>\n",
       "      <th>5</th>\n",
       "      <td>Food Score</td>\n",
       "      <td>Sauce Score</td>\n",
       "      <td>0.012080</td>\n",
       "      <td>0.01</td>\n",
       "    </tr>\n",
       "    <tr>\n",
       "      <th>6</th>\n",
       "      <td>Food Score</td>\n",
       "      <td>Stars</td>\n",
       "      <td>0.383552</td>\n",
       "      <td>0.38</td>\n",
       "    </tr>\n",
       "    <tr>\n",
       "      <th>7</th>\n",
       "      <td>Service Score</td>\n",
       "      <td>Food Score</td>\n",
       "      <td>0.444444</td>\n",
       "      <td>0.44</td>\n",
       "    </tr>\n",
       "    <tr>\n",
       "      <th>8</th>\n",
       "      <td>Service Score</td>\n",
       "      <td>Service Score</td>\n",
       "      <td>1.000000</td>\n",
       "      <td>1.00</td>\n",
       "    </tr>\n",
       "    <tr>\n",
       "      <th>9</th>\n",
       "      <td>Service Score</td>\n",
       "      <td>Environment Score</td>\n",
       "      <td>-0.151948</td>\n",
       "      <td>-0.15</td>\n",
       "    </tr>\n",
       "    <tr>\n",
       "      <th>10</th>\n",
       "      <td>Service Score</td>\n",
       "      <td>Variety Score</td>\n",
       "      <td>-0.104543</td>\n",
       "      <td>-0.10</td>\n",
       "    </tr>\n",
       "    <tr>\n",
       "      <th>11</th>\n",
       "      <td>Service Score</td>\n",
       "      <td>Drink Score</td>\n",
       "      <td>-0.291653</td>\n",
       "      <td>-0.29</td>\n",
       "    </tr>\n",
       "    <tr>\n",
       "      <th>12</th>\n",
       "      <td>Service Score</td>\n",
       "      <td>Sauce Score</td>\n",
       "      <td>0.259713</td>\n",
       "      <td>0.26</td>\n",
       "    </tr>\n",
       "    <tr>\n",
       "      <th>13</th>\n",
       "      <td>Service Score</td>\n",
       "      <td>Stars</td>\n",
       "      <td>0.368357</td>\n",
       "      <td>0.37</td>\n",
       "    </tr>\n",
       "    <tr>\n",
       "      <th>14</th>\n",
       "      <td>Environment Score</td>\n",
       "      <td>Food Score</td>\n",
       "      <td>-0.170130</td>\n",
       "      <td>-0.17</td>\n",
       "    </tr>\n",
       "    <tr>\n",
       "      <th>15</th>\n",
       "      <td>Environment Score</td>\n",
       "      <td>Service Score</td>\n",
       "      <td>-0.151948</td>\n",
       "      <td>-0.15</td>\n",
       "    </tr>\n",
       "    <tr>\n",
       "      <th>16</th>\n",
       "      <td>Environment Score</td>\n",
       "      <td>Environment Score</td>\n",
       "      <td>1.000000</td>\n",
       "      <td>1.00</td>\n",
       "    </tr>\n",
       "    <tr>\n",
       "      <th>17</th>\n",
       "      <td>Environment Score</td>\n",
       "      <td>Variety Score</td>\n",
       "      <td>0.293506</td>\n",
       "      <td>0.29</td>\n",
       "    </tr>\n",
       "    <tr>\n",
       "      <th>18</th>\n",
       "      <td>Environment Score</td>\n",
       "      <td>Drink Score</td>\n",
       "      <td>-0.155911</td>\n",
       "      <td>-0.16</td>\n",
       "    </tr>\n",
       "    <tr>\n",
       "      <th>19</th>\n",
       "      <td>Environment Score</td>\n",
       "      <td>Sauce Score</td>\n",
       "      <td>-0.096084</td>\n",
       "      <td>-0.10</td>\n",
       "    </tr>\n",
       "    <tr>\n",
       "      <th>20</th>\n",
       "      <td>Environment Score</td>\n",
       "      <td>Stars</td>\n",
       "      <td>0.123845</td>\n",
       "      <td>0.12</td>\n",
       "    </tr>\n",
       "    <tr>\n",
       "      <th>21</th>\n",
       "      <td>Variety Score</td>\n",
       "      <td>Food Score</td>\n",
       "      <td>-0.384784</td>\n",
       "      <td>-0.38</td>\n",
       "    </tr>\n",
       "    <tr>\n",
       "      <th>22</th>\n",
       "      <td>Variety Score</td>\n",
       "      <td>Service Score</td>\n",
       "      <td>-0.104543</td>\n",
       "      <td>-0.10</td>\n",
       "    </tr>\n",
       "    <tr>\n",
       "      <th>23</th>\n",
       "      <td>Variety Score</td>\n",
       "      <td>Environment Score</td>\n",
       "      <td>0.293506</td>\n",
       "      <td>0.29</td>\n",
       "    </tr>\n",
       "    <tr>\n",
       "      <th>24</th>\n",
       "      <td>Variety Score</td>\n",
       "      <td>Variety Score</td>\n",
       "      <td>1.000000</td>\n",
       "      <td>1.00</td>\n",
       "    </tr>\n",
       "    <tr>\n",
       "      <th>25</th>\n",
       "      <td>Variety Score</td>\n",
       "      <td>Drink Score</td>\n",
       "      <td>0.239039</td>\n",
       "      <td>0.24</td>\n",
       "    </tr>\n",
       "    <tr>\n",
       "      <th>26</th>\n",
       "      <td>Variety Score</td>\n",
       "      <td>Sauce Score</td>\n",
       "      <td>0.070968</td>\n",
       "      <td>0.07</td>\n",
       "    </tr>\n",
       "    <tr>\n",
       "      <th>27</th>\n",
       "      <td>Variety Score</td>\n",
       "      <td>Stars</td>\n",
       "      <td>0.238067</td>\n",
       "      <td>0.24</td>\n",
       "    </tr>\n",
       "    <tr>\n",
       "      <th>28</th>\n",
       "      <td>Drink Score</td>\n",
       "      <td>Food Score</td>\n",
       "      <td>0.032478</td>\n",
       "      <td>0.03</td>\n",
       "    </tr>\n",
       "    <tr>\n",
       "      <th>29</th>\n",
       "      <td>Drink Score</td>\n",
       "      <td>Service Score</td>\n",
       "      <td>-0.291653</td>\n",
       "      <td>-0.29</td>\n",
       "    </tr>\n",
       "    <tr>\n",
       "      <th>30</th>\n",
       "      <td>Drink Score</td>\n",
       "      <td>Environment Score</td>\n",
       "      <td>-0.155911</td>\n",
       "      <td>-0.16</td>\n",
       "    </tr>\n",
       "    <tr>\n",
       "      <th>31</th>\n",
       "      <td>Drink Score</td>\n",
       "      <td>Variety Score</td>\n",
       "      <td>0.239039</td>\n",
       "      <td>0.24</td>\n",
       "    </tr>\n",
       "    <tr>\n",
       "      <th>32</th>\n",
       "      <td>Drink Score</td>\n",
       "      <td>Drink Score</td>\n",
       "      <td>1.000000</td>\n",
       "      <td>1.00</td>\n",
       "    </tr>\n",
       "    <tr>\n",
       "      <th>33</th>\n",
       "      <td>Drink Score</td>\n",
       "      <td>Sauce Score</td>\n",
       "      <td>-0.606767</td>\n",
       "      <td>-0.61</td>\n",
       "    </tr>\n",
       "    <tr>\n",
       "      <th>34</th>\n",
       "      <td>Drink Score</td>\n",
       "      <td>Stars</td>\n",
       "      <td>0.030134</td>\n",
       "      <td>0.03</td>\n",
       "    </tr>\n",
       "    <tr>\n",
       "      <th>35</th>\n",
       "      <td>Sauce Score</td>\n",
       "      <td>Food Score</td>\n",
       "      <td>0.012080</td>\n",
       "      <td>0.01</td>\n",
       "    </tr>\n",
       "    <tr>\n",
       "      <th>36</th>\n",
       "      <td>Sauce Score</td>\n",
       "      <td>Service Score</td>\n",
       "      <td>0.259713</td>\n",
       "      <td>0.26</td>\n",
       "    </tr>\n",
       "    <tr>\n",
       "      <th>37</th>\n",
       "      <td>Sauce Score</td>\n",
       "      <td>Environment Score</td>\n",
       "      <td>-0.096084</td>\n",
       "      <td>-0.10</td>\n",
       "    </tr>\n",
       "    <tr>\n",
       "      <th>38</th>\n",
       "      <td>Sauce Score</td>\n",
       "      <td>Variety Score</td>\n",
       "      <td>0.070968</td>\n",
       "      <td>0.07</td>\n",
       "    </tr>\n",
       "    <tr>\n",
       "      <th>39</th>\n",
       "      <td>Sauce Score</td>\n",
       "      <td>Drink Score</td>\n",
       "      <td>-0.606767</td>\n",
       "      <td>-0.61</td>\n",
       "    </tr>\n",
       "    <tr>\n",
       "      <th>40</th>\n",
       "      <td>Sauce Score</td>\n",
       "      <td>Sauce Score</td>\n",
       "      <td>1.000000</td>\n",
       "      <td>1.00</td>\n",
       "    </tr>\n",
       "    <tr>\n",
       "      <th>41</th>\n",
       "      <td>Sauce Score</td>\n",
       "      <td>Stars</td>\n",
       "      <td>0.223797</td>\n",
       "      <td>0.22</td>\n",
       "    </tr>\n",
       "    <tr>\n",
       "      <th>42</th>\n",
       "      <td>Stars</td>\n",
       "      <td>Food Score</td>\n",
       "      <td>0.383552</td>\n",
       "      <td>0.38</td>\n",
       "    </tr>\n",
       "    <tr>\n",
       "      <th>43</th>\n",
       "      <td>Stars</td>\n",
       "      <td>Service Score</td>\n",
       "      <td>0.368357</td>\n",
       "      <td>0.37</td>\n",
       "    </tr>\n",
       "    <tr>\n",
       "      <th>44</th>\n",
       "      <td>Stars</td>\n",
       "      <td>Environment Score</td>\n",
       "      <td>0.123845</td>\n",
       "      <td>0.12</td>\n",
       "    </tr>\n",
       "    <tr>\n",
       "      <th>45</th>\n",
       "      <td>Stars</td>\n",
       "      <td>Variety Score</td>\n",
       "      <td>0.238067</td>\n",
       "      <td>0.24</td>\n",
       "    </tr>\n",
       "    <tr>\n",
       "      <th>46</th>\n",
       "      <td>Stars</td>\n",
       "      <td>Drink Score</td>\n",
       "      <td>0.030134</td>\n",
       "      <td>0.03</td>\n",
       "    </tr>\n",
       "    <tr>\n",
       "      <th>47</th>\n",
       "      <td>Stars</td>\n",
       "      <td>Sauce Score</td>\n",
       "      <td>0.223797</td>\n",
       "      <td>0.22</td>\n",
       "    </tr>\n",
       "    <tr>\n",
       "      <th>48</th>\n",
       "      <td>Stars</td>\n",
       "      <td>Stars</td>\n",
       "      <td>1.000000</td>\n",
       "      <td>1.00</td>\n",
       "    </tr>\n",
       "  </tbody>\n",
       "</table>\n",
       "</div>"
      ],
      "text/plain": [
       "             Variable          Variable2  Correlation correlation_label\n",
       "0          Food Score         Food Score     1.000000              1.00\n",
       "1          Food Score      Service Score     0.444444              0.44\n",
       "2          Food Score  Environment Score    -0.170130             -0.17\n",
       "3          Food Score      Variety Score    -0.384784             -0.38\n",
       "4          Food Score        Drink Score     0.032478              0.03\n",
       "5          Food Score        Sauce Score     0.012080              0.01\n",
       "6          Food Score              Stars     0.383552              0.38\n",
       "7       Service Score         Food Score     0.444444              0.44\n",
       "8       Service Score      Service Score     1.000000              1.00\n",
       "9       Service Score  Environment Score    -0.151948             -0.15\n",
       "10      Service Score      Variety Score    -0.104543             -0.10\n",
       "11      Service Score        Drink Score    -0.291653             -0.29\n",
       "12      Service Score        Sauce Score     0.259713              0.26\n",
       "13      Service Score              Stars     0.368357              0.37\n",
       "14  Environment Score         Food Score    -0.170130             -0.17\n",
       "15  Environment Score      Service Score    -0.151948             -0.15\n",
       "16  Environment Score  Environment Score     1.000000              1.00\n",
       "17  Environment Score      Variety Score     0.293506              0.29\n",
       "18  Environment Score        Drink Score    -0.155911             -0.16\n",
       "19  Environment Score        Sauce Score    -0.096084             -0.10\n",
       "20  Environment Score              Stars     0.123845              0.12\n",
       "21      Variety Score         Food Score    -0.384784             -0.38\n",
       "22      Variety Score      Service Score    -0.104543             -0.10\n",
       "23      Variety Score  Environment Score     0.293506              0.29\n",
       "24      Variety Score      Variety Score     1.000000              1.00\n",
       "25      Variety Score        Drink Score     0.239039              0.24\n",
       "26      Variety Score        Sauce Score     0.070968              0.07\n",
       "27      Variety Score              Stars     0.238067              0.24\n",
       "28        Drink Score         Food Score     0.032478              0.03\n",
       "29        Drink Score      Service Score    -0.291653             -0.29\n",
       "30        Drink Score  Environment Score    -0.155911             -0.16\n",
       "31        Drink Score      Variety Score     0.239039              0.24\n",
       "32        Drink Score        Drink Score     1.000000              1.00\n",
       "33        Drink Score        Sauce Score    -0.606767             -0.61\n",
       "34        Drink Score              Stars     0.030134              0.03\n",
       "35        Sauce Score         Food Score     0.012080              0.01\n",
       "36        Sauce Score      Service Score     0.259713              0.26\n",
       "37        Sauce Score  Environment Score    -0.096084             -0.10\n",
       "38        Sauce Score      Variety Score     0.070968              0.07\n",
       "39        Sauce Score        Drink Score    -0.606767             -0.61\n",
       "40        Sauce Score        Sauce Score     1.000000              1.00\n",
       "41        Sauce Score              Stars     0.223797              0.22\n",
       "42              Stars         Food Score     0.383552              0.38\n",
       "43              Stars      Service Score     0.368357              0.37\n",
       "44              Stars  Environment Score     0.123845              0.12\n",
       "45              Stars      Variety Score     0.238067              0.24\n",
       "46              Stars        Drink Score     0.030134              0.03\n",
       "47              Stars        Sauce Score     0.223797              0.22\n",
       "48              Stars              Stars     1.000000              1.00"
      ]
     },
     "execution_count": 24,
     "metadata": {},
     "output_type": "execute_result"
    }
   ],
   "source": [
    "cor_data = (plot_df[[\"Food Score\",\"Service Score\",\"Environment Score\",\n",
    "                     \"Variety Score\",\"Drink Score\", \"Sauce Score\", \"Stars\"]]\n",
    "              .corr(method=\"spearman\").stack()\n",
    "              .reset_index()     # The stacking results in an index on the correlation values, we need the index as normal columns for Altair\n",
    "              .rename(columns={0: 'Correlation', 'level_0': 'Variable', 'level_1': 'Variable2'}))\n",
    "cor_data['correlation_label'] = cor_data['Correlation'].map('{:.2f}'.format)  # Round to 2 decimal\n",
    "cor_data"
   ]
  },
  {
   "cell_type": "code",
   "execution_count": null,
   "id": "31150ced",
   "metadata": {},
   "outputs": [],
   "source": []
  },
  {
   "cell_type": "code",
   "execution_count": 19,
   "id": "14bc8b1e",
   "metadata": {},
   "outputs": [
    {
     "data": {
      "text/html": [
       "\n",
       "<div id=\"altair-viz-b640289bb5b9456a9251a4a6794c880a\"></div>\n",
       "<script type=\"text/javascript\">\n",
       "  var VEGA_DEBUG = (typeof VEGA_DEBUG == \"undefined\") ? {} : VEGA_DEBUG;\n",
       "  (function(spec, embedOpt){\n",
       "    let outputDiv = document.currentScript.previousElementSibling;\n",
       "    if (outputDiv.id !== \"altair-viz-b640289bb5b9456a9251a4a6794c880a\") {\n",
       "      outputDiv = document.getElementById(\"altair-viz-b640289bb5b9456a9251a4a6794c880a\");\n",
       "    }\n",
       "    const paths = {\n",
       "      \"vega\": \"https://cdn.jsdelivr.net/npm//vega@5?noext\",\n",
       "      \"vega-lib\": \"https://cdn.jsdelivr.net/npm//vega-lib?noext\",\n",
       "      \"vega-lite\": \"https://cdn.jsdelivr.net/npm//vega-lite@4.17.0?noext\",\n",
       "      \"vega-embed\": \"https://cdn.jsdelivr.net/npm//vega-embed@6?noext\",\n",
       "    };\n",
       "\n",
       "    function maybeLoadScript(lib, version) {\n",
       "      var key = `${lib.replace(\"-\", \"\")}_version`;\n",
       "      return (VEGA_DEBUG[key] == version) ?\n",
       "        Promise.resolve(paths[lib]) :\n",
       "        new Promise(function(resolve, reject) {\n",
       "          var s = document.createElement('script');\n",
       "          document.getElementsByTagName(\"head\")[0].appendChild(s);\n",
       "          s.async = true;\n",
       "          s.onload = () => {\n",
       "            VEGA_DEBUG[key] = version;\n",
       "            return resolve(paths[lib]);\n",
       "          };\n",
       "          s.onerror = () => reject(`Error loading script: ${paths[lib]}`);\n",
       "          s.src = paths[lib];\n",
       "        });\n",
       "    }\n",
       "\n",
       "    function showError(err) {\n",
       "      outputDiv.innerHTML = `<div class=\"error\" style=\"color:red;\">${err}</div>`;\n",
       "      throw err;\n",
       "    }\n",
       "\n",
       "    function displayChart(vegaEmbed) {\n",
       "      vegaEmbed(outputDiv, spec, embedOpt)\n",
       "        .catch(err => showError(`Javascript Error: ${err.message}<br>This usually means there's a typo in your chart specification. See the javascript console for the full traceback.`));\n",
       "    }\n",
       "\n",
       "    if(typeof define === \"function\" && define.amd) {\n",
       "      requirejs.config({paths});\n",
       "      require([\"vega-embed\"], displayChart, err => showError(`Error loading script: ${err.message}`));\n",
       "    } else {\n",
       "      maybeLoadScript(\"vega\", \"5\")\n",
       "        .then(() => maybeLoadScript(\"vega-lite\", \"4.17.0\"))\n",
       "        .then(() => maybeLoadScript(\"vega-embed\", \"6\"))\n",
       "        .catch(showError)\n",
       "        .then(() => displayChart(vegaEmbed));\n",
       "    }\n",
       "  })({\"config\": {\"view\": {\"continuousWidth\": 400, \"continuousHeight\": 300}}, \"data\": {\"name\": \"data-40c475351b48d066d7900b492ea37c0b\"}, \"mark\": \"point\", \"encoding\": {\"color\": {\"field\": \"name\", \"type\": \"nominal\"}, \"href\": {\"field\": \"url\", \"type\": \"nominal\"}, \"opacity\": {\"condition\": {\"value\": 1, \"selection\": \"selector001\"}, \"value\": 0.1}, \"tooltip\": [{\"field\": \"name\", \"type\": \"nominal\"}, {\"field\": \"url\", \"type\": \"nominal\"}, {\"field\": \"address\", \"type\": \"nominal\"}], \"x\": {\"field\": \"Food Score\", \"type\": \"quantitative\"}, \"y\": {\"field\": \"Stars\", \"type\": \"quantitative\"}}, \"selection\": {\"selector001\": {\"type\": \"multi\", \"fields\": [\"name\"], \"bind\": \"legend\"}}, \"title\": \"Food Score\", \"transform\": [{\"calculate\": \"('https://www.google.com/search?q=' + datum.name)\", \"as\": \"url\"}], \"$schema\": \"https://vega.github.io/schema/vega-lite/v4.17.0.json\", \"datasets\": {\"data-40c475351b48d066d7900b492ea37c0b\": [{\"business_id\": \"gsicNDwrLH4WGeWMDcJv6w\", \"name\": \"Ahmed Indian Restaurant\", \"Food Score\": 0.24944444444444444, \"Service Score\": 0.34924242424242424, \"Environment Score\": 0.13333333333333336, \"Variety Score\": 0.2303312629399586, \"Music Score\": null, \"Drink Score\": 0.5, \"Sauce Score\": -0.0625, \"Stars\": 3.5, \"Review Count\": 146, \"address\": \"11301 S Orange Blossom Trl, Ste 104\"}, {\"business_id\": \"n4diWKcRvAFctwdRA6IPMg\", \"name\": \"Ahmed Indian Restaurant\", \"Food Score\": 0.2261961722488038, \"Service Score\": 0.40454545454545454, \"Environment Score\": 0.4916666666666667, \"Variety Score\": 0.17304421768707481, \"Music Score\": 0.0, \"Drink Score\": -0.2, \"Sauce Score\": 0.15833333333333335, \"Stars\": 4.0, \"Review Count\": 131, \"address\": \"10042 University Blvd\"}, {\"business_id\": \"B2F2hFXUSbcr8dG69w6iVQ\", \"name\": \"Cici's Pizza\", \"Food Score\": 0.3041666666666667, \"Service Score\": 0.2027777777777778, \"Environment Score\": 0.26666666666666666, \"Variety Score\": 0.20113378684807257, \"Music Score\": null, \"Drink Score\": 0.022222222222222237, \"Sauce Score\": 0.0, \"Stars\": 2.5, \"Review Count\": 102, \"address\": \"7437 International Dr\"}, {\"business_id\": \"mb0IO3qQ0MMNmPypdz37fw\", \"name\": \"Cici's Pizza\", \"Food Score\": 0.42000000000000004, \"Service Score\": 0.0780952380952381, \"Environment Score\": null, \"Variety Score\": 0.1, \"Music Score\": null, \"Drink Score\": 0.22499999999999998, \"Sauce Score\": 0.0, \"Stars\": 2.5, \"Review Count\": 32, \"address\": \"11701 International Dr, Ste 2200\"}, {\"business_id\": \"TNpbiGJJd5iePBj19yTV_A\", \"name\": \"Cici's Pizza\", \"Food Score\": 0.2333333333333333, \"Service Score\": 0.74375, \"Environment Score\": 0.1, \"Variety Score\": 0.23333333333333334, \"Music Score\": null, \"Drink Score\": 0.16071428571428564, \"Sauce Score\": 0.0, \"Stars\": 3.0, \"Review Count\": 55, \"address\": \"5035 W Irlo Bronson Memorial Hwy\"}, {\"business_id\": \"8ardwENx6HbdkQaNv0AIyQ\", \"name\": \"Cici's Pizza\", \"Food Score\": 0.3433333333333333, \"Service Score\": 0.7, \"Environment Score\": 0.4777777777777777, \"Variety Score\": 0.20731292517006802, \"Music Score\": null, \"Drink Score\": 0.05, \"Sauce Score\": null, \"Stars\": 3.0, \"Review Count\": 35, \"address\": \"13605 Sr 535, Ste 101\"}, {\"business_id\": \"2C1A6GzXXRi_eEieQAmyRg\", \"name\": \"Crazy Buffet\", \"Food Score\": 0.19938088976550516, \"Service Score\": 0.02916666666666667, \"Environment Score\": -0.4, \"Variety Score\": 0.28058016749605535, \"Music Score\": null, \"Drink Score\": 0.21666666666666665, \"Sauce Score\": 0.0, \"Stars\": 3.5, \"Review Count\": 240, \"address\": \"7038 W Colonial Dr\"}, {\"business_id\": \"hmcXUPprL7ju7nzJlPIqlg\", \"name\": \"El Palacio Buffet\", \"Food Score\": 0.19007936507936507, \"Service Score\": 0.46458333333333335, \"Environment Score\": 0.48333333333333334, \"Variety Score\": 0.3860491071428571, \"Music Score\": null, \"Drink Score\": null, \"Sauce Score\": null, \"Stars\": 4.0, \"Review Count\": 38, \"address\": \"909 West Vine St\"}, {\"business_id\": \"J9e7IUn_FmZ7Y-OtUql6Ug\", \"name\": \"El Palacio Buffet\", \"Food Score\": 0.15195414913724772, \"Service Score\": 0.26805555555555555, \"Environment Score\": 0.16111111111111112, \"Variety Score\": 0.3576494427558258, \"Music Score\": null, \"Drink Score\": 0.043877551020408155, \"Sauce Score\": null, \"Stars\": 3.5, \"Review Count\": 152, \"address\": \"7403 S Orange Blossom Trl\"}, {\"business_id\": \"GLHa2PtTm9wL_cUvEYxkHQ\", \"name\": \"El Palacio Buffet\", \"Food Score\": 0.16428571428571428, \"Service Score\": 0.10060606060606059, \"Environment Score\": null, \"Variety Score\": 0.26, \"Music Score\": 0.0, \"Drink Score\": null, \"Sauce Score\": null, \"Stars\": 1.5, \"Review Count\": 26, \"address\": \"843 Lee Rd\"}, {\"business_id\": \"lD62IuTkmNXwNc9_BNYr_w\", \"name\": \"Golden Corral Buffet & Grill\", \"Food Score\": 0.21694444444444447, \"Service Score\": 0.5923611111111111, \"Environment Score\": 0.35833333333333334, \"Variety Score\": 0.2, \"Music Score\": null, \"Drink Score\": -0.1875, \"Sauce Score\": null, \"Stars\": 3.0, \"Review Count\": 69, \"address\": \"11731 E. Colonial Drive\"}, {\"business_id\": \"EIVG9fe45-Meyg4uHv_2lQ\", \"name\": \"Golden Corral Buffet & Grill\", \"Food Score\": 0.25773809523809527, \"Service Score\": 0.32166666666666666, \"Environment Score\": null, \"Variety Score\": 0.033333333333333326, \"Music Score\": null, \"Drink Score\": null, \"Sauce Score\": null, \"Stars\": 2.5, \"Review Count\": 22, \"address\": \"7251 West Colonial Drive\"}, {\"business_id\": \"zqa5digfaYKtzgOnx8tzSQ\", \"name\": \"Golden Corral Buffet & Grill\", \"Food Score\": 0.14821428571428572, \"Service Score\": 0.41862745098039217, \"Environment Score\": null, \"Variety Score\": 0.3438775510204081, \"Music Score\": null, \"Drink Score\": -0.125, \"Sauce Score\": 0.125, \"Stars\": 2.0, \"Review Count\": 72, \"address\": \"5535 S Kirkman Rd\"}, {\"business_id\": \"_Zn7bmef51dkorKR8M91sw\", \"name\": \"Golden Corral Buffet & Grill\", \"Food Score\": 0.13874458874458875, \"Service Score\": 0.3355263157894737, \"Environment Score\": 0.38, \"Variety Score\": 0.28531746031746036, \"Music Score\": null, \"Drink Score\": 0.2, \"Sauce Score\": null, \"Stars\": 2.5, \"Review Count\": 160, \"address\": \"8707 Vineland Avenue\"}, {\"business_id\": \"pOuNx0bkXJ1QibLSBxDgig\", \"name\": \"Golden Corral Buffet & Grill\", \"Food Score\": -0.024056036556036556, \"Service Score\": 0.07986111111111112, \"Environment Score\": 0.05, \"Variety Score\": 0.23992673992673993, \"Music Score\": null, \"Drink Score\": 0.4333333333333333, \"Sauce Score\": 0.0, \"Stars\": 2.0, \"Review Count\": 107, \"address\": \"6077 W. Irlo Bronson Memorial\"}, {\"business_id\": \"QfWyyGjzgzNY_Qy7LZFV4A\", \"name\": \"Golden Corral Buffet & Grill\", \"Food Score\": 0.20877039627039626, \"Service Score\": 0.5236111111111111, \"Environment Score\": 0.3666666666666667, \"Variety Score\": 0.295875147579693, \"Music Score\": null, \"Drink Score\": 0.059090909090909076, \"Sauce Score\": 0.0, \"Stars\": 3.5, \"Review Count\": 112, \"address\": \"11701 International Dr\"}, {\"business_id\": \"q2fO6kwLEa6PoCgy6_L1Dg\", \"name\": \"Golden Corral Buffet & Grill\", \"Food Score\": 0.22941176470588234, \"Service Score\": 0.37604166666666666, \"Environment Score\": -0.0833333333333333, \"Variety Score\": 0.4828571428571428, \"Music Score\": null, \"Drink Score\": null, \"Sauce Score\": 0.25, \"Stars\": 3.5, \"Review Count\": 53, \"address\": \"2701 W Vine St\"}, {\"business_id\": \"Tm_28r-suhH8dUkjRoMjAA\", \"name\": \"Golden Corral Buffet & Grill\", \"Food Score\": 0.08169765840220386, \"Service Score\": 0.1875, \"Environment Score\": 0.10555555555555556, \"Variety Score\": 0.33938492063492065, \"Music Score\": null, \"Drink Score\": 0.11666666666666667, \"Sauce Score\": null, \"Stars\": 2.5, \"Review Count\": 123, \"address\": \"8032 International Drive\"}, {\"business_id\": \"cKfE2R3q3jHOAQIS8_ahmg\", \"name\": \"Golden Corral Buffet & Grill\", \"Food Score\": -0.06052631578947368, \"Service Score\": -0.0037878787878787945, \"Environment Score\": 0.8, \"Variety Score\": 0.38033126293995856, \"Music Score\": null, \"Drink Score\": null, \"Sauce Score\": null, \"Stars\": 2.5, \"Review Count\": 60, \"address\": \"897 West Town Parkway\"}, {\"business_id\": \"HeHoNEvd1aWlmlyITaH9bw\", \"name\": \"Golden Corral Buffet & Grill\", \"Food Score\": 0.19722222222222222, \"Service Score\": 0.45401785714285714, \"Environment Score\": 0.0, \"Variety Score\": 0.02713358070500927, \"Music Score\": null, \"Drink Score\": -0.1, \"Sauce Score\": null, \"Stars\": 2.5, \"Review Count\": 62, \"address\": \"2328 S. Semoran Blvd.\"}, {\"business_id\": \"6_xgMJrpfQWOBBcofc_QmQ\", \"name\": \"Golden Corral Buffet & Grill\", \"Food Score\": -0.022727272727272717, \"Service Score\": 0.2875, \"Environment Score\": null, \"Variety Score\": 0.27261904761904765, \"Music Score\": null, \"Drink Score\": null, \"Sauce Score\": null, \"Stars\": 3.0, \"Review Count\": 34, \"address\": \"1555 Grand Hwy\"}, {\"business_id\": \"A8A9qhSztrqB6TFKjnq-hA\", \"name\": \"Hokkaido Chinese & Japanese Buffet\", \"Food Score\": 0.22147869674185464, \"Service Score\": 0.25863095238095235, \"Environment Score\": 0.5722222222222223, \"Variety Score\": 0.36051698769395396, \"Music Score\": null, \"Drink Score\": 0.41428571428571426, \"Sauce Score\": -0.075, \"Stars\": 3.5, \"Review Count\": 369, \"address\": \"5737 W Irlo Bronson Memorial Hwy\"}, {\"business_id\": \"4bPz2NYimJ8ZVozbxLwyCA\", \"name\": \"Hokkaido Chinese & Japanese Buffet\", \"Food Score\": 0.17051042862610027, \"Service Score\": 0.08687500000000001, \"Environment Score\": 0.5333333333333333, \"Variety Score\": 0.3175195451314854, \"Music Score\": 0.0, \"Drink Score\": 0.035, \"Sauce Score\": 0.225, \"Stars\": 3.0, \"Review Count\": 316, \"address\": \"12173 S Apopka Vineland Rd\"}, {\"business_id\": \"iHmBoyZEWsJfryywZmrB8A\", \"name\": \"Ichiban Buffet\", \"Food Score\": 0.13019514767932489, \"Service Score\": 0.2274404761904762, \"Environment Score\": 0.5395833333333333, \"Variety Score\": 0.33486153326578855, \"Music Score\": null, \"Drink Score\": 0.125, \"Sauce Score\": 0.056547619047619034, \"Stars\": 3.0, \"Review Count\": 419, \"address\": \"5529 International Dr\"}, {\"business_id\": \"25iE1snCllaN2fCKodDyuQ\", \"name\": \"Ichiban Buffet\", \"Food Score\": -0.06166666666666666, \"Service Score\": 0.1464285714285714, \"Environment Score\": null, \"Variety Score\": 0.21632653061224488, \"Music Score\": null, \"Drink Score\": null, \"Sauce Score\": null, \"Stars\": 2.5, \"Review Count\": 29, \"address\": \"735 N Courtenay Pkwy\"}, {\"business_id\": \"Sx0IM4UyHbrRrA6QeulcGQ\", \"name\": \"Ichiban Buffet\", \"Food Score\": 0.14032909682909683, \"Service Score\": -0.028378378378378363, \"Environment Score\": 0.5, \"Variety Score\": 0.3288392857142857, \"Music Score\": null, \"Drink Score\": 0.05, \"Sauce Score\": -0.04270833333333333, \"Stars\": 3.0, \"Review Count\": 481, \"address\": \"5269 W Irlo Bronson Memorial Hwy\"}, {\"business_id\": \"DDvLLp9cT1m0U8SN-DYIKA\", \"name\": \"Saffron Indian Cuisine\", \"Food Score\": 0.3438917125631786, \"Service Score\": 0.5143689986282579, \"Environment Score\": 0.4654924242424242, \"Variety Score\": 0.3304883472691692, \"Music Score\": 0.1285714285714286, \"Drink Score\": 0.1863479262672811, \"Sauce Score\": 0.23583333333333334, \"Stars\": 4.5, \"Review Count\": 834, \"address\": \"7724 W Sand Lake Rd\"}, {\"business_id\": \"esHeBE48Fah6nuYKRS61KA\", \"name\": \"Saffron Indian Cuisine\", \"Food Score\": 0.21463414634146344, \"Service Score\": 0.22749999999999998, \"Environment Score\": null, \"Variety Score\": 0.17544642857142856, \"Music Score\": null, \"Drink Score\": -0.025, \"Sauce Score\": 0.35357142857142854, \"Stars\": 3.5, \"Review Count\": 70, \"address\": \"16745 Cagan Crossings Blvd, Ste 103@104\"}]}}, {\"padding\": {\"left\": 0, \"right\": 0, \"bottom\": 0, \"top\": 0}, \"mode\": \"vega-lite\"});\n",
       "</script>"
      ],
      "text/plain": [
       "alt.Chart(...)"
      ]
     },
     "execution_count": 19,
     "metadata": {},
     "output_type": "execute_result"
    }
   ],
   "source": [
    "import altair as alt\n",
    "\n",
    "selection = alt.selection_multi(fields=['name'], bind='legend')\n",
    "\n",
    "chart = alt.Chart(plot_df,title=\"Food Score\").transform_calculate(\n",
    "    url='https://www.google.com/search?q=' + alt.datum.name\n",
    ").mark_point().encode(\n",
    "    x='Food Score:Q',\n",
    "    y='Stars:Q',\n",
    "    color='name:N',\n",
    "    href='url:N',\n",
    "    tooltip=['name:N', 'url:N', 'address:N'],\n",
    "    opacity=alt.condition(selection, alt.value(1), alt.value(0.1))\n",
    ").add_selection(\n",
    "    selection\n",
    ")\n",
    "\n",
    "# chart.save('../food_score.html')\n",
    "\n",
    "chart"
   ]
  },
  {
   "cell_type": "code",
   "execution_count": 20,
   "id": "de207754",
   "metadata": {},
   "outputs": [
    {
     "data": {
      "text/html": [
       "\n",
       "<div id=\"altair-viz-9c84adffb6544deda21cb8d6bff10234\"></div>\n",
       "<script type=\"text/javascript\">\n",
       "  var VEGA_DEBUG = (typeof VEGA_DEBUG == \"undefined\") ? {} : VEGA_DEBUG;\n",
       "  (function(spec, embedOpt){\n",
       "    let outputDiv = document.currentScript.previousElementSibling;\n",
       "    if (outputDiv.id !== \"altair-viz-9c84adffb6544deda21cb8d6bff10234\") {\n",
       "      outputDiv = document.getElementById(\"altair-viz-9c84adffb6544deda21cb8d6bff10234\");\n",
       "    }\n",
       "    const paths = {\n",
       "      \"vega\": \"https://cdn.jsdelivr.net/npm//vega@5?noext\",\n",
       "      \"vega-lib\": \"https://cdn.jsdelivr.net/npm//vega-lib?noext\",\n",
       "      \"vega-lite\": \"https://cdn.jsdelivr.net/npm//vega-lite@4.17.0?noext\",\n",
       "      \"vega-embed\": \"https://cdn.jsdelivr.net/npm//vega-embed@6?noext\",\n",
       "    };\n",
       "\n",
       "    function maybeLoadScript(lib, version) {\n",
       "      var key = `${lib.replace(\"-\", \"\")}_version`;\n",
       "      return (VEGA_DEBUG[key] == version) ?\n",
       "        Promise.resolve(paths[lib]) :\n",
       "        new Promise(function(resolve, reject) {\n",
       "          var s = document.createElement('script');\n",
       "          document.getElementsByTagName(\"head\")[0].appendChild(s);\n",
       "          s.async = true;\n",
       "          s.onload = () => {\n",
       "            VEGA_DEBUG[key] = version;\n",
       "            return resolve(paths[lib]);\n",
       "          };\n",
       "          s.onerror = () => reject(`Error loading script: ${paths[lib]}`);\n",
       "          s.src = paths[lib];\n",
       "        });\n",
       "    }\n",
       "\n",
       "    function showError(err) {\n",
       "      outputDiv.innerHTML = `<div class=\"error\" style=\"color:red;\">${err}</div>`;\n",
       "      throw err;\n",
       "    }\n",
       "\n",
       "    function displayChart(vegaEmbed) {\n",
       "      vegaEmbed(outputDiv, spec, embedOpt)\n",
       "        .catch(err => showError(`Javascript Error: ${err.message}<br>This usually means there's a typo in your chart specification. See the javascript console for the full traceback.`));\n",
       "    }\n",
       "\n",
       "    if(typeof define === \"function\" && define.amd) {\n",
       "      requirejs.config({paths});\n",
       "      require([\"vega-embed\"], displayChart, err => showError(`Error loading script: ${err.message}`));\n",
       "    } else {\n",
       "      maybeLoadScript(\"vega\", \"5\")\n",
       "        .then(() => maybeLoadScript(\"vega-lite\", \"4.17.0\"))\n",
       "        .then(() => maybeLoadScript(\"vega-embed\", \"6\"))\n",
       "        .catch(showError)\n",
       "        .then(() => displayChart(vegaEmbed));\n",
       "    }\n",
       "  })({\"config\": {\"view\": {\"continuousWidth\": 400, \"continuousHeight\": 300}}, \"data\": {\"name\": \"data-40c475351b48d066d7900b492ea37c0b\"}, \"mark\": \"point\", \"encoding\": {\"color\": {\"field\": \"name\", \"type\": \"nominal\"}, \"href\": {\"field\": \"url\", \"type\": \"nominal\"}, \"opacity\": {\"condition\": {\"value\": 1, \"selection\": \"selector001\"}, \"value\": 0.1}, \"tooltip\": [{\"field\": \"name\", \"type\": \"nominal\"}, {\"field\": \"url\", \"type\": \"nominal\"}, {\"field\": \"address\", \"type\": \"nominal\"}], \"x\": {\"field\": \"Service Score\", \"type\": \"quantitative\"}, \"y\": {\"field\": \"Stars\", \"type\": \"quantitative\"}}, \"selection\": {\"selector001\": {\"type\": \"multi\", \"fields\": [\"name\"], \"bind\": \"legend\"}}, \"title\": \"Service Score\", \"transform\": [{\"calculate\": \"('https://www.google.com/search?q=' + datum.name)\", \"as\": \"url\"}], \"$schema\": \"https://vega.github.io/schema/vega-lite/v4.17.0.json\", \"datasets\": {\"data-40c475351b48d066d7900b492ea37c0b\": [{\"business_id\": \"gsicNDwrLH4WGeWMDcJv6w\", \"name\": \"Ahmed Indian Restaurant\", \"Food Score\": 0.24944444444444444, \"Service Score\": 0.34924242424242424, \"Environment Score\": 0.13333333333333336, \"Variety Score\": 0.2303312629399586, \"Music Score\": null, \"Drink Score\": 0.5, \"Sauce Score\": -0.0625, \"Stars\": 3.5, \"Review Count\": 146, \"address\": \"11301 S Orange Blossom Trl, Ste 104\"}, {\"business_id\": \"n4diWKcRvAFctwdRA6IPMg\", \"name\": \"Ahmed Indian Restaurant\", \"Food Score\": 0.2261961722488038, \"Service Score\": 0.40454545454545454, \"Environment Score\": 0.4916666666666667, \"Variety Score\": 0.17304421768707481, \"Music Score\": 0.0, \"Drink Score\": -0.2, \"Sauce Score\": 0.15833333333333335, \"Stars\": 4.0, \"Review Count\": 131, \"address\": \"10042 University Blvd\"}, {\"business_id\": \"B2F2hFXUSbcr8dG69w6iVQ\", \"name\": \"Cici's Pizza\", \"Food Score\": 0.3041666666666667, \"Service Score\": 0.2027777777777778, \"Environment Score\": 0.26666666666666666, \"Variety Score\": 0.20113378684807257, \"Music Score\": null, \"Drink Score\": 0.022222222222222237, \"Sauce Score\": 0.0, \"Stars\": 2.5, \"Review Count\": 102, \"address\": \"7437 International Dr\"}, {\"business_id\": \"mb0IO3qQ0MMNmPypdz37fw\", \"name\": \"Cici's Pizza\", \"Food Score\": 0.42000000000000004, \"Service Score\": 0.0780952380952381, \"Environment Score\": null, \"Variety Score\": 0.1, \"Music Score\": null, \"Drink Score\": 0.22499999999999998, \"Sauce Score\": 0.0, \"Stars\": 2.5, \"Review Count\": 32, \"address\": \"11701 International Dr, Ste 2200\"}, {\"business_id\": \"TNpbiGJJd5iePBj19yTV_A\", \"name\": \"Cici's Pizza\", \"Food Score\": 0.2333333333333333, \"Service Score\": 0.74375, \"Environment Score\": 0.1, \"Variety Score\": 0.23333333333333334, \"Music Score\": null, \"Drink Score\": 0.16071428571428564, \"Sauce Score\": 0.0, \"Stars\": 3.0, \"Review Count\": 55, \"address\": \"5035 W Irlo Bronson Memorial Hwy\"}, {\"business_id\": \"8ardwENx6HbdkQaNv0AIyQ\", \"name\": \"Cici's Pizza\", \"Food Score\": 0.3433333333333333, \"Service Score\": 0.7, \"Environment Score\": 0.4777777777777777, \"Variety Score\": 0.20731292517006802, \"Music Score\": null, \"Drink Score\": 0.05, \"Sauce Score\": null, \"Stars\": 3.0, \"Review Count\": 35, \"address\": \"13605 Sr 535, Ste 101\"}, {\"business_id\": \"2C1A6GzXXRi_eEieQAmyRg\", \"name\": \"Crazy Buffet\", \"Food Score\": 0.19938088976550516, \"Service Score\": 0.02916666666666667, \"Environment Score\": -0.4, \"Variety Score\": 0.28058016749605535, \"Music Score\": null, \"Drink Score\": 0.21666666666666665, \"Sauce Score\": 0.0, \"Stars\": 3.5, \"Review Count\": 240, \"address\": \"7038 W Colonial Dr\"}, {\"business_id\": \"hmcXUPprL7ju7nzJlPIqlg\", \"name\": \"El Palacio Buffet\", \"Food Score\": 0.19007936507936507, \"Service Score\": 0.46458333333333335, \"Environment Score\": 0.48333333333333334, \"Variety Score\": 0.3860491071428571, \"Music Score\": null, \"Drink Score\": null, \"Sauce Score\": null, \"Stars\": 4.0, \"Review Count\": 38, \"address\": \"909 West Vine St\"}, {\"business_id\": \"J9e7IUn_FmZ7Y-OtUql6Ug\", \"name\": \"El Palacio Buffet\", \"Food Score\": 0.15195414913724772, \"Service Score\": 0.26805555555555555, \"Environment Score\": 0.16111111111111112, \"Variety Score\": 0.3576494427558258, \"Music Score\": null, \"Drink Score\": 0.043877551020408155, \"Sauce Score\": null, \"Stars\": 3.5, \"Review Count\": 152, \"address\": \"7403 S Orange Blossom Trl\"}, {\"business_id\": \"GLHa2PtTm9wL_cUvEYxkHQ\", \"name\": \"El Palacio Buffet\", \"Food Score\": 0.16428571428571428, \"Service Score\": 0.10060606060606059, \"Environment Score\": null, \"Variety Score\": 0.26, \"Music Score\": 0.0, \"Drink Score\": null, \"Sauce Score\": null, \"Stars\": 1.5, \"Review Count\": 26, \"address\": \"843 Lee Rd\"}, {\"business_id\": \"lD62IuTkmNXwNc9_BNYr_w\", \"name\": \"Golden Corral Buffet & Grill\", \"Food Score\": 0.21694444444444447, \"Service Score\": 0.5923611111111111, \"Environment Score\": 0.35833333333333334, \"Variety Score\": 0.2, \"Music Score\": null, \"Drink Score\": -0.1875, \"Sauce Score\": null, \"Stars\": 3.0, \"Review Count\": 69, \"address\": \"11731 E. Colonial Drive\"}, {\"business_id\": \"EIVG9fe45-Meyg4uHv_2lQ\", \"name\": \"Golden Corral Buffet & Grill\", \"Food Score\": 0.25773809523809527, \"Service Score\": 0.32166666666666666, \"Environment Score\": null, \"Variety Score\": 0.033333333333333326, \"Music Score\": null, \"Drink Score\": null, \"Sauce Score\": null, \"Stars\": 2.5, \"Review Count\": 22, \"address\": \"7251 West Colonial Drive\"}, {\"business_id\": \"zqa5digfaYKtzgOnx8tzSQ\", \"name\": \"Golden Corral Buffet & Grill\", \"Food Score\": 0.14821428571428572, \"Service Score\": 0.41862745098039217, \"Environment Score\": null, \"Variety Score\": 0.3438775510204081, \"Music Score\": null, \"Drink Score\": -0.125, \"Sauce Score\": 0.125, \"Stars\": 2.0, \"Review Count\": 72, \"address\": \"5535 S Kirkman Rd\"}, {\"business_id\": \"_Zn7bmef51dkorKR8M91sw\", \"name\": \"Golden Corral Buffet & Grill\", \"Food Score\": 0.13874458874458875, \"Service Score\": 0.3355263157894737, \"Environment Score\": 0.38, \"Variety Score\": 0.28531746031746036, \"Music Score\": null, \"Drink Score\": 0.2, \"Sauce Score\": null, \"Stars\": 2.5, \"Review Count\": 160, \"address\": \"8707 Vineland Avenue\"}, {\"business_id\": \"pOuNx0bkXJ1QibLSBxDgig\", \"name\": \"Golden Corral Buffet & Grill\", \"Food Score\": -0.024056036556036556, \"Service Score\": 0.07986111111111112, \"Environment Score\": 0.05, \"Variety Score\": 0.23992673992673993, \"Music Score\": null, \"Drink Score\": 0.4333333333333333, \"Sauce Score\": 0.0, \"Stars\": 2.0, \"Review Count\": 107, \"address\": \"6077 W. Irlo Bronson Memorial\"}, {\"business_id\": \"QfWyyGjzgzNY_Qy7LZFV4A\", \"name\": \"Golden Corral Buffet & Grill\", \"Food Score\": 0.20877039627039626, \"Service Score\": 0.5236111111111111, \"Environment Score\": 0.3666666666666667, \"Variety Score\": 0.295875147579693, \"Music Score\": null, \"Drink Score\": 0.059090909090909076, \"Sauce Score\": 0.0, \"Stars\": 3.5, \"Review Count\": 112, \"address\": \"11701 International Dr\"}, {\"business_id\": \"q2fO6kwLEa6PoCgy6_L1Dg\", \"name\": \"Golden Corral Buffet & Grill\", \"Food Score\": 0.22941176470588234, \"Service Score\": 0.37604166666666666, \"Environment Score\": -0.0833333333333333, \"Variety Score\": 0.4828571428571428, \"Music Score\": null, \"Drink Score\": null, \"Sauce Score\": 0.25, \"Stars\": 3.5, \"Review Count\": 53, \"address\": \"2701 W Vine St\"}, {\"business_id\": \"Tm_28r-suhH8dUkjRoMjAA\", \"name\": \"Golden Corral Buffet & Grill\", \"Food Score\": 0.08169765840220386, \"Service Score\": 0.1875, \"Environment Score\": 0.10555555555555556, \"Variety Score\": 0.33938492063492065, \"Music Score\": null, \"Drink Score\": 0.11666666666666667, \"Sauce Score\": null, \"Stars\": 2.5, \"Review Count\": 123, \"address\": \"8032 International Drive\"}, {\"business_id\": \"cKfE2R3q3jHOAQIS8_ahmg\", \"name\": \"Golden Corral Buffet & Grill\", \"Food Score\": -0.06052631578947368, \"Service Score\": -0.0037878787878787945, \"Environment Score\": 0.8, \"Variety Score\": 0.38033126293995856, \"Music Score\": null, \"Drink Score\": null, \"Sauce Score\": null, \"Stars\": 2.5, \"Review Count\": 60, \"address\": \"897 West Town Parkway\"}, {\"business_id\": \"HeHoNEvd1aWlmlyITaH9bw\", \"name\": \"Golden Corral Buffet & Grill\", \"Food Score\": 0.19722222222222222, \"Service Score\": 0.45401785714285714, \"Environment Score\": 0.0, \"Variety Score\": 0.02713358070500927, \"Music Score\": null, \"Drink Score\": -0.1, \"Sauce Score\": null, \"Stars\": 2.5, \"Review Count\": 62, \"address\": \"2328 S. Semoran Blvd.\"}, {\"business_id\": \"6_xgMJrpfQWOBBcofc_QmQ\", \"name\": \"Golden Corral Buffet & Grill\", \"Food Score\": -0.022727272727272717, \"Service Score\": 0.2875, \"Environment Score\": null, \"Variety Score\": 0.27261904761904765, \"Music Score\": null, \"Drink Score\": null, \"Sauce Score\": null, \"Stars\": 3.0, \"Review Count\": 34, \"address\": \"1555 Grand Hwy\"}, {\"business_id\": \"A8A9qhSztrqB6TFKjnq-hA\", \"name\": \"Hokkaido Chinese & Japanese Buffet\", \"Food Score\": 0.22147869674185464, \"Service Score\": 0.25863095238095235, \"Environment Score\": 0.5722222222222223, \"Variety Score\": 0.36051698769395396, \"Music Score\": null, \"Drink Score\": 0.41428571428571426, \"Sauce Score\": -0.075, \"Stars\": 3.5, \"Review Count\": 369, \"address\": \"5737 W Irlo Bronson Memorial Hwy\"}, {\"business_id\": \"4bPz2NYimJ8ZVozbxLwyCA\", \"name\": \"Hokkaido Chinese & Japanese Buffet\", \"Food Score\": 0.17051042862610027, \"Service Score\": 0.08687500000000001, \"Environment Score\": 0.5333333333333333, \"Variety Score\": 0.3175195451314854, \"Music Score\": 0.0, \"Drink Score\": 0.035, \"Sauce Score\": 0.225, \"Stars\": 3.0, \"Review Count\": 316, \"address\": \"12173 S Apopka Vineland Rd\"}, {\"business_id\": \"iHmBoyZEWsJfryywZmrB8A\", \"name\": \"Ichiban Buffet\", \"Food Score\": 0.13019514767932489, \"Service Score\": 0.2274404761904762, \"Environment Score\": 0.5395833333333333, \"Variety Score\": 0.33486153326578855, \"Music Score\": null, \"Drink Score\": 0.125, \"Sauce Score\": 0.056547619047619034, \"Stars\": 3.0, \"Review Count\": 419, \"address\": \"5529 International Dr\"}, {\"business_id\": \"25iE1snCllaN2fCKodDyuQ\", \"name\": \"Ichiban Buffet\", \"Food Score\": -0.06166666666666666, \"Service Score\": 0.1464285714285714, \"Environment Score\": null, \"Variety Score\": 0.21632653061224488, \"Music Score\": null, \"Drink Score\": null, \"Sauce Score\": null, \"Stars\": 2.5, \"Review Count\": 29, \"address\": \"735 N Courtenay Pkwy\"}, {\"business_id\": \"Sx0IM4UyHbrRrA6QeulcGQ\", \"name\": \"Ichiban Buffet\", \"Food Score\": 0.14032909682909683, \"Service Score\": -0.028378378378378363, \"Environment Score\": 0.5, \"Variety Score\": 0.3288392857142857, \"Music Score\": null, \"Drink Score\": 0.05, \"Sauce Score\": -0.04270833333333333, \"Stars\": 3.0, \"Review Count\": 481, \"address\": \"5269 W Irlo Bronson Memorial Hwy\"}, {\"business_id\": \"DDvLLp9cT1m0U8SN-DYIKA\", \"name\": \"Saffron Indian Cuisine\", \"Food Score\": 0.3438917125631786, \"Service Score\": 0.5143689986282579, \"Environment Score\": 0.4654924242424242, \"Variety Score\": 0.3304883472691692, \"Music Score\": 0.1285714285714286, \"Drink Score\": 0.1863479262672811, \"Sauce Score\": 0.23583333333333334, \"Stars\": 4.5, \"Review Count\": 834, \"address\": \"7724 W Sand Lake Rd\"}, {\"business_id\": \"esHeBE48Fah6nuYKRS61KA\", \"name\": \"Saffron Indian Cuisine\", \"Food Score\": 0.21463414634146344, \"Service Score\": 0.22749999999999998, \"Environment Score\": null, \"Variety Score\": 0.17544642857142856, \"Music Score\": null, \"Drink Score\": -0.025, \"Sauce Score\": 0.35357142857142854, \"Stars\": 3.5, \"Review Count\": 70, \"address\": \"16745 Cagan Crossings Blvd, Ste 103@104\"}]}}, {\"padding\": {\"left\": 0, \"right\": 0, \"bottom\": 0, \"top\": 0}, \"mode\": \"vega-lite\"});\n",
       "</script>"
      ],
      "text/plain": [
       "alt.Chart(...)"
      ]
     },
     "execution_count": 20,
     "metadata": {},
     "output_type": "execute_result"
    }
   ],
   "source": [
    "chart = alt.Chart(plot_df,title=\"Service Score\").transform_calculate(\n",
    "    url='https://www.google.com/search?q=' + alt.datum.name\n",
    ").mark_point().encode(\n",
    "    x='Service Score:Q',\n",
    "    y='Stars:Q',\n",
    "    color='name:N',\n",
    "    href='url:N',\n",
    "    tooltip=['name:N', 'url:N', 'address:N'],\n",
    "    opacity=alt.condition(selection, alt.value(1), alt.value(0.1))\n",
    ").add_selection(\n",
    "    selection\n",
    ")\n",
    "\n",
    "# chart.save('../service_score.html')\n",
    "\n",
    "chart"
   ]
  },
  {
   "cell_type": "code",
   "execution_count": 21,
   "id": "fb4da401",
   "metadata": {},
   "outputs": [
    {
     "data": {
      "text/html": [
       "\n",
       "<div id=\"altair-viz-334d2b31031b448d8761d916f72fe8f7\"></div>\n",
       "<script type=\"text/javascript\">\n",
       "  var VEGA_DEBUG = (typeof VEGA_DEBUG == \"undefined\") ? {} : VEGA_DEBUG;\n",
       "  (function(spec, embedOpt){\n",
       "    let outputDiv = document.currentScript.previousElementSibling;\n",
       "    if (outputDiv.id !== \"altair-viz-334d2b31031b448d8761d916f72fe8f7\") {\n",
       "      outputDiv = document.getElementById(\"altair-viz-334d2b31031b448d8761d916f72fe8f7\");\n",
       "    }\n",
       "    const paths = {\n",
       "      \"vega\": \"https://cdn.jsdelivr.net/npm//vega@5?noext\",\n",
       "      \"vega-lib\": \"https://cdn.jsdelivr.net/npm//vega-lib?noext\",\n",
       "      \"vega-lite\": \"https://cdn.jsdelivr.net/npm//vega-lite@4.17.0?noext\",\n",
       "      \"vega-embed\": \"https://cdn.jsdelivr.net/npm//vega-embed@6?noext\",\n",
       "    };\n",
       "\n",
       "    function maybeLoadScript(lib, version) {\n",
       "      var key = `${lib.replace(\"-\", \"\")}_version`;\n",
       "      return (VEGA_DEBUG[key] == version) ?\n",
       "        Promise.resolve(paths[lib]) :\n",
       "        new Promise(function(resolve, reject) {\n",
       "          var s = document.createElement('script');\n",
       "          document.getElementsByTagName(\"head\")[0].appendChild(s);\n",
       "          s.async = true;\n",
       "          s.onload = () => {\n",
       "            VEGA_DEBUG[key] = version;\n",
       "            return resolve(paths[lib]);\n",
       "          };\n",
       "          s.onerror = () => reject(`Error loading script: ${paths[lib]}`);\n",
       "          s.src = paths[lib];\n",
       "        });\n",
       "    }\n",
       "\n",
       "    function showError(err) {\n",
       "      outputDiv.innerHTML = `<div class=\"error\" style=\"color:red;\">${err}</div>`;\n",
       "      throw err;\n",
       "    }\n",
       "\n",
       "    function displayChart(vegaEmbed) {\n",
       "      vegaEmbed(outputDiv, spec, embedOpt)\n",
       "        .catch(err => showError(`Javascript Error: ${err.message}<br>This usually means there's a typo in your chart specification. See the javascript console for the full traceback.`));\n",
       "    }\n",
       "\n",
       "    if(typeof define === \"function\" && define.amd) {\n",
       "      requirejs.config({paths});\n",
       "      require([\"vega-embed\"], displayChart, err => showError(`Error loading script: ${err.message}`));\n",
       "    } else {\n",
       "      maybeLoadScript(\"vega\", \"5\")\n",
       "        .then(() => maybeLoadScript(\"vega-lite\", \"4.17.0\"))\n",
       "        .then(() => maybeLoadScript(\"vega-embed\", \"6\"))\n",
       "        .catch(showError)\n",
       "        .then(() => displayChart(vegaEmbed));\n",
       "    }\n",
       "  })({\"config\": {\"view\": {\"continuousWidth\": 400, \"continuousHeight\": 300}}, \"data\": {\"name\": \"data-40c475351b48d066d7900b492ea37c0b\"}, \"mark\": \"point\", \"encoding\": {\"color\": {\"field\": \"name\", \"type\": \"nominal\"}, \"href\": {\"field\": \"url\", \"type\": \"nominal\"}, \"opacity\": {\"condition\": {\"value\": 1, \"selection\": \"selector001\"}, \"value\": 0.1}, \"tooltip\": [{\"field\": \"name\", \"type\": \"nominal\"}, {\"field\": \"url\", \"type\": \"nominal\"}, {\"field\": \"address\", \"type\": \"nominal\"}], \"x\": {\"field\": \"Environment Score\", \"type\": \"quantitative\"}, \"y\": {\"field\": \"Stars\", \"type\": \"quantitative\"}}, \"selection\": {\"selector001\": {\"type\": \"multi\", \"fields\": [\"name\"], \"bind\": \"legend\"}}, \"title\": \"Environment Score\", \"transform\": [{\"calculate\": \"('https://www.google.com/search?q=' + datum.name)\", \"as\": \"url\"}], \"$schema\": \"https://vega.github.io/schema/vega-lite/v4.17.0.json\", \"datasets\": {\"data-40c475351b48d066d7900b492ea37c0b\": [{\"business_id\": \"gsicNDwrLH4WGeWMDcJv6w\", \"name\": \"Ahmed Indian Restaurant\", \"Food Score\": 0.24944444444444444, \"Service Score\": 0.34924242424242424, \"Environment Score\": 0.13333333333333336, \"Variety Score\": 0.2303312629399586, \"Music Score\": null, \"Drink Score\": 0.5, \"Sauce Score\": -0.0625, \"Stars\": 3.5, \"Review Count\": 146, \"address\": \"11301 S Orange Blossom Trl, Ste 104\"}, {\"business_id\": \"n4diWKcRvAFctwdRA6IPMg\", \"name\": \"Ahmed Indian Restaurant\", \"Food Score\": 0.2261961722488038, \"Service Score\": 0.40454545454545454, \"Environment Score\": 0.4916666666666667, \"Variety Score\": 0.17304421768707481, \"Music Score\": 0.0, \"Drink Score\": -0.2, \"Sauce Score\": 0.15833333333333335, \"Stars\": 4.0, \"Review Count\": 131, \"address\": \"10042 University Blvd\"}, {\"business_id\": \"B2F2hFXUSbcr8dG69w6iVQ\", \"name\": \"Cici's Pizza\", \"Food Score\": 0.3041666666666667, \"Service Score\": 0.2027777777777778, \"Environment Score\": 0.26666666666666666, \"Variety Score\": 0.20113378684807257, \"Music Score\": null, \"Drink Score\": 0.022222222222222237, \"Sauce Score\": 0.0, \"Stars\": 2.5, \"Review Count\": 102, \"address\": \"7437 International Dr\"}, {\"business_id\": \"mb0IO3qQ0MMNmPypdz37fw\", \"name\": \"Cici's Pizza\", \"Food Score\": 0.42000000000000004, \"Service Score\": 0.0780952380952381, \"Environment Score\": null, \"Variety Score\": 0.1, \"Music Score\": null, \"Drink Score\": 0.22499999999999998, \"Sauce Score\": 0.0, \"Stars\": 2.5, \"Review Count\": 32, \"address\": \"11701 International Dr, Ste 2200\"}, {\"business_id\": \"TNpbiGJJd5iePBj19yTV_A\", \"name\": \"Cici's Pizza\", \"Food Score\": 0.2333333333333333, \"Service Score\": 0.74375, \"Environment Score\": 0.1, \"Variety Score\": 0.23333333333333334, \"Music Score\": null, \"Drink Score\": 0.16071428571428564, \"Sauce Score\": 0.0, \"Stars\": 3.0, \"Review Count\": 55, \"address\": \"5035 W Irlo Bronson Memorial Hwy\"}, {\"business_id\": \"8ardwENx6HbdkQaNv0AIyQ\", \"name\": \"Cici's Pizza\", \"Food Score\": 0.3433333333333333, \"Service Score\": 0.7, \"Environment Score\": 0.4777777777777777, \"Variety Score\": 0.20731292517006802, \"Music Score\": null, \"Drink Score\": 0.05, \"Sauce Score\": null, \"Stars\": 3.0, \"Review Count\": 35, \"address\": \"13605 Sr 535, Ste 101\"}, {\"business_id\": \"2C1A6GzXXRi_eEieQAmyRg\", \"name\": \"Crazy Buffet\", \"Food Score\": 0.19938088976550516, \"Service Score\": 0.02916666666666667, \"Environment Score\": -0.4, \"Variety Score\": 0.28058016749605535, \"Music Score\": null, \"Drink Score\": 0.21666666666666665, \"Sauce Score\": 0.0, \"Stars\": 3.5, \"Review Count\": 240, \"address\": \"7038 W Colonial Dr\"}, {\"business_id\": \"hmcXUPprL7ju7nzJlPIqlg\", \"name\": \"El Palacio Buffet\", \"Food Score\": 0.19007936507936507, \"Service Score\": 0.46458333333333335, \"Environment Score\": 0.48333333333333334, \"Variety Score\": 0.3860491071428571, \"Music Score\": null, \"Drink Score\": null, \"Sauce Score\": null, \"Stars\": 4.0, \"Review Count\": 38, \"address\": \"909 West Vine St\"}, {\"business_id\": \"J9e7IUn_FmZ7Y-OtUql6Ug\", \"name\": \"El Palacio Buffet\", \"Food Score\": 0.15195414913724772, \"Service Score\": 0.26805555555555555, \"Environment Score\": 0.16111111111111112, \"Variety Score\": 0.3576494427558258, \"Music Score\": null, \"Drink Score\": 0.043877551020408155, \"Sauce Score\": null, \"Stars\": 3.5, \"Review Count\": 152, \"address\": \"7403 S Orange Blossom Trl\"}, {\"business_id\": \"GLHa2PtTm9wL_cUvEYxkHQ\", \"name\": \"El Palacio Buffet\", \"Food Score\": 0.16428571428571428, \"Service Score\": 0.10060606060606059, \"Environment Score\": null, \"Variety Score\": 0.26, \"Music Score\": 0.0, \"Drink Score\": null, \"Sauce Score\": null, \"Stars\": 1.5, \"Review Count\": 26, \"address\": \"843 Lee Rd\"}, {\"business_id\": \"lD62IuTkmNXwNc9_BNYr_w\", \"name\": \"Golden Corral Buffet & Grill\", \"Food Score\": 0.21694444444444447, \"Service Score\": 0.5923611111111111, \"Environment Score\": 0.35833333333333334, \"Variety Score\": 0.2, \"Music Score\": null, \"Drink Score\": -0.1875, \"Sauce Score\": null, \"Stars\": 3.0, \"Review Count\": 69, \"address\": \"11731 E. Colonial Drive\"}, {\"business_id\": \"EIVG9fe45-Meyg4uHv_2lQ\", \"name\": \"Golden Corral Buffet & Grill\", \"Food Score\": 0.25773809523809527, \"Service Score\": 0.32166666666666666, \"Environment Score\": null, \"Variety Score\": 0.033333333333333326, \"Music Score\": null, \"Drink Score\": null, \"Sauce Score\": null, \"Stars\": 2.5, \"Review Count\": 22, \"address\": \"7251 West Colonial Drive\"}, {\"business_id\": \"zqa5digfaYKtzgOnx8tzSQ\", \"name\": \"Golden Corral Buffet & Grill\", \"Food Score\": 0.14821428571428572, \"Service Score\": 0.41862745098039217, \"Environment Score\": null, \"Variety Score\": 0.3438775510204081, \"Music Score\": null, \"Drink Score\": -0.125, \"Sauce Score\": 0.125, \"Stars\": 2.0, \"Review Count\": 72, \"address\": \"5535 S Kirkman Rd\"}, {\"business_id\": \"_Zn7bmef51dkorKR8M91sw\", \"name\": \"Golden Corral Buffet & Grill\", \"Food Score\": 0.13874458874458875, \"Service Score\": 0.3355263157894737, \"Environment Score\": 0.38, \"Variety Score\": 0.28531746031746036, \"Music Score\": null, \"Drink Score\": 0.2, \"Sauce Score\": null, \"Stars\": 2.5, \"Review Count\": 160, \"address\": \"8707 Vineland Avenue\"}, {\"business_id\": \"pOuNx0bkXJ1QibLSBxDgig\", \"name\": \"Golden Corral Buffet & Grill\", \"Food Score\": -0.024056036556036556, \"Service Score\": 0.07986111111111112, \"Environment Score\": 0.05, \"Variety Score\": 0.23992673992673993, \"Music Score\": null, \"Drink Score\": 0.4333333333333333, \"Sauce Score\": 0.0, \"Stars\": 2.0, \"Review Count\": 107, \"address\": \"6077 W. Irlo Bronson Memorial\"}, {\"business_id\": \"QfWyyGjzgzNY_Qy7LZFV4A\", \"name\": \"Golden Corral Buffet & Grill\", \"Food Score\": 0.20877039627039626, \"Service Score\": 0.5236111111111111, \"Environment Score\": 0.3666666666666667, \"Variety Score\": 0.295875147579693, \"Music Score\": null, \"Drink Score\": 0.059090909090909076, \"Sauce Score\": 0.0, \"Stars\": 3.5, \"Review Count\": 112, \"address\": \"11701 International Dr\"}, {\"business_id\": \"q2fO6kwLEa6PoCgy6_L1Dg\", \"name\": \"Golden Corral Buffet & Grill\", \"Food Score\": 0.22941176470588234, \"Service Score\": 0.37604166666666666, \"Environment Score\": -0.0833333333333333, \"Variety Score\": 0.4828571428571428, \"Music Score\": null, \"Drink Score\": null, \"Sauce Score\": 0.25, \"Stars\": 3.5, \"Review Count\": 53, \"address\": \"2701 W Vine St\"}, {\"business_id\": \"Tm_28r-suhH8dUkjRoMjAA\", \"name\": \"Golden Corral Buffet & Grill\", \"Food Score\": 0.08169765840220386, \"Service Score\": 0.1875, \"Environment Score\": 0.10555555555555556, \"Variety Score\": 0.33938492063492065, \"Music Score\": null, \"Drink Score\": 0.11666666666666667, \"Sauce Score\": null, \"Stars\": 2.5, \"Review Count\": 123, \"address\": \"8032 International Drive\"}, {\"business_id\": \"cKfE2R3q3jHOAQIS8_ahmg\", \"name\": \"Golden Corral Buffet & Grill\", \"Food Score\": -0.06052631578947368, \"Service Score\": -0.0037878787878787945, \"Environment Score\": 0.8, \"Variety Score\": 0.38033126293995856, \"Music Score\": null, \"Drink Score\": null, \"Sauce Score\": null, \"Stars\": 2.5, \"Review Count\": 60, \"address\": \"897 West Town Parkway\"}, {\"business_id\": \"HeHoNEvd1aWlmlyITaH9bw\", \"name\": \"Golden Corral Buffet & Grill\", \"Food Score\": 0.19722222222222222, \"Service Score\": 0.45401785714285714, \"Environment Score\": 0.0, \"Variety Score\": 0.02713358070500927, \"Music Score\": null, \"Drink Score\": -0.1, \"Sauce Score\": null, \"Stars\": 2.5, \"Review Count\": 62, \"address\": \"2328 S. Semoran Blvd.\"}, {\"business_id\": \"6_xgMJrpfQWOBBcofc_QmQ\", \"name\": \"Golden Corral Buffet & Grill\", \"Food Score\": -0.022727272727272717, \"Service Score\": 0.2875, \"Environment Score\": null, \"Variety Score\": 0.27261904761904765, \"Music Score\": null, \"Drink Score\": null, \"Sauce Score\": null, \"Stars\": 3.0, \"Review Count\": 34, \"address\": \"1555 Grand Hwy\"}, {\"business_id\": \"A8A9qhSztrqB6TFKjnq-hA\", \"name\": \"Hokkaido Chinese & Japanese Buffet\", \"Food Score\": 0.22147869674185464, \"Service Score\": 0.25863095238095235, \"Environment Score\": 0.5722222222222223, \"Variety Score\": 0.36051698769395396, \"Music Score\": null, \"Drink Score\": 0.41428571428571426, \"Sauce Score\": -0.075, \"Stars\": 3.5, \"Review Count\": 369, \"address\": \"5737 W Irlo Bronson Memorial Hwy\"}, {\"business_id\": \"4bPz2NYimJ8ZVozbxLwyCA\", \"name\": \"Hokkaido Chinese & Japanese Buffet\", \"Food Score\": 0.17051042862610027, \"Service Score\": 0.08687500000000001, \"Environment Score\": 0.5333333333333333, \"Variety Score\": 0.3175195451314854, \"Music Score\": 0.0, \"Drink Score\": 0.035, \"Sauce Score\": 0.225, \"Stars\": 3.0, \"Review Count\": 316, \"address\": \"12173 S Apopka Vineland Rd\"}, {\"business_id\": \"iHmBoyZEWsJfryywZmrB8A\", \"name\": \"Ichiban Buffet\", \"Food Score\": 0.13019514767932489, \"Service Score\": 0.2274404761904762, \"Environment Score\": 0.5395833333333333, \"Variety Score\": 0.33486153326578855, \"Music Score\": null, \"Drink Score\": 0.125, \"Sauce Score\": 0.056547619047619034, \"Stars\": 3.0, \"Review Count\": 419, \"address\": \"5529 International Dr\"}, {\"business_id\": \"25iE1snCllaN2fCKodDyuQ\", \"name\": \"Ichiban Buffet\", \"Food Score\": -0.06166666666666666, \"Service Score\": 0.1464285714285714, \"Environment Score\": null, \"Variety Score\": 0.21632653061224488, \"Music Score\": null, \"Drink Score\": null, \"Sauce Score\": null, \"Stars\": 2.5, \"Review Count\": 29, \"address\": \"735 N Courtenay Pkwy\"}, {\"business_id\": \"Sx0IM4UyHbrRrA6QeulcGQ\", \"name\": \"Ichiban Buffet\", \"Food Score\": 0.14032909682909683, \"Service Score\": -0.028378378378378363, \"Environment Score\": 0.5, \"Variety Score\": 0.3288392857142857, \"Music Score\": null, \"Drink Score\": 0.05, \"Sauce Score\": -0.04270833333333333, \"Stars\": 3.0, \"Review Count\": 481, \"address\": \"5269 W Irlo Bronson Memorial Hwy\"}, {\"business_id\": \"DDvLLp9cT1m0U8SN-DYIKA\", \"name\": \"Saffron Indian Cuisine\", \"Food Score\": 0.3438917125631786, \"Service Score\": 0.5143689986282579, \"Environment Score\": 0.4654924242424242, \"Variety Score\": 0.3304883472691692, \"Music Score\": 0.1285714285714286, \"Drink Score\": 0.1863479262672811, \"Sauce Score\": 0.23583333333333334, \"Stars\": 4.5, \"Review Count\": 834, \"address\": \"7724 W Sand Lake Rd\"}, {\"business_id\": \"esHeBE48Fah6nuYKRS61KA\", \"name\": \"Saffron Indian Cuisine\", \"Food Score\": 0.21463414634146344, \"Service Score\": 0.22749999999999998, \"Environment Score\": null, \"Variety Score\": 0.17544642857142856, \"Music Score\": null, \"Drink Score\": -0.025, \"Sauce Score\": 0.35357142857142854, \"Stars\": 3.5, \"Review Count\": 70, \"address\": \"16745 Cagan Crossings Blvd, Ste 103@104\"}]}}, {\"padding\": {\"left\": 0, \"right\": 0, \"bottom\": 0, \"top\": 0}, \"mode\": \"vega-lite\"});\n",
       "</script>"
      ],
      "text/plain": [
       "alt.Chart(...)"
      ]
     },
     "execution_count": 21,
     "metadata": {},
     "output_type": "execute_result"
    }
   ],
   "source": [
    "chart = alt.Chart(plot_df,title=\"Environment Score\").transform_calculate(\n",
    "    url='https://www.google.com/search?q=' + alt.datum.name\n",
    ").mark_point().encode(\n",
    "    x='Environment Score:Q',\n",
    "    y='Stars:Q',\n",
    "    color='name:N',\n",
    "    href='url:N',\n",
    "    tooltip=['name:N', 'url:N', 'address:N'],\n",
    "    opacity=alt.condition(selection, alt.value(1), alt.value(0.1))\n",
    ").add_selection(\n",
    "    selection\n",
    ")\n",
    "\n",
    "# chart.save('../env_score.html')\n",
    "\n",
    "chart"
   ]
  },
  {
   "cell_type": "code",
   "execution_count": 22,
   "id": "fcf16fc6",
   "metadata": {},
   "outputs": [
    {
     "data": {
      "text/html": [
       "\n",
       "<div id=\"altair-viz-50f84c319e0441d393aa2d01e3ba1419\"></div>\n",
       "<script type=\"text/javascript\">\n",
       "  var VEGA_DEBUG = (typeof VEGA_DEBUG == \"undefined\") ? {} : VEGA_DEBUG;\n",
       "  (function(spec, embedOpt){\n",
       "    let outputDiv = document.currentScript.previousElementSibling;\n",
       "    if (outputDiv.id !== \"altair-viz-50f84c319e0441d393aa2d01e3ba1419\") {\n",
       "      outputDiv = document.getElementById(\"altair-viz-50f84c319e0441d393aa2d01e3ba1419\");\n",
       "    }\n",
       "    const paths = {\n",
       "      \"vega\": \"https://cdn.jsdelivr.net/npm//vega@5?noext\",\n",
       "      \"vega-lib\": \"https://cdn.jsdelivr.net/npm//vega-lib?noext\",\n",
       "      \"vega-lite\": \"https://cdn.jsdelivr.net/npm//vega-lite@4.17.0?noext\",\n",
       "      \"vega-embed\": \"https://cdn.jsdelivr.net/npm//vega-embed@6?noext\",\n",
       "    };\n",
       "\n",
       "    function maybeLoadScript(lib, version) {\n",
       "      var key = `${lib.replace(\"-\", \"\")}_version`;\n",
       "      return (VEGA_DEBUG[key] == version) ?\n",
       "        Promise.resolve(paths[lib]) :\n",
       "        new Promise(function(resolve, reject) {\n",
       "          var s = document.createElement('script');\n",
       "          document.getElementsByTagName(\"head\")[0].appendChild(s);\n",
       "          s.async = true;\n",
       "          s.onload = () => {\n",
       "            VEGA_DEBUG[key] = version;\n",
       "            return resolve(paths[lib]);\n",
       "          };\n",
       "          s.onerror = () => reject(`Error loading script: ${paths[lib]}`);\n",
       "          s.src = paths[lib];\n",
       "        });\n",
       "    }\n",
       "\n",
       "    function showError(err) {\n",
       "      outputDiv.innerHTML = `<div class=\"error\" style=\"color:red;\">${err}</div>`;\n",
       "      throw err;\n",
       "    }\n",
       "\n",
       "    function displayChart(vegaEmbed) {\n",
       "      vegaEmbed(outputDiv, spec, embedOpt)\n",
       "        .catch(err => showError(`Javascript Error: ${err.message}<br>This usually means there's a typo in your chart specification. See the javascript console for the full traceback.`));\n",
       "    }\n",
       "\n",
       "    if(typeof define === \"function\" && define.amd) {\n",
       "      requirejs.config({paths});\n",
       "      require([\"vega-embed\"], displayChart, err => showError(`Error loading script: ${err.message}`));\n",
       "    } else {\n",
       "      maybeLoadScript(\"vega\", \"5\")\n",
       "        .then(() => maybeLoadScript(\"vega-lite\", \"4.17.0\"))\n",
       "        .then(() => maybeLoadScript(\"vega-embed\", \"6\"))\n",
       "        .catch(showError)\n",
       "        .then(() => displayChart(vegaEmbed));\n",
       "    }\n",
       "  })({\"config\": {\"view\": {\"continuousWidth\": 400, \"continuousHeight\": 300}}, \"data\": {\"name\": \"data-40c475351b48d066d7900b492ea37c0b\"}, \"mark\": \"point\", \"encoding\": {\"color\": {\"field\": \"name\", \"type\": \"nominal\"}, \"href\": {\"field\": \"url\", \"type\": \"nominal\"}, \"opacity\": {\"condition\": {\"value\": 1, \"selection\": \"selector001\"}, \"value\": 0.1}, \"tooltip\": [{\"field\": \"name\", \"type\": \"nominal\"}, {\"field\": \"url\", \"type\": \"nominal\"}, {\"field\": \"address\", \"type\": \"nominal\"}], \"x\": {\"field\": \"Variety Score\", \"type\": \"quantitative\"}, \"y\": {\"field\": \"Stars\", \"type\": \"quantitative\"}}, \"selection\": {\"selector001\": {\"type\": \"multi\", \"fields\": [\"name\"], \"bind\": \"legend\"}}, \"title\": \"Variety Score\", \"transform\": [{\"calculate\": \"('https://www.google.com/search?q=' + datum.name)\", \"as\": \"url\"}], \"$schema\": \"https://vega.github.io/schema/vega-lite/v4.17.0.json\", \"datasets\": {\"data-40c475351b48d066d7900b492ea37c0b\": [{\"business_id\": \"gsicNDwrLH4WGeWMDcJv6w\", \"name\": \"Ahmed Indian Restaurant\", \"Food Score\": 0.24944444444444444, \"Service Score\": 0.34924242424242424, \"Environment Score\": 0.13333333333333336, \"Variety Score\": 0.2303312629399586, \"Music Score\": null, \"Drink Score\": 0.5, \"Sauce Score\": -0.0625, \"Stars\": 3.5, \"Review Count\": 146, \"address\": \"11301 S Orange Blossom Trl, Ste 104\"}, {\"business_id\": \"n4diWKcRvAFctwdRA6IPMg\", \"name\": \"Ahmed Indian Restaurant\", \"Food Score\": 0.2261961722488038, \"Service Score\": 0.40454545454545454, \"Environment Score\": 0.4916666666666667, \"Variety Score\": 0.17304421768707481, \"Music Score\": 0.0, \"Drink Score\": -0.2, \"Sauce Score\": 0.15833333333333335, \"Stars\": 4.0, \"Review Count\": 131, \"address\": \"10042 University Blvd\"}, {\"business_id\": \"B2F2hFXUSbcr8dG69w6iVQ\", \"name\": \"Cici's Pizza\", \"Food Score\": 0.3041666666666667, \"Service Score\": 0.2027777777777778, \"Environment Score\": 0.26666666666666666, \"Variety Score\": 0.20113378684807257, \"Music Score\": null, \"Drink Score\": 0.022222222222222237, \"Sauce Score\": 0.0, \"Stars\": 2.5, \"Review Count\": 102, \"address\": \"7437 International Dr\"}, {\"business_id\": \"mb0IO3qQ0MMNmPypdz37fw\", \"name\": \"Cici's Pizza\", \"Food Score\": 0.42000000000000004, \"Service Score\": 0.0780952380952381, \"Environment Score\": null, \"Variety Score\": 0.1, \"Music Score\": null, \"Drink Score\": 0.22499999999999998, \"Sauce Score\": 0.0, \"Stars\": 2.5, \"Review Count\": 32, \"address\": \"11701 International Dr, Ste 2200\"}, {\"business_id\": \"TNpbiGJJd5iePBj19yTV_A\", \"name\": \"Cici's Pizza\", \"Food Score\": 0.2333333333333333, \"Service Score\": 0.74375, \"Environment Score\": 0.1, \"Variety Score\": 0.23333333333333334, \"Music Score\": null, \"Drink Score\": 0.16071428571428564, \"Sauce Score\": 0.0, \"Stars\": 3.0, \"Review Count\": 55, \"address\": \"5035 W Irlo Bronson Memorial Hwy\"}, {\"business_id\": \"8ardwENx6HbdkQaNv0AIyQ\", \"name\": \"Cici's Pizza\", \"Food Score\": 0.3433333333333333, \"Service Score\": 0.7, \"Environment Score\": 0.4777777777777777, \"Variety Score\": 0.20731292517006802, \"Music Score\": null, \"Drink Score\": 0.05, \"Sauce Score\": null, \"Stars\": 3.0, \"Review Count\": 35, \"address\": \"13605 Sr 535, Ste 101\"}, {\"business_id\": \"2C1A6GzXXRi_eEieQAmyRg\", \"name\": \"Crazy Buffet\", \"Food Score\": 0.19938088976550516, \"Service Score\": 0.02916666666666667, \"Environment Score\": -0.4, \"Variety Score\": 0.28058016749605535, \"Music Score\": null, \"Drink Score\": 0.21666666666666665, \"Sauce Score\": 0.0, \"Stars\": 3.5, \"Review Count\": 240, \"address\": \"7038 W Colonial Dr\"}, {\"business_id\": \"hmcXUPprL7ju7nzJlPIqlg\", \"name\": \"El Palacio Buffet\", \"Food Score\": 0.19007936507936507, \"Service Score\": 0.46458333333333335, \"Environment Score\": 0.48333333333333334, \"Variety Score\": 0.3860491071428571, \"Music Score\": null, \"Drink Score\": null, \"Sauce Score\": null, \"Stars\": 4.0, \"Review Count\": 38, \"address\": \"909 West Vine St\"}, {\"business_id\": \"J9e7IUn_FmZ7Y-OtUql6Ug\", \"name\": \"El Palacio Buffet\", \"Food Score\": 0.15195414913724772, \"Service Score\": 0.26805555555555555, \"Environment Score\": 0.16111111111111112, \"Variety Score\": 0.3576494427558258, \"Music Score\": null, \"Drink Score\": 0.043877551020408155, \"Sauce Score\": null, \"Stars\": 3.5, \"Review Count\": 152, \"address\": \"7403 S Orange Blossom Trl\"}, {\"business_id\": \"GLHa2PtTm9wL_cUvEYxkHQ\", \"name\": \"El Palacio Buffet\", \"Food Score\": 0.16428571428571428, \"Service Score\": 0.10060606060606059, \"Environment Score\": null, \"Variety Score\": 0.26, \"Music Score\": 0.0, \"Drink Score\": null, \"Sauce Score\": null, \"Stars\": 1.5, \"Review Count\": 26, \"address\": \"843 Lee Rd\"}, {\"business_id\": \"lD62IuTkmNXwNc9_BNYr_w\", \"name\": \"Golden Corral Buffet & Grill\", \"Food Score\": 0.21694444444444447, \"Service Score\": 0.5923611111111111, \"Environment Score\": 0.35833333333333334, \"Variety Score\": 0.2, \"Music Score\": null, \"Drink Score\": -0.1875, \"Sauce Score\": null, \"Stars\": 3.0, \"Review Count\": 69, \"address\": \"11731 E. Colonial Drive\"}, {\"business_id\": \"EIVG9fe45-Meyg4uHv_2lQ\", \"name\": \"Golden Corral Buffet & Grill\", \"Food Score\": 0.25773809523809527, \"Service Score\": 0.32166666666666666, \"Environment Score\": null, \"Variety Score\": 0.033333333333333326, \"Music Score\": null, \"Drink Score\": null, \"Sauce Score\": null, \"Stars\": 2.5, \"Review Count\": 22, \"address\": \"7251 West Colonial Drive\"}, {\"business_id\": \"zqa5digfaYKtzgOnx8tzSQ\", \"name\": \"Golden Corral Buffet & Grill\", \"Food Score\": 0.14821428571428572, \"Service Score\": 0.41862745098039217, \"Environment Score\": null, \"Variety Score\": 0.3438775510204081, \"Music Score\": null, \"Drink Score\": -0.125, \"Sauce Score\": 0.125, \"Stars\": 2.0, \"Review Count\": 72, \"address\": \"5535 S Kirkman Rd\"}, {\"business_id\": \"_Zn7bmef51dkorKR8M91sw\", \"name\": \"Golden Corral Buffet & Grill\", \"Food Score\": 0.13874458874458875, \"Service Score\": 0.3355263157894737, \"Environment Score\": 0.38, \"Variety Score\": 0.28531746031746036, \"Music Score\": null, \"Drink Score\": 0.2, \"Sauce Score\": null, \"Stars\": 2.5, \"Review Count\": 160, \"address\": \"8707 Vineland Avenue\"}, {\"business_id\": \"pOuNx0bkXJ1QibLSBxDgig\", \"name\": \"Golden Corral Buffet & Grill\", \"Food Score\": -0.024056036556036556, \"Service Score\": 0.07986111111111112, \"Environment Score\": 0.05, \"Variety Score\": 0.23992673992673993, \"Music Score\": null, \"Drink Score\": 0.4333333333333333, \"Sauce Score\": 0.0, \"Stars\": 2.0, \"Review Count\": 107, \"address\": \"6077 W. Irlo Bronson Memorial\"}, {\"business_id\": \"QfWyyGjzgzNY_Qy7LZFV4A\", \"name\": \"Golden Corral Buffet & Grill\", \"Food Score\": 0.20877039627039626, \"Service Score\": 0.5236111111111111, \"Environment Score\": 0.3666666666666667, \"Variety Score\": 0.295875147579693, \"Music Score\": null, \"Drink Score\": 0.059090909090909076, \"Sauce Score\": 0.0, \"Stars\": 3.5, \"Review Count\": 112, \"address\": \"11701 International Dr\"}, {\"business_id\": \"q2fO6kwLEa6PoCgy6_L1Dg\", \"name\": \"Golden Corral Buffet & Grill\", \"Food Score\": 0.22941176470588234, \"Service Score\": 0.37604166666666666, \"Environment Score\": -0.0833333333333333, \"Variety Score\": 0.4828571428571428, \"Music Score\": null, \"Drink Score\": null, \"Sauce Score\": 0.25, \"Stars\": 3.5, \"Review Count\": 53, \"address\": \"2701 W Vine St\"}, {\"business_id\": \"Tm_28r-suhH8dUkjRoMjAA\", \"name\": \"Golden Corral Buffet & Grill\", \"Food Score\": 0.08169765840220386, \"Service Score\": 0.1875, \"Environment Score\": 0.10555555555555556, \"Variety Score\": 0.33938492063492065, \"Music Score\": null, \"Drink Score\": 0.11666666666666667, \"Sauce Score\": null, \"Stars\": 2.5, \"Review Count\": 123, \"address\": \"8032 International Drive\"}, {\"business_id\": \"cKfE2R3q3jHOAQIS8_ahmg\", \"name\": \"Golden Corral Buffet & Grill\", \"Food Score\": -0.06052631578947368, \"Service Score\": -0.0037878787878787945, \"Environment Score\": 0.8, \"Variety Score\": 0.38033126293995856, \"Music Score\": null, \"Drink Score\": null, \"Sauce Score\": null, \"Stars\": 2.5, \"Review Count\": 60, \"address\": \"897 West Town Parkway\"}, {\"business_id\": \"HeHoNEvd1aWlmlyITaH9bw\", \"name\": \"Golden Corral Buffet & Grill\", \"Food Score\": 0.19722222222222222, \"Service Score\": 0.45401785714285714, \"Environment Score\": 0.0, \"Variety Score\": 0.02713358070500927, \"Music Score\": null, \"Drink Score\": -0.1, \"Sauce Score\": null, \"Stars\": 2.5, \"Review Count\": 62, \"address\": \"2328 S. Semoran Blvd.\"}, {\"business_id\": \"6_xgMJrpfQWOBBcofc_QmQ\", \"name\": \"Golden Corral Buffet & Grill\", \"Food Score\": -0.022727272727272717, \"Service Score\": 0.2875, \"Environment Score\": null, \"Variety Score\": 0.27261904761904765, \"Music Score\": null, \"Drink Score\": null, \"Sauce Score\": null, \"Stars\": 3.0, \"Review Count\": 34, \"address\": \"1555 Grand Hwy\"}, {\"business_id\": \"A8A9qhSztrqB6TFKjnq-hA\", \"name\": \"Hokkaido Chinese & Japanese Buffet\", \"Food Score\": 0.22147869674185464, \"Service Score\": 0.25863095238095235, \"Environment Score\": 0.5722222222222223, \"Variety Score\": 0.36051698769395396, \"Music Score\": null, \"Drink Score\": 0.41428571428571426, \"Sauce Score\": -0.075, \"Stars\": 3.5, \"Review Count\": 369, \"address\": \"5737 W Irlo Bronson Memorial Hwy\"}, {\"business_id\": \"4bPz2NYimJ8ZVozbxLwyCA\", \"name\": \"Hokkaido Chinese & Japanese Buffet\", \"Food Score\": 0.17051042862610027, \"Service Score\": 0.08687500000000001, \"Environment Score\": 0.5333333333333333, \"Variety Score\": 0.3175195451314854, \"Music Score\": 0.0, \"Drink Score\": 0.035, \"Sauce Score\": 0.225, \"Stars\": 3.0, \"Review Count\": 316, \"address\": \"12173 S Apopka Vineland Rd\"}, {\"business_id\": \"iHmBoyZEWsJfryywZmrB8A\", \"name\": \"Ichiban Buffet\", \"Food Score\": 0.13019514767932489, \"Service Score\": 0.2274404761904762, \"Environment Score\": 0.5395833333333333, \"Variety Score\": 0.33486153326578855, \"Music Score\": null, \"Drink Score\": 0.125, \"Sauce Score\": 0.056547619047619034, \"Stars\": 3.0, \"Review Count\": 419, \"address\": \"5529 International Dr\"}, {\"business_id\": \"25iE1snCllaN2fCKodDyuQ\", \"name\": \"Ichiban Buffet\", \"Food Score\": -0.06166666666666666, \"Service Score\": 0.1464285714285714, \"Environment Score\": null, \"Variety Score\": 0.21632653061224488, \"Music Score\": null, \"Drink Score\": null, \"Sauce Score\": null, \"Stars\": 2.5, \"Review Count\": 29, \"address\": \"735 N Courtenay Pkwy\"}, {\"business_id\": \"Sx0IM4UyHbrRrA6QeulcGQ\", \"name\": \"Ichiban Buffet\", \"Food Score\": 0.14032909682909683, \"Service Score\": -0.028378378378378363, \"Environment Score\": 0.5, \"Variety Score\": 0.3288392857142857, \"Music Score\": null, \"Drink Score\": 0.05, \"Sauce Score\": -0.04270833333333333, \"Stars\": 3.0, \"Review Count\": 481, \"address\": \"5269 W Irlo Bronson Memorial Hwy\"}, {\"business_id\": \"DDvLLp9cT1m0U8SN-DYIKA\", \"name\": \"Saffron Indian Cuisine\", \"Food Score\": 0.3438917125631786, \"Service Score\": 0.5143689986282579, \"Environment Score\": 0.4654924242424242, \"Variety Score\": 0.3304883472691692, \"Music Score\": 0.1285714285714286, \"Drink Score\": 0.1863479262672811, \"Sauce Score\": 0.23583333333333334, \"Stars\": 4.5, \"Review Count\": 834, \"address\": \"7724 W Sand Lake Rd\"}, {\"business_id\": \"esHeBE48Fah6nuYKRS61KA\", \"name\": \"Saffron Indian Cuisine\", \"Food Score\": 0.21463414634146344, \"Service Score\": 0.22749999999999998, \"Environment Score\": null, \"Variety Score\": 0.17544642857142856, \"Music Score\": null, \"Drink Score\": -0.025, \"Sauce Score\": 0.35357142857142854, \"Stars\": 3.5, \"Review Count\": 70, \"address\": \"16745 Cagan Crossings Blvd, Ste 103@104\"}]}}, {\"padding\": {\"left\": 0, \"right\": 0, \"bottom\": 0, \"top\": 0}, \"mode\": \"vega-lite\"});\n",
       "</script>"
      ],
      "text/plain": [
       "alt.Chart(...)"
      ]
     },
     "execution_count": 22,
     "metadata": {},
     "output_type": "execute_result"
    }
   ],
   "source": [
    "chart = alt.Chart(plot_df,title=\"Variety Score\").transform_calculate(\n",
    "    url='https://www.google.com/search?q=' + alt.datum.name\n",
    ").mark_point().encode(\n",
    "    x='Variety Score:Q',\n",
    "    y='Stars:Q',\n",
    "    color='name:N',\n",
    "    href='url:N',\n",
    "    tooltip=['name:N', 'url:N', 'address:N'],\n",
    "    opacity=alt.condition(selection, alt.value(1), alt.value(0.1))\n",
    ").add_selection(\n",
    "    selection\n",
    ")\n",
    "\n",
    "# chart.save('../variety_score.html')\n",
    "\n",
    "chart"
   ]
  },
  {
   "cell_type": "code",
   "execution_count": 23,
   "id": "f5b7a9a7",
   "metadata": {},
   "outputs": [
    {
     "data": {
      "text/html": [
       "\n",
       "<div id=\"altair-viz-f36c07ca6b5c46a1affe975ffaa5c8a0\"></div>\n",
       "<script type=\"text/javascript\">\n",
       "  var VEGA_DEBUG = (typeof VEGA_DEBUG == \"undefined\") ? {} : VEGA_DEBUG;\n",
       "  (function(spec, embedOpt){\n",
       "    let outputDiv = document.currentScript.previousElementSibling;\n",
       "    if (outputDiv.id !== \"altair-viz-f36c07ca6b5c46a1affe975ffaa5c8a0\") {\n",
       "      outputDiv = document.getElementById(\"altair-viz-f36c07ca6b5c46a1affe975ffaa5c8a0\");\n",
       "    }\n",
       "    const paths = {\n",
       "      \"vega\": \"https://cdn.jsdelivr.net/npm//vega@5?noext\",\n",
       "      \"vega-lib\": \"https://cdn.jsdelivr.net/npm//vega-lib?noext\",\n",
       "      \"vega-lite\": \"https://cdn.jsdelivr.net/npm//vega-lite@4.17.0?noext\",\n",
       "      \"vega-embed\": \"https://cdn.jsdelivr.net/npm//vega-embed@6?noext\",\n",
       "    };\n",
       "\n",
       "    function maybeLoadScript(lib, version) {\n",
       "      var key = `${lib.replace(\"-\", \"\")}_version`;\n",
       "      return (VEGA_DEBUG[key] == version) ?\n",
       "        Promise.resolve(paths[lib]) :\n",
       "        new Promise(function(resolve, reject) {\n",
       "          var s = document.createElement('script');\n",
       "          document.getElementsByTagName(\"head\")[0].appendChild(s);\n",
       "          s.async = true;\n",
       "          s.onload = () => {\n",
       "            VEGA_DEBUG[key] = version;\n",
       "            return resolve(paths[lib]);\n",
       "          };\n",
       "          s.onerror = () => reject(`Error loading script: ${paths[lib]}`);\n",
       "          s.src = paths[lib];\n",
       "        });\n",
       "    }\n",
       "\n",
       "    function showError(err) {\n",
       "      outputDiv.innerHTML = `<div class=\"error\" style=\"color:red;\">${err}</div>`;\n",
       "      throw err;\n",
       "    }\n",
       "\n",
       "    function displayChart(vegaEmbed) {\n",
       "      vegaEmbed(outputDiv, spec, embedOpt)\n",
       "        .catch(err => showError(`Javascript Error: ${err.message}<br>This usually means there's a typo in your chart specification. See the javascript console for the full traceback.`));\n",
       "    }\n",
       "\n",
       "    if(typeof define === \"function\" && define.amd) {\n",
       "      requirejs.config({paths});\n",
       "      require([\"vega-embed\"], displayChart, err => showError(`Error loading script: ${err.message}`));\n",
       "    } else {\n",
       "      maybeLoadScript(\"vega\", \"5\")\n",
       "        .then(() => maybeLoadScript(\"vega-lite\", \"4.17.0\"))\n",
       "        .then(() => maybeLoadScript(\"vega-embed\", \"6\"))\n",
       "        .catch(showError)\n",
       "        .then(() => displayChart(vegaEmbed));\n",
       "    }\n",
       "  })({\"config\": {\"view\": {\"continuousWidth\": 400, \"continuousHeight\": 300}}, \"data\": {\"name\": \"data-40c475351b48d066d7900b492ea37c0b\"}, \"mark\": \"point\", \"encoding\": {\"color\": {\"field\": \"name\", \"type\": \"nominal\"}, \"href\": {\"field\": \"url\", \"type\": \"nominal\"}, \"opacity\": {\"condition\": {\"value\": 1, \"selection\": \"selector001\"}, \"value\": 0.1}, \"tooltip\": [{\"field\": \"name\", \"type\": \"nominal\"}, {\"field\": \"url\", \"type\": \"nominal\"}, {\"field\": \"address\", \"type\": \"nominal\"}], \"x\": {\"field\": \"Music Score\", \"type\": \"quantitative\"}, \"y\": {\"field\": \"Stars\", \"type\": \"quantitative\"}}, \"selection\": {\"selector001\": {\"type\": \"multi\", \"fields\": [\"name\"], \"bind\": \"legend\"}}, \"title\": \"Music Score\", \"transform\": [{\"calculate\": \"('https://www.google.com/search?q=' + datum.name)\", \"as\": \"url\"}], \"$schema\": \"https://vega.github.io/schema/vega-lite/v4.17.0.json\", \"datasets\": {\"data-40c475351b48d066d7900b492ea37c0b\": [{\"business_id\": \"gsicNDwrLH4WGeWMDcJv6w\", \"name\": \"Ahmed Indian Restaurant\", \"Food Score\": 0.24944444444444444, \"Service Score\": 0.34924242424242424, \"Environment Score\": 0.13333333333333336, \"Variety Score\": 0.2303312629399586, \"Music Score\": null, \"Drink Score\": 0.5, \"Sauce Score\": -0.0625, \"Stars\": 3.5, \"Review Count\": 146, \"address\": \"11301 S Orange Blossom Trl, Ste 104\"}, {\"business_id\": \"n4diWKcRvAFctwdRA6IPMg\", \"name\": \"Ahmed Indian Restaurant\", \"Food Score\": 0.2261961722488038, \"Service Score\": 0.40454545454545454, \"Environment Score\": 0.4916666666666667, \"Variety Score\": 0.17304421768707481, \"Music Score\": 0.0, \"Drink Score\": -0.2, \"Sauce Score\": 0.15833333333333335, \"Stars\": 4.0, \"Review Count\": 131, \"address\": \"10042 University Blvd\"}, {\"business_id\": \"B2F2hFXUSbcr8dG69w6iVQ\", \"name\": \"Cici's Pizza\", \"Food Score\": 0.3041666666666667, \"Service Score\": 0.2027777777777778, \"Environment Score\": 0.26666666666666666, \"Variety Score\": 0.20113378684807257, \"Music Score\": null, \"Drink Score\": 0.022222222222222237, \"Sauce Score\": 0.0, \"Stars\": 2.5, \"Review Count\": 102, \"address\": \"7437 International Dr\"}, {\"business_id\": \"mb0IO3qQ0MMNmPypdz37fw\", \"name\": \"Cici's Pizza\", \"Food Score\": 0.42000000000000004, \"Service Score\": 0.0780952380952381, \"Environment Score\": null, \"Variety Score\": 0.1, \"Music Score\": null, \"Drink Score\": 0.22499999999999998, \"Sauce Score\": 0.0, \"Stars\": 2.5, \"Review Count\": 32, \"address\": \"11701 International Dr, Ste 2200\"}, {\"business_id\": \"TNpbiGJJd5iePBj19yTV_A\", \"name\": \"Cici's Pizza\", \"Food Score\": 0.2333333333333333, \"Service Score\": 0.74375, \"Environment Score\": 0.1, \"Variety Score\": 0.23333333333333334, \"Music Score\": null, \"Drink Score\": 0.16071428571428564, \"Sauce Score\": 0.0, \"Stars\": 3.0, \"Review Count\": 55, \"address\": \"5035 W Irlo Bronson Memorial Hwy\"}, {\"business_id\": \"8ardwENx6HbdkQaNv0AIyQ\", \"name\": \"Cici's Pizza\", \"Food Score\": 0.3433333333333333, \"Service Score\": 0.7, \"Environment Score\": 0.4777777777777777, \"Variety Score\": 0.20731292517006802, \"Music Score\": null, \"Drink Score\": 0.05, \"Sauce Score\": null, \"Stars\": 3.0, \"Review Count\": 35, \"address\": \"13605 Sr 535, Ste 101\"}, {\"business_id\": \"2C1A6GzXXRi_eEieQAmyRg\", \"name\": \"Crazy Buffet\", \"Food Score\": 0.19938088976550516, \"Service Score\": 0.02916666666666667, \"Environment Score\": -0.4, \"Variety Score\": 0.28058016749605535, \"Music Score\": null, \"Drink Score\": 0.21666666666666665, \"Sauce Score\": 0.0, \"Stars\": 3.5, \"Review Count\": 240, \"address\": \"7038 W Colonial Dr\"}, {\"business_id\": \"hmcXUPprL7ju7nzJlPIqlg\", \"name\": \"El Palacio Buffet\", \"Food Score\": 0.19007936507936507, \"Service Score\": 0.46458333333333335, \"Environment Score\": 0.48333333333333334, \"Variety Score\": 0.3860491071428571, \"Music Score\": null, \"Drink Score\": null, \"Sauce Score\": null, \"Stars\": 4.0, \"Review Count\": 38, \"address\": \"909 West Vine St\"}, {\"business_id\": \"J9e7IUn_FmZ7Y-OtUql6Ug\", \"name\": \"El Palacio Buffet\", \"Food Score\": 0.15195414913724772, \"Service Score\": 0.26805555555555555, \"Environment Score\": 0.16111111111111112, \"Variety Score\": 0.3576494427558258, \"Music Score\": null, \"Drink Score\": 0.043877551020408155, \"Sauce Score\": null, \"Stars\": 3.5, \"Review Count\": 152, \"address\": \"7403 S Orange Blossom Trl\"}, {\"business_id\": \"GLHa2PtTm9wL_cUvEYxkHQ\", \"name\": \"El Palacio Buffet\", \"Food Score\": 0.16428571428571428, \"Service Score\": 0.10060606060606059, \"Environment Score\": null, \"Variety Score\": 0.26, \"Music Score\": 0.0, \"Drink Score\": null, \"Sauce Score\": null, \"Stars\": 1.5, \"Review Count\": 26, \"address\": \"843 Lee Rd\"}, {\"business_id\": \"lD62IuTkmNXwNc9_BNYr_w\", \"name\": \"Golden Corral Buffet & Grill\", \"Food Score\": 0.21694444444444447, \"Service Score\": 0.5923611111111111, \"Environment Score\": 0.35833333333333334, \"Variety Score\": 0.2, \"Music Score\": null, \"Drink Score\": -0.1875, \"Sauce Score\": null, \"Stars\": 3.0, \"Review Count\": 69, \"address\": \"11731 E. Colonial Drive\"}, {\"business_id\": \"EIVG9fe45-Meyg4uHv_2lQ\", \"name\": \"Golden Corral Buffet & Grill\", \"Food Score\": 0.25773809523809527, \"Service Score\": 0.32166666666666666, \"Environment Score\": null, \"Variety Score\": 0.033333333333333326, \"Music Score\": null, \"Drink Score\": null, \"Sauce Score\": null, \"Stars\": 2.5, \"Review Count\": 22, \"address\": \"7251 West Colonial Drive\"}, {\"business_id\": \"zqa5digfaYKtzgOnx8tzSQ\", \"name\": \"Golden Corral Buffet & Grill\", \"Food Score\": 0.14821428571428572, \"Service Score\": 0.41862745098039217, \"Environment Score\": null, \"Variety Score\": 0.3438775510204081, \"Music Score\": null, \"Drink Score\": -0.125, \"Sauce Score\": 0.125, \"Stars\": 2.0, \"Review Count\": 72, \"address\": \"5535 S Kirkman Rd\"}, {\"business_id\": \"_Zn7bmef51dkorKR8M91sw\", \"name\": \"Golden Corral Buffet & Grill\", \"Food Score\": 0.13874458874458875, \"Service Score\": 0.3355263157894737, \"Environment Score\": 0.38, \"Variety Score\": 0.28531746031746036, \"Music Score\": null, \"Drink Score\": 0.2, \"Sauce Score\": null, \"Stars\": 2.5, \"Review Count\": 160, \"address\": \"8707 Vineland Avenue\"}, {\"business_id\": \"pOuNx0bkXJ1QibLSBxDgig\", \"name\": \"Golden Corral Buffet & Grill\", \"Food Score\": -0.024056036556036556, \"Service Score\": 0.07986111111111112, \"Environment Score\": 0.05, \"Variety Score\": 0.23992673992673993, \"Music Score\": null, \"Drink Score\": 0.4333333333333333, \"Sauce Score\": 0.0, \"Stars\": 2.0, \"Review Count\": 107, \"address\": \"6077 W. Irlo Bronson Memorial\"}, {\"business_id\": \"QfWyyGjzgzNY_Qy7LZFV4A\", \"name\": \"Golden Corral Buffet & Grill\", \"Food Score\": 0.20877039627039626, \"Service Score\": 0.5236111111111111, \"Environment Score\": 0.3666666666666667, \"Variety Score\": 0.295875147579693, \"Music Score\": null, \"Drink Score\": 0.059090909090909076, \"Sauce Score\": 0.0, \"Stars\": 3.5, \"Review Count\": 112, \"address\": \"11701 International Dr\"}, {\"business_id\": \"q2fO6kwLEa6PoCgy6_L1Dg\", \"name\": \"Golden Corral Buffet & Grill\", \"Food Score\": 0.22941176470588234, \"Service Score\": 0.37604166666666666, \"Environment Score\": -0.0833333333333333, \"Variety Score\": 0.4828571428571428, \"Music Score\": null, \"Drink Score\": null, \"Sauce Score\": 0.25, \"Stars\": 3.5, \"Review Count\": 53, \"address\": \"2701 W Vine St\"}, {\"business_id\": \"Tm_28r-suhH8dUkjRoMjAA\", \"name\": \"Golden Corral Buffet & Grill\", \"Food Score\": 0.08169765840220386, \"Service Score\": 0.1875, \"Environment Score\": 0.10555555555555556, \"Variety Score\": 0.33938492063492065, \"Music Score\": null, \"Drink Score\": 0.11666666666666667, \"Sauce Score\": null, \"Stars\": 2.5, \"Review Count\": 123, \"address\": \"8032 International Drive\"}, {\"business_id\": \"cKfE2R3q3jHOAQIS8_ahmg\", \"name\": \"Golden Corral Buffet & Grill\", \"Food Score\": -0.06052631578947368, \"Service Score\": -0.0037878787878787945, \"Environment Score\": 0.8, \"Variety Score\": 0.38033126293995856, \"Music Score\": null, \"Drink Score\": null, \"Sauce Score\": null, \"Stars\": 2.5, \"Review Count\": 60, \"address\": \"897 West Town Parkway\"}, {\"business_id\": \"HeHoNEvd1aWlmlyITaH9bw\", \"name\": \"Golden Corral Buffet & Grill\", \"Food Score\": 0.19722222222222222, \"Service Score\": 0.45401785714285714, \"Environment Score\": 0.0, \"Variety Score\": 0.02713358070500927, \"Music Score\": null, \"Drink Score\": -0.1, \"Sauce Score\": null, \"Stars\": 2.5, \"Review Count\": 62, \"address\": \"2328 S. Semoran Blvd.\"}, {\"business_id\": \"6_xgMJrpfQWOBBcofc_QmQ\", \"name\": \"Golden Corral Buffet & Grill\", \"Food Score\": -0.022727272727272717, \"Service Score\": 0.2875, \"Environment Score\": null, \"Variety Score\": 0.27261904761904765, \"Music Score\": null, \"Drink Score\": null, \"Sauce Score\": null, \"Stars\": 3.0, \"Review Count\": 34, \"address\": \"1555 Grand Hwy\"}, {\"business_id\": \"A8A9qhSztrqB6TFKjnq-hA\", \"name\": \"Hokkaido Chinese & Japanese Buffet\", \"Food Score\": 0.22147869674185464, \"Service Score\": 0.25863095238095235, \"Environment Score\": 0.5722222222222223, \"Variety Score\": 0.36051698769395396, \"Music Score\": null, \"Drink Score\": 0.41428571428571426, \"Sauce Score\": -0.075, \"Stars\": 3.5, \"Review Count\": 369, \"address\": \"5737 W Irlo Bronson Memorial Hwy\"}, {\"business_id\": \"4bPz2NYimJ8ZVozbxLwyCA\", \"name\": \"Hokkaido Chinese & Japanese Buffet\", \"Food Score\": 0.17051042862610027, \"Service Score\": 0.08687500000000001, \"Environment Score\": 0.5333333333333333, \"Variety Score\": 0.3175195451314854, \"Music Score\": 0.0, \"Drink Score\": 0.035, \"Sauce Score\": 0.225, \"Stars\": 3.0, \"Review Count\": 316, \"address\": \"12173 S Apopka Vineland Rd\"}, {\"business_id\": \"iHmBoyZEWsJfryywZmrB8A\", \"name\": \"Ichiban Buffet\", \"Food Score\": 0.13019514767932489, \"Service Score\": 0.2274404761904762, \"Environment Score\": 0.5395833333333333, \"Variety Score\": 0.33486153326578855, \"Music Score\": null, \"Drink Score\": 0.125, \"Sauce Score\": 0.056547619047619034, \"Stars\": 3.0, \"Review Count\": 419, \"address\": \"5529 International Dr\"}, {\"business_id\": \"25iE1snCllaN2fCKodDyuQ\", \"name\": \"Ichiban Buffet\", \"Food Score\": -0.06166666666666666, \"Service Score\": 0.1464285714285714, \"Environment Score\": null, \"Variety Score\": 0.21632653061224488, \"Music Score\": null, \"Drink Score\": null, \"Sauce Score\": null, \"Stars\": 2.5, \"Review Count\": 29, \"address\": \"735 N Courtenay Pkwy\"}, {\"business_id\": \"Sx0IM4UyHbrRrA6QeulcGQ\", \"name\": \"Ichiban Buffet\", \"Food Score\": 0.14032909682909683, \"Service Score\": -0.028378378378378363, \"Environment Score\": 0.5, \"Variety Score\": 0.3288392857142857, \"Music Score\": null, \"Drink Score\": 0.05, \"Sauce Score\": -0.04270833333333333, \"Stars\": 3.0, \"Review Count\": 481, \"address\": \"5269 W Irlo Bronson Memorial Hwy\"}, {\"business_id\": \"DDvLLp9cT1m0U8SN-DYIKA\", \"name\": \"Saffron Indian Cuisine\", \"Food Score\": 0.3438917125631786, \"Service Score\": 0.5143689986282579, \"Environment Score\": 0.4654924242424242, \"Variety Score\": 0.3304883472691692, \"Music Score\": 0.1285714285714286, \"Drink Score\": 0.1863479262672811, \"Sauce Score\": 0.23583333333333334, \"Stars\": 4.5, \"Review Count\": 834, \"address\": \"7724 W Sand Lake Rd\"}, {\"business_id\": \"esHeBE48Fah6nuYKRS61KA\", \"name\": \"Saffron Indian Cuisine\", \"Food Score\": 0.21463414634146344, \"Service Score\": 0.22749999999999998, \"Environment Score\": null, \"Variety Score\": 0.17544642857142856, \"Music Score\": null, \"Drink Score\": -0.025, \"Sauce Score\": 0.35357142857142854, \"Stars\": 3.5, \"Review Count\": 70, \"address\": \"16745 Cagan Crossings Blvd, Ste 103@104\"}]}}, {\"padding\": {\"left\": 0, \"right\": 0, \"bottom\": 0, \"top\": 0}, \"mode\": \"vega-lite\"});\n",
       "</script>"
      ],
      "text/plain": [
       "alt.Chart(...)"
      ]
     },
     "execution_count": 23,
     "metadata": {},
     "output_type": "execute_result"
    }
   ],
   "source": [
    "chart = alt.Chart(plot_df,title=\"Music Score\").transform_calculate(\n",
    "    url='https://www.google.com/search?q=' + alt.datum.name\n",
    ").mark_point().encode(\n",
    "    x='Music Score:Q',\n",
    "    y='Stars:Q',\n",
    "    color='name:N',\n",
    "    href='url:N',\n",
    "    tooltip=['name:N', 'url:N', 'address:N'],\n",
    "    opacity=alt.condition(selection, alt.value(1), alt.value(0.1))\n",
    ").add_selection(\n",
    "    selection\n",
    ")\n",
    "\n",
    "# chart.save('../music_score.html')\n",
    "\n",
    "chart"
   ]
  },
  {
   "cell_type": "code",
   "execution_count": 24,
   "id": "a90ac17b",
   "metadata": {},
   "outputs": [
    {
     "data": {
      "text/html": [
       "\n",
       "<div id=\"altair-viz-d71442d0efc54200ad6d1a89c0281f0a\"></div>\n",
       "<script type=\"text/javascript\">\n",
       "  var VEGA_DEBUG = (typeof VEGA_DEBUG == \"undefined\") ? {} : VEGA_DEBUG;\n",
       "  (function(spec, embedOpt){\n",
       "    let outputDiv = document.currentScript.previousElementSibling;\n",
       "    if (outputDiv.id !== \"altair-viz-d71442d0efc54200ad6d1a89c0281f0a\") {\n",
       "      outputDiv = document.getElementById(\"altair-viz-d71442d0efc54200ad6d1a89c0281f0a\");\n",
       "    }\n",
       "    const paths = {\n",
       "      \"vega\": \"https://cdn.jsdelivr.net/npm//vega@5?noext\",\n",
       "      \"vega-lib\": \"https://cdn.jsdelivr.net/npm//vega-lib?noext\",\n",
       "      \"vega-lite\": \"https://cdn.jsdelivr.net/npm//vega-lite@4.17.0?noext\",\n",
       "      \"vega-embed\": \"https://cdn.jsdelivr.net/npm//vega-embed@6?noext\",\n",
       "    };\n",
       "\n",
       "    function maybeLoadScript(lib, version) {\n",
       "      var key = `${lib.replace(\"-\", \"\")}_version`;\n",
       "      return (VEGA_DEBUG[key] == version) ?\n",
       "        Promise.resolve(paths[lib]) :\n",
       "        new Promise(function(resolve, reject) {\n",
       "          var s = document.createElement('script');\n",
       "          document.getElementsByTagName(\"head\")[0].appendChild(s);\n",
       "          s.async = true;\n",
       "          s.onload = () => {\n",
       "            VEGA_DEBUG[key] = version;\n",
       "            return resolve(paths[lib]);\n",
       "          };\n",
       "          s.onerror = () => reject(`Error loading script: ${paths[lib]}`);\n",
       "          s.src = paths[lib];\n",
       "        });\n",
       "    }\n",
       "\n",
       "    function showError(err) {\n",
       "      outputDiv.innerHTML = `<div class=\"error\" style=\"color:red;\">${err}</div>`;\n",
       "      throw err;\n",
       "    }\n",
       "\n",
       "    function displayChart(vegaEmbed) {\n",
       "      vegaEmbed(outputDiv, spec, embedOpt)\n",
       "        .catch(err => showError(`Javascript Error: ${err.message}<br>This usually means there's a typo in your chart specification. See the javascript console for the full traceback.`));\n",
       "    }\n",
       "\n",
       "    if(typeof define === \"function\" && define.amd) {\n",
       "      requirejs.config({paths});\n",
       "      require([\"vega-embed\"], displayChart, err => showError(`Error loading script: ${err.message}`));\n",
       "    } else {\n",
       "      maybeLoadScript(\"vega\", \"5\")\n",
       "        .then(() => maybeLoadScript(\"vega-lite\", \"4.17.0\"))\n",
       "        .then(() => maybeLoadScript(\"vega-embed\", \"6\"))\n",
       "        .catch(showError)\n",
       "        .then(() => displayChart(vegaEmbed));\n",
       "    }\n",
       "  })({\"config\": {\"view\": {\"continuousWidth\": 400, \"continuousHeight\": 300}}, \"data\": {\"name\": \"data-40c475351b48d066d7900b492ea37c0b\"}, \"mark\": \"point\", \"encoding\": {\"color\": {\"field\": \"name\", \"type\": \"nominal\"}, \"href\": {\"field\": \"url\", \"type\": \"nominal\"}, \"opacity\": {\"condition\": {\"value\": 1, \"selection\": \"selector001\"}, \"value\": 0.1}, \"tooltip\": [{\"field\": \"name\", \"type\": \"nominal\"}, {\"field\": \"url\", \"type\": \"nominal\"}, {\"field\": \"address\", \"type\": \"nominal\"}], \"x\": {\"field\": \"Drink Score\", \"type\": \"quantitative\"}, \"y\": {\"field\": \"Stars\", \"type\": \"quantitative\"}}, \"selection\": {\"selector001\": {\"type\": \"multi\", \"fields\": [\"name\"], \"bind\": \"legend\"}}, \"title\": \"Drink Score\", \"transform\": [{\"calculate\": \"('https://www.google.com/search?q=' + datum.name)\", \"as\": \"url\"}], \"$schema\": \"https://vega.github.io/schema/vega-lite/v4.17.0.json\", \"datasets\": {\"data-40c475351b48d066d7900b492ea37c0b\": [{\"business_id\": \"gsicNDwrLH4WGeWMDcJv6w\", \"name\": \"Ahmed Indian Restaurant\", \"Food Score\": 0.24944444444444444, \"Service Score\": 0.34924242424242424, \"Environment Score\": 0.13333333333333336, \"Variety Score\": 0.2303312629399586, \"Music Score\": null, \"Drink Score\": 0.5, \"Sauce Score\": -0.0625, \"Stars\": 3.5, \"Review Count\": 146, \"address\": \"11301 S Orange Blossom Trl, Ste 104\"}, {\"business_id\": \"n4diWKcRvAFctwdRA6IPMg\", \"name\": \"Ahmed Indian Restaurant\", \"Food Score\": 0.2261961722488038, \"Service Score\": 0.40454545454545454, \"Environment Score\": 0.4916666666666667, \"Variety Score\": 0.17304421768707481, \"Music Score\": 0.0, \"Drink Score\": -0.2, \"Sauce Score\": 0.15833333333333335, \"Stars\": 4.0, \"Review Count\": 131, \"address\": \"10042 University Blvd\"}, {\"business_id\": \"B2F2hFXUSbcr8dG69w6iVQ\", \"name\": \"Cici's Pizza\", \"Food Score\": 0.3041666666666667, \"Service Score\": 0.2027777777777778, \"Environment Score\": 0.26666666666666666, \"Variety Score\": 0.20113378684807257, \"Music Score\": null, \"Drink Score\": 0.022222222222222237, \"Sauce Score\": 0.0, \"Stars\": 2.5, \"Review Count\": 102, \"address\": \"7437 International Dr\"}, {\"business_id\": \"mb0IO3qQ0MMNmPypdz37fw\", \"name\": \"Cici's Pizza\", \"Food Score\": 0.42000000000000004, \"Service Score\": 0.0780952380952381, \"Environment Score\": null, \"Variety Score\": 0.1, \"Music Score\": null, \"Drink Score\": 0.22499999999999998, \"Sauce Score\": 0.0, \"Stars\": 2.5, \"Review Count\": 32, \"address\": \"11701 International Dr, Ste 2200\"}, {\"business_id\": \"TNpbiGJJd5iePBj19yTV_A\", \"name\": \"Cici's Pizza\", \"Food Score\": 0.2333333333333333, \"Service Score\": 0.74375, \"Environment Score\": 0.1, \"Variety Score\": 0.23333333333333334, \"Music Score\": null, \"Drink Score\": 0.16071428571428564, \"Sauce Score\": 0.0, \"Stars\": 3.0, \"Review Count\": 55, \"address\": \"5035 W Irlo Bronson Memorial Hwy\"}, {\"business_id\": \"8ardwENx6HbdkQaNv0AIyQ\", \"name\": \"Cici's Pizza\", \"Food Score\": 0.3433333333333333, \"Service Score\": 0.7, \"Environment Score\": 0.4777777777777777, \"Variety Score\": 0.20731292517006802, \"Music Score\": null, \"Drink Score\": 0.05, \"Sauce Score\": null, \"Stars\": 3.0, \"Review Count\": 35, \"address\": \"13605 Sr 535, Ste 101\"}, {\"business_id\": \"2C1A6GzXXRi_eEieQAmyRg\", \"name\": \"Crazy Buffet\", \"Food Score\": 0.19938088976550516, \"Service Score\": 0.02916666666666667, \"Environment Score\": -0.4, \"Variety Score\": 0.28058016749605535, \"Music Score\": null, \"Drink Score\": 0.21666666666666665, \"Sauce Score\": 0.0, \"Stars\": 3.5, \"Review Count\": 240, \"address\": \"7038 W Colonial Dr\"}, {\"business_id\": \"hmcXUPprL7ju7nzJlPIqlg\", \"name\": \"El Palacio Buffet\", \"Food Score\": 0.19007936507936507, \"Service Score\": 0.46458333333333335, \"Environment Score\": 0.48333333333333334, \"Variety Score\": 0.3860491071428571, \"Music Score\": null, \"Drink Score\": null, \"Sauce Score\": null, \"Stars\": 4.0, \"Review Count\": 38, \"address\": \"909 West Vine St\"}, {\"business_id\": \"J9e7IUn_FmZ7Y-OtUql6Ug\", \"name\": \"El Palacio Buffet\", \"Food Score\": 0.15195414913724772, \"Service Score\": 0.26805555555555555, \"Environment Score\": 0.16111111111111112, \"Variety Score\": 0.3576494427558258, \"Music Score\": null, \"Drink Score\": 0.043877551020408155, \"Sauce Score\": null, \"Stars\": 3.5, \"Review Count\": 152, \"address\": \"7403 S Orange Blossom Trl\"}, {\"business_id\": \"GLHa2PtTm9wL_cUvEYxkHQ\", \"name\": \"El Palacio Buffet\", \"Food Score\": 0.16428571428571428, \"Service Score\": 0.10060606060606059, \"Environment Score\": null, \"Variety Score\": 0.26, \"Music Score\": 0.0, \"Drink Score\": null, \"Sauce Score\": null, \"Stars\": 1.5, \"Review Count\": 26, \"address\": \"843 Lee Rd\"}, {\"business_id\": \"lD62IuTkmNXwNc9_BNYr_w\", \"name\": \"Golden Corral Buffet & Grill\", \"Food Score\": 0.21694444444444447, \"Service Score\": 0.5923611111111111, \"Environment Score\": 0.35833333333333334, \"Variety Score\": 0.2, \"Music Score\": null, \"Drink Score\": -0.1875, \"Sauce Score\": null, \"Stars\": 3.0, \"Review Count\": 69, \"address\": \"11731 E. Colonial Drive\"}, {\"business_id\": \"EIVG9fe45-Meyg4uHv_2lQ\", \"name\": \"Golden Corral Buffet & Grill\", \"Food Score\": 0.25773809523809527, \"Service Score\": 0.32166666666666666, \"Environment Score\": null, \"Variety Score\": 0.033333333333333326, \"Music Score\": null, \"Drink Score\": null, \"Sauce Score\": null, \"Stars\": 2.5, \"Review Count\": 22, \"address\": \"7251 West Colonial Drive\"}, {\"business_id\": \"zqa5digfaYKtzgOnx8tzSQ\", \"name\": \"Golden Corral Buffet & Grill\", \"Food Score\": 0.14821428571428572, \"Service Score\": 0.41862745098039217, \"Environment Score\": null, \"Variety Score\": 0.3438775510204081, \"Music Score\": null, \"Drink Score\": -0.125, \"Sauce Score\": 0.125, \"Stars\": 2.0, \"Review Count\": 72, \"address\": \"5535 S Kirkman Rd\"}, {\"business_id\": \"_Zn7bmef51dkorKR8M91sw\", \"name\": \"Golden Corral Buffet & Grill\", \"Food Score\": 0.13874458874458875, \"Service Score\": 0.3355263157894737, \"Environment Score\": 0.38, \"Variety Score\": 0.28531746031746036, \"Music Score\": null, \"Drink Score\": 0.2, \"Sauce Score\": null, \"Stars\": 2.5, \"Review Count\": 160, \"address\": \"8707 Vineland Avenue\"}, {\"business_id\": \"pOuNx0bkXJ1QibLSBxDgig\", \"name\": \"Golden Corral Buffet & Grill\", \"Food Score\": -0.024056036556036556, \"Service Score\": 0.07986111111111112, \"Environment Score\": 0.05, \"Variety Score\": 0.23992673992673993, \"Music Score\": null, \"Drink Score\": 0.4333333333333333, \"Sauce Score\": 0.0, \"Stars\": 2.0, \"Review Count\": 107, \"address\": \"6077 W. Irlo Bronson Memorial\"}, {\"business_id\": \"QfWyyGjzgzNY_Qy7LZFV4A\", \"name\": \"Golden Corral Buffet & Grill\", \"Food Score\": 0.20877039627039626, \"Service Score\": 0.5236111111111111, \"Environment Score\": 0.3666666666666667, \"Variety Score\": 0.295875147579693, \"Music Score\": null, \"Drink Score\": 0.059090909090909076, \"Sauce Score\": 0.0, \"Stars\": 3.5, \"Review Count\": 112, \"address\": \"11701 International Dr\"}, {\"business_id\": \"q2fO6kwLEa6PoCgy6_L1Dg\", \"name\": \"Golden Corral Buffet & Grill\", \"Food Score\": 0.22941176470588234, \"Service Score\": 0.37604166666666666, \"Environment Score\": -0.0833333333333333, \"Variety Score\": 0.4828571428571428, \"Music Score\": null, \"Drink Score\": null, \"Sauce Score\": 0.25, \"Stars\": 3.5, \"Review Count\": 53, \"address\": \"2701 W Vine St\"}, {\"business_id\": \"Tm_28r-suhH8dUkjRoMjAA\", \"name\": \"Golden Corral Buffet & Grill\", \"Food Score\": 0.08169765840220386, \"Service Score\": 0.1875, \"Environment Score\": 0.10555555555555556, \"Variety Score\": 0.33938492063492065, \"Music Score\": null, \"Drink Score\": 0.11666666666666667, \"Sauce Score\": null, \"Stars\": 2.5, \"Review Count\": 123, \"address\": \"8032 International Drive\"}, {\"business_id\": \"cKfE2R3q3jHOAQIS8_ahmg\", \"name\": \"Golden Corral Buffet & Grill\", \"Food Score\": -0.06052631578947368, \"Service Score\": -0.0037878787878787945, \"Environment Score\": 0.8, \"Variety Score\": 0.38033126293995856, \"Music Score\": null, \"Drink Score\": null, \"Sauce Score\": null, \"Stars\": 2.5, \"Review Count\": 60, \"address\": \"897 West Town Parkway\"}, {\"business_id\": \"HeHoNEvd1aWlmlyITaH9bw\", \"name\": \"Golden Corral Buffet & Grill\", \"Food Score\": 0.19722222222222222, \"Service Score\": 0.45401785714285714, \"Environment Score\": 0.0, \"Variety Score\": 0.02713358070500927, \"Music Score\": null, \"Drink Score\": -0.1, \"Sauce Score\": null, \"Stars\": 2.5, \"Review Count\": 62, \"address\": \"2328 S. Semoran Blvd.\"}, {\"business_id\": \"6_xgMJrpfQWOBBcofc_QmQ\", \"name\": \"Golden Corral Buffet & Grill\", \"Food Score\": -0.022727272727272717, \"Service Score\": 0.2875, \"Environment Score\": null, \"Variety Score\": 0.27261904761904765, \"Music Score\": null, \"Drink Score\": null, \"Sauce Score\": null, \"Stars\": 3.0, \"Review Count\": 34, \"address\": \"1555 Grand Hwy\"}, {\"business_id\": \"A8A9qhSztrqB6TFKjnq-hA\", \"name\": \"Hokkaido Chinese & Japanese Buffet\", \"Food Score\": 0.22147869674185464, \"Service Score\": 0.25863095238095235, \"Environment Score\": 0.5722222222222223, \"Variety Score\": 0.36051698769395396, \"Music Score\": null, \"Drink Score\": 0.41428571428571426, \"Sauce Score\": -0.075, \"Stars\": 3.5, \"Review Count\": 369, \"address\": \"5737 W Irlo Bronson Memorial Hwy\"}, {\"business_id\": \"4bPz2NYimJ8ZVozbxLwyCA\", \"name\": \"Hokkaido Chinese & Japanese Buffet\", \"Food Score\": 0.17051042862610027, \"Service Score\": 0.08687500000000001, \"Environment Score\": 0.5333333333333333, \"Variety Score\": 0.3175195451314854, \"Music Score\": 0.0, \"Drink Score\": 0.035, \"Sauce Score\": 0.225, \"Stars\": 3.0, \"Review Count\": 316, \"address\": \"12173 S Apopka Vineland Rd\"}, {\"business_id\": \"iHmBoyZEWsJfryywZmrB8A\", \"name\": \"Ichiban Buffet\", \"Food Score\": 0.13019514767932489, \"Service Score\": 0.2274404761904762, \"Environment Score\": 0.5395833333333333, \"Variety Score\": 0.33486153326578855, \"Music Score\": null, \"Drink Score\": 0.125, \"Sauce Score\": 0.056547619047619034, \"Stars\": 3.0, \"Review Count\": 419, \"address\": \"5529 International Dr\"}, {\"business_id\": \"25iE1snCllaN2fCKodDyuQ\", \"name\": \"Ichiban Buffet\", \"Food Score\": -0.06166666666666666, \"Service Score\": 0.1464285714285714, \"Environment Score\": null, \"Variety Score\": 0.21632653061224488, \"Music Score\": null, \"Drink Score\": null, \"Sauce Score\": null, \"Stars\": 2.5, \"Review Count\": 29, \"address\": \"735 N Courtenay Pkwy\"}, {\"business_id\": \"Sx0IM4UyHbrRrA6QeulcGQ\", \"name\": \"Ichiban Buffet\", \"Food Score\": 0.14032909682909683, \"Service Score\": -0.028378378378378363, \"Environment Score\": 0.5, \"Variety Score\": 0.3288392857142857, \"Music Score\": null, \"Drink Score\": 0.05, \"Sauce Score\": -0.04270833333333333, \"Stars\": 3.0, \"Review Count\": 481, \"address\": \"5269 W Irlo Bronson Memorial Hwy\"}, {\"business_id\": \"DDvLLp9cT1m0U8SN-DYIKA\", \"name\": \"Saffron Indian Cuisine\", \"Food Score\": 0.3438917125631786, \"Service Score\": 0.5143689986282579, \"Environment Score\": 0.4654924242424242, \"Variety Score\": 0.3304883472691692, \"Music Score\": 0.1285714285714286, \"Drink Score\": 0.1863479262672811, \"Sauce Score\": 0.23583333333333334, \"Stars\": 4.5, \"Review Count\": 834, \"address\": \"7724 W Sand Lake Rd\"}, {\"business_id\": \"esHeBE48Fah6nuYKRS61KA\", \"name\": \"Saffron Indian Cuisine\", \"Food Score\": 0.21463414634146344, \"Service Score\": 0.22749999999999998, \"Environment Score\": null, \"Variety Score\": 0.17544642857142856, \"Music Score\": null, \"Drink Score\": -0.025, \"Sauce Score\": 0.35357142857142854, \"Stars\": 3.5, \"Review Count\": 70, \"address\": \"16745 Cagan Crossings Blvd, Ste 103@104\"}]}}, {\"padding\": {\"left\": 0, \"right\": 0, \"bottom\": 0, \"top\": 0}, \"mode\": \"vega-lite\"});\n",
       "</script>"
      ],
      "text/plain": [
       "alt.Chart(...)"
      ]
     },
     "execution_count": 24,
     "metadata": {},
     "output_type": "execute_result"
    }
   ],
   "source": [
    "chart = alt.Chart(plot_df,title=\"Drink Score\").transform_calculate(\n",
    "    url='https://www.google.com/search?q=' + alt.datum.name\n",
    ").mark_point().encode(\n",
    "    x='Drink Score:Q',\n",
    "    y='Stars:Q',\n",
    "    color='name:N',\n",
    "    href='url:N',\n",
    "    tooltip=['name:N', 'url:N', 'address:N'],\n",
    "    opacity=alt.condition(selection, alt.value(1), alt.value(0.1))\n",
    ").add_selection(\n",
    "    selection\n",
    ")\n",
    "\n",
    "# chart.save('../drink_score.html')\n",
    "\n",
    "chart"
   ]
  },
  {
   "cell_type": "code",
   "execution_count": 25,
   "id": "d939adb6",
   "metadata": {},
   "outputs": [
    {
     "data": {
      "text/html": [
       "\n",
       "<div id=\"altair-viz-794b47aa84b04aa999c4cb340dfad30d\"></div>\n",
       "<script type=\"text/javascript\">\n",
       "  var VEGA_DEBUG = (typeof VEGA_DEBUG == \"undefined\") ? {} : VEGA_DEBUG;\n",
       "  (function(spec, embedOpt){\n",
       "    let outputDiv = document.currentScript.previousElementSibling;\n",
       "    if (outputDiv.id !== \"altair-viz-794b47aa84b04aa999c4cb340dfad30d\") {\n",
       "      outputDiv = document.getElementById(\"altair-viz-794b47aa84b04aa999c4cb340dfad30d\");\n",
       "    }\n",
       "    const paths = {\n",
       "      \"vega\": \"https://cdn.jsdelivr.net/npm//vega@5?noext\",\n",
       "      \"vega-lib\": \"https://cdn.jsdelivr.net/npm//vega-lib?noext\",\n",
       "      \"vega-lite\": \"https://cdn.jsdelivr.net/npm//vega-lite@4.17.0?noext\",\n",
       "      \"vega-embed\": \"https://cdn.jsdelivr.net/npm//vega-embed@6?noext\",\n",
       "    };\n",
       "\n",
       "    function maybeLoadScript(lib, version) {\n",
       "      var key = `${lib.replace(\"-\", \"\")}_version`;\n",
       "      return (VEGA_DEBUG[key] == version) ?\n",
       "        Promise.resolve(paths[lib]) :\n",
       "        new Promise(function(resolve, reject) {\n",
       "          var s = document.createElement('script');\n",
       "          document.getElementsByTagName(\"head\")[0].appendChild(s);\n",
       "          s.async = true;\n",
       "          s.onload = () => {\n",
       "            VEGA_DEBUG[key] = version;\n",
       "            return resolve(paths[lib]);\n",
       "          };\n",
       "          s.onerror = () => reject(`Error loading script: ${paths[lib]}`);\n",
       "          s.src = paths[lib];\n",
       "        });\n",
       "    }\n",
       "\n",
       "    function showError(err) {\n",
       "      outputDiv.innerHTML = `<div class=\"error\" style=\"color:red;\">${err}</div>`;\n",
       "      throw err;\n",
       "    }\n",
       "\n",
       "    function displayChart(vegaEmbed) {\n",
       "      vegaEmbed(outputDiv, spec, embedOpt)\n",
       "        .catch(err => showError(`Javascript Error: ${err.message}<br>This usually means there's a typo in your chart specification. See the javascript console for the full traceback.`));\n",
       "    }\n",
       "\n",
       "    if(typeof define === \"function\" && define.amd) {\n",
       "      requirejs.config({paths});\n",
       "      require([\"vega-embed\"], displayChart, err => showError(`Error loading script: ${err.message}`));\n",
       "    } else {\n",
       "      maybeLoadScript(\"vega\", \"5\")\n",
       "        .then(() => maybeLoadScript(\"vega-lite\", \"4.17.0\"))\n",
       "        .then(() => maybeLoadScript(\"vega-embed\", \"6\"))\n",
       "        .catch(showError)\n",
       "        .then(() => displayChart(vegaEmbed));\n",
       "    }\n",
       "  })({\"config\": {\"view\": {\"continuousWidth\": 400, \"continuousHeight\": 300}}, \"data\": {\"name\": \"data-40c475351b48d066d7900b492ea37c0b\"}, \"mark\": \"point\", \"encoding\": {\"color\": {\"field\": \"name\", \"type\": \"nominal\"}, \"href\": {\"field\": \"url\", \"type\": \"nominal\"}, \"opacity\": {\"condition\": {\"value\": 1, \"selection\": \"selector001\"}, \"value\": 0.1}, \"tooltip\": [{\"field\": \"name\", \"type\": \"nominal\"}, {\"field\": \"url\", \"type\": \"nominal\"}, {\"field\": \"address\", \"type\": \"nominal\"}], \"x\": {\"field\": \"Sauce Score\", \"type\": \"quantitative\"}, \"y\": {\"field\": \"Stars\", \"type\": \"quantitative\"}}, \"selection\": {\"selector001\": {\"type\": \"multi\", \"fields\": [\"name\"], \"bind\": \"legend\"}}, \"title\": \"Sauce Score\", \"transform\": [{\"calculate\": \"('https://www.google.com/search?q=' + datum.name)\", \"as\": \"url\"}], \"$schema\": \"https://vega.github.io/schema/vega-lite/v4.17.0.json\", \"datasets\": {\"data-40c475351b48d066d7900b492ea37c0b\": [{\"business_id\": \"gsicNDwrLH4WGeWMDcJv6w\", \"name\": \"Ahmed Indian Restaurant\", \"Food Score\": 0.24944444444444444, \"Service Score\": 0.34924242424242424, \"Environment Score\": 0.13333333333333336, \"Variety Score\": 0.2303312629399586, \"Music Score\": null, \"Drink Score\": 0.5, \"Sauce Score\": -0.0625, \"Stars\": 3.5, \"Review Count\": 146, \"address\": \"11301 S Orange Blossom Trl, Ste 104\"}, {\"business_id\": \"n4diWKcRvAFctwdRA6IPMg\", \"name\": \"Ahmed Indian Restaurant\", \"Food Score\": 0.2261961722488038, \"Service Score\": 0.40454545454545454, \"Environment Score\": 0.4916666666666667, \"Variety Score\": 0.17304421768707481, \"Music Score\": 0.0, \"Drink Score\": -0.2, \"Sauce Score\": 0.15833333333333335, \"Stars\": 4.0, \"Review Count\": 131, \"address\": \"10042 University Blvd\"}, {\"business_id\": \"B2F2hFXUSbcr8dG69w6iVQ\", \"name\": \"Cici's Pizza\", \"Food Score\": 0.3041666666666667, \"Service Score\": 0.2027777777777778, \"Environment Score\": 0.26666666666666666, \"Variety Score\": 0.20113378684807257, \"Music Score\": null, \"Drink Score\": 0.022222222222222237, \"Sauce Score\": 0.0, \"Stars\": 2.5, \"Review Count\": 102, \"address\": \"7437 International Dr\"}, {\"business_id\": \"mb0IO3qQ0MMNmPypdz37fw\", \"name\": \"Cici's Pizza\", \"Food Score\": 0.42000000000000004, \"Service Score\": 0.0780952380952381, \"Environment Score\": null, \"Variety Score\": 0.1, \"Music Score\": null, \"Drink Score\": 0.22499999999999998, \"Sauce Score\": 0.0, \"Stars\": 2.5, \"Review Count\": 32, \"address\": \"11701 International Dr, Ste 2200\"}, {\"business_id\": \"TNpbiGJJd5iePBj19yTV_A\", \"name\": \"Cici's Pizza\", \"Food Score\": 0.2333333333333333, \"Service Score\": 0.74375, \"Environment Score\": 0.1, \"Variety Score\": 0.23333333333333334, \"Music Score\": null, \"Drink Score\": 0.16071428571428564, \"Sauce Score\": 0.0, \"Stars\": 3.0, \"Review Count\": 55, \"address\": \"5035 W Irlo Bronson Memorial Hwy\"}, {\"business_id\": \"8ardwENx6HbdkQaNv0AIyQ\", \"name\": \"Cici's Pizza\", \"Food Score\": 0.3433333333333333, \"Service Score\": 0.7, \"Environment Score\": 0.4777777777777777, \"Variety Score\": 0.20731292517006802, \"Music Score\": null, \"Drink Score\": 0.05, \"Sauce Score\": null, \"Stars\": 3.0, \"Review Count\": 35, \"address\": \"13605 Sr 535, Ste 101\"}, {\"business_id\": \"2C1A6GzXXRi_eEieQAmyRg\", \"name\": \"Crazy Buffet\", \"Food Score\": 0.19938088976550516, \"Service Score\": 0.02916666666666667, \"Environment Score\": -0.4, \"Variety Score\": 0.28058016749605535, \"Music Score\": null, \"Drink Score\": 0.21666666666666665, \"Sauce Score\": 0.0, \"Stars\": 3.5, \"Review Count\": 240, \"address\": \"7038 W Colonial Dr\"}, {\"business_id\": \"hmcXUPprL7ju7nzJlPIqlg\", \"name\": \"El Palacio Buffet\", \"Food Score\": 0.19007936507936507, \"Service Score\": 0.46458333333333335, \"Environment Score\": 0.48333333333333334, \"Variety Score\": 0.3860491071428571, \"Music Score\": null, \"Drink Score\": null, \"Sauce Score\": null, \"Stars\": 4.0, \"Review Count\": 38, \"address\": \"909 West Vine St\"}, {\"business_id\": \"J9e7IUn_FmZ7Y-OtUql6Ug\", \"name\": \"El Palacio Buffet\", \"Food Score\": 0.15195414913724772, \"Service Score\": 0.26805555555555555, \"Environment Score\": 0.16111111111111112, \"Variety Score\": 0.3576494427558258, \"Music Score\": null, \"Drink Score\": 0.043877551020408155, \"Sauce Score\": null, \"Stars\": 3.5, \"Review Count\": 152, \"address\": \"7403 S Orange Blossom Trl\"}, {\"business_id\": \"GLHa2PtTm9wL_cUvEYxkHQ\", \"name\": \"El Palacio Buffet\", \"Food Score\": 0.16428571428571428, \"Service Score\": 0.10060606060606059, \"Environment Score\": null, \"Variety Score\": 0.26, \"Music Score\": 0.0, \"Drink Score\": null, \"Sauce Score\": null, \"Stars\": 1.5, \"Review Count\": 26, \"address\": \"843 Lee Rd\"}, {\"business_id\": \"lD62IuTkmNXwNc9_BNYr_w\", \"name\": \"Golden Corral Buffet & Grill\", \"Food Score\": 0.21694444444444447, \"Service Score\": 0.5923611111111111, \"Environment Score\": 0.35833333333333334, \"Variety Score\": 0.2, \"Music Score\": null, \"Drink Score\": -0.1875, \"Sauce Score\": null, \"Stars\": 3.0, \"Review Count\": 69, \"address\": \"11731 E. Colonial Drive\"}, {\"business_id\": \"EIVG9fe45-Meyg4uHv_2lQ\", \"name\": \"Golden Corral Buffet & Grill\", \"Food Score\": 0.25773809523809527, \"Service Score\": 0.32166666666666666, \"Environment Score\": null, \"Variety Score\": 0.033333333333333326, \"Music Score\": null, \"Drink Score\": null, \"Sauce Score\": null, \"Stars\": 2.5, \"Review Count\": 22, \"address\": \"7251 West Colonial Drive\"}, {\"business_id\": \"zqa5digfaYKtzgOnx8tzSQ\", \"name\": \"Golden Corral Buffet & Grill\", \"Food Score\": 0.14821428571428572, \"Service Score\": 0.41862745098039217, \"Environment Score\": null, \"Variety Score\": 0.3438775510204081, \"Music Score\": null, \"Drink Score\": -0.125, \"Sauce Score\": 0.125, \"Stars\": 2.0, \"Review Count\": 72, \"address\": \"5535 S Kirkman Rd\"}, {\"business_id\": \"_Zn7bmef51dkorKR8M91sw\", \"name\": \"Golden Corral Buffet & Grill\", \"Food Score\": 0.13874458874458875, \"Service Score\": 0.3355263157894737, \"Environment Score\": 0.38, \"Variety Score\": 0.28531746031746036, \"Music Score\": null, \"Drink Score\": 0.2, \"Sauce Score\": null, \"Stars\": 2.5, \"Review Count\": 160, \"address\": \"8707 Vineland Avenue\"}, {\"business_id\": \"pOuNx0bkXJ1QibLSBxDgig\", \"name\": \"Golden Corral Buffet & Grill\", \"Food Score\": -0.024056036556036556, \"Service Score\": 0.07986111111111112, \"Environment Score\": 0.05, \"Variety Score\": 0.23992673992673993, \"Music Score\": null, \"Drink Score\": 0.4333333333333333, \"Sauce Score\": 0.0, \"Stars\": 2.0, \"Review Count\": 107, \"address\": \"6077 W. Irlo Bronson Memorial\"}, {\"business_id\": \"QfWyyGjzgzNY_Qy7LZFV4A\", \"name\": \"Golden Corral Buffet & Grill\", \"Food Score\": 0.20877039627039626, \"Service Score\": 0.5236111111111111, \"Environment Score\": 0.3666666666666667, \"Variety Score\": 0.295875147579693, \"Music Score\": null, \"Drink Score\": 0.059090909090909076, \"Sauce Score\": 0.0, \"Stars\": 3.5, \"Review Count\": 112, \"address\": \"11701 International Dr\"}, {\"business_id\": \"q2fO6kwLEa6PoCgy6_L1Dg\", \"name\": \"Golden Corral Buffet & Grill\", \"Food Score\": 0.22941176470588234, \"Service Score\": 0.37604166666666666, \"Environment Score\": -0.0833333333333333, \"Variety Score\": 0.4828571428571428, \"Music Score\": null, \"Drink Score\": null, \"Sauce Score\": 0.25, \"Stars\": 3.5, \"Review Count\": 53, \"address\": \"2701 W Vine St\"}, {\"business_id\": \"Tm_28r-suhH8dUkjRoMjAA\", \"name\": \"Golden Corral Buffet & Grill\", \"Food Score\": 0.08169765840220386, \"Service Score\": 0.1875, \"Environment Score\": 0.10555555555555556, \"Variety Score\": 0.33938492063492065, \"Music Score\": null, \"Drink Score\": 0.11666666666666667, \"Sauce Score\": null, \"Stars\": 2.5, \"Review Count\": 123, \"address\": \"8032 International Drive\"}, {\"business_id\": \"cKfE2R3q3jHOAQIS8_ahmg\", \"name\": \"Golden Corral Buffet & Grill\", \"Food Score\": -0.06052631578947368, \"Service Score\": -0.0037878787878787945, \"Environment Score\": 0.8, \"Variety Score\": 0.38033126293995856, \"Music Score\": null, \"Drink Score\": null, \"Sauce Score\": null, \"Stars\": 2.5, \"Review Count\": 60, \"address\": \"897 West Town Parkway\"}, {\"business_id\": \"HeHoNEvd1aWlmlyITaH9bw\", \"name\": \"Golden Corral Buffet & Grill\", \"Food Score\": 0.19722222222222222, \"Service Score\": 0.45401785714285714, \"Environment Score\": 0.0, \"Variety Score\": 0.02713358070500927, \"Music Score\": null, \"Drink Score\": -0.1, \"Sauce Score\": null, \"Stars\": 2.5, \"Review Count\": 62, \"address\": \"2328 S. Semoran Blvd.\"}, {\"business_id\": \"6_xgMJrpfQWOBBcofc_QmQ\", \"name\": \"Golden Corral Buffet & Grill\", \"Food Score\": -0.022727272727272717, \"Service Score\": 0.2875, \"Environment Score\": null, \"Variety Score\": 0.27261904761904765, \"Music Score\": null, \"Drink Score\": null, \"Sauce Score\": null, \"Stars\": 3.0, \"Review Count\": 34, \"address\": \"1555 Grand Hwy\"}, {\"business_id\": \"A8A9qhSztrqB6TFKjnq-hA\", \"name\": \"Hokkaido Chinese & Japanese Buffet\", \"Food Score\": 0.22147869674185464, \"Service Score\": 0.25863095238095235, \"Environment Score\": 0.5722222222222223, \"Variety Score\": 0.36051698769395396, \"Music Score\": null, \"Drink Score\": 0.41428571428571426, \"Sauce Score\": -0.075, \"Stars\": 3.5, \"Review Count\": 369, \"address\": \"5737 W Irlo Bronson Memorial Hwy\"}, {\"business_id\": \"4bPz2NYimJ8ZVozbxLwyCA\", \"name\": \"Hokkaido Chinese & Japanese Buffet\", \"Food Score\": 0.17051042862610027, \"Service Score\": 0.08687500000000001, \"Environment Score\": 0.5333333333333333, \"Variety Score\": 0.3175195451314854, \"Music Score\": 0.0, \"Drink Score\": 0.035, \"Sauce Score\": 0.225, \"Stars\": 3.0, \"Review Count\": 316, \"address\": \"12173 S Apopka Vineland Rd\"}, {\"business_id\": \"iHmBoyZEWsJfryywZmrB8A\", \"name\": \"Ichiban Buffet\", \"Food Score\": 0.13019514767932489, \"Service Score\": 0.2274404761904762, \"Environment Score\": 0.5395833333333333, \"Variety Score\": 0.33486153326578855, \"Music Score\": null, \"Drink Score\": 0.125, \"Sauce Score\": 0.056547619047619034, \"Stars\": 3.0, \"Review Count\": 419, \"address\": \"5529 International Dr\"}, {\"business_id\": \"25iE1snCllaN2fCKodDyuQ\", \"name\": \"Ichiban Buffet\", \"Food Score\": -0.06166666666666666, \"Service Score\": 0.1464285714285714, \"Environment Score\": null, \"Variety Score\": 0.21632653061224488, \"Music Score\": null, \"Drink Score\": null, \"Sauce Score\": null, \"Stars\": 2.5, \"Review Count\": 29, \"address\": \"735 N Courtenay Pkwy\"}, {\"business_id\": \"Sx0IM4UyHbrRrA6QeulcGQ\", \"name\": \"Ichiban Buffet\", \"Food Score\": 0.14032909682909683, \"Service Score\": -0.028378378378378363, \"Environment Score\": 0.5, \"Variety Score\": 0.3288392857142857, \"Music Score\": null, \"Drink Score\": 0.05, \"Sauce Score\": -0.04270833333333333, \"Stars\": 3.0, \"Review Count\": 481, \"address\": \"5269 W Irlo Bronson Memorial Hwy\"}, {\"business_id\": \"DDvLLp9cT1m0U8SN-DYIKA\", \"name\": \"Saffron Indian Cuisine\", \"Food Score\": 0.3438917125631786, \"Service Score\": 0.5143689986282579, \"Environment Score\": 0.4654924242424242, \"Variety Score\": 0.3304883472691692, \"Music Score\": 0.1285714285714286, \"Drink Score\": 0.1863479262672811, \"Sauce Score\": 0.23583333333333334, \"Stars\": 4.5, \"Review Count\": 834, \"address\": \"7724 W Sand Lake Rd\"}, {\"business_id\": \"esHeBE48Fah6nuYKRS61KA\", \"name\": \"Saffron Indian Cuisine\", \"Food Score\": 0.21463414634146344, \"Service Score\": 0.22749999999999998, \"Environment Score\": null, \"Variety Score\": 0.17544642857142856, \"Music Score\": null, \"Drink Score\": -0.025, \"Sauce Score\": 0.35357142857142854, \"Stars\": 3.5, \"Review Count\": 70, \"address\": \"16745 Cagan Crossings Blvd, Ste 103@104\"}]}}, {\"padding\": {\"left\": 0, \"right\": 0, \"bottom\": 0, \"top\": 0}, \"mode\": \"vega-lite\"});\n",
       "</script>"
      ],
      "text/plain": [
       "alt.Chart(...)"
      ]
     },
     "execution_count": 25,
     "metadata": {},
     "output_type": "execute_result"
    }
   ],
   "source": [
    "chart = alt.Chart(plot_df,title=\"Sauce Score\").transform_calculate(\n",
    "    url='https://www.google.com/search?q=' + alt.datum.name\n",
    ").mark_point().encode(\n",
    "    x='Sauce Score:Q',\n",
    "    y='Stars:Q',\n",
    "    color='name:N',\n",
    "    href='url:N',\n",
    "    tooltip=['name:N', 'url:N', 'address:N'],\n",
    "    opacity=alt.condition(selection, alt.value(1), alt.value(0.1))\n",
    ").add_selection(\n",
    "    selection\n",
    ")\n",
    "\n",
    "# chart.save('../sauce_score.html')\n",
    "\n",
    "chart"
   ]
  },
  {
   "cell_type": "code",
   "execution_count": 26,
   "id": "f69bc269",
   "metadata": {},
   "outputs": [
    {
     "data": {
      "text/html": [
       "\n",
       "<div id=\"altair-viz-d1de5e0564194441a9324a90676cfba5\"></div>\n",
       "<script type=\"text/javascript\">\n",
       "  var VEGA_DEBUG = (typeof VEGA_DEBUG == \"undefined\") ? {} : VEGA_DEBUG;\n",
       "  (function(spec, embedOpt){\n",
       "    let outputDiv = document.currentScript.previousElementSibling;\n",
       "    if (outputDiv.id !== \"altair-viz-d1de5e0564194441a9324a90676cfba5\") {\n",
       "      outputDiv = document.getElementById(\"altair-viz-d1de5e0564194441a9324a90676cfba5\");\n",
       "    }\n",
       "    const paths = {\n",
       "      \"vega\": \"https://cdn.jsdelivr.net/npm//vega@5?noext\",\n",
       "      \"vega-lib\": \"https://cdn.jsdelivr.net/npm//vega-lib?noext\",\n",
       "      \"vega-lite\": \"https://cdn.jsdelivr.net/npm//vega-lite@4.17.0?noext\",\n",
       "      \"vega-embed\": \"https://cdn.jsdelivr.net/npm//vega-embed@6?noext\",\n",
       "    };\n",
       "\n",
       "    function maybeLoadScript(lib, version) {\n",
       "      var key = `${lib.replace(\"-\", \"\")}_version`;\n",
       "      return (VEGA_DEBUG[key] == version) ?\n",
       "        Promise.resolve(paths[lib]) :\n",
       "        new Promise(function(resolve, reject) {\n",
       "          var s = document.createElement('script');\n",
       "          document.getElementsByTagName(\"head\")[0].appendChild(s);\n",
       "          s.async = true;\n",
       "          s.onload = () => {\n",
       "            VEGA_DEBUG[key] = version;\n",
       "            return resolve(paths[lib]);\n",
       "          };\n",
       "          s.onerror = () => reject(`Error loading script: ${paths[lib]}`);\n",
       "          s.src = paths[lib];\n",
       "        });\n",
       "    }\n",
       "\n",
       "    function showError(err) {\n",
       "      outputDiv.innerHTML = `<div class=\"error\" style=\"color:red;\">${err}</div>`;\n",
       "      throw err;\n",
       "    }\n",
       "\n",
       "    function displayChart(vegaEmbed) {\n",
       "      vegaEmbed(outputDiv, spec, embedOpt)\n",
       "        .catch(err => showError(`Javascript Error: ${err.message}<br>This usually means there's a typo in your chart specification. See the javascript console for the full traceback.`));\n",
       "    }\n",
       "\n",
       "    if(typeof define === \"function\" && define.amd) {\n",
       "      requirejs.config({paths});\n",
       "      require([\"vega-embed\"], displayChart, err => showError(`Error loading script: ${err.message}`));\n",
       "    } else {\n",
       "      maybeLoadScript(\"vega\", \"5\")\n",
       "        .then(() => maybeLoadScript(\"vega-lite\", \"4.17.0\"))\n",
       "        .then(() => maybeLoadScript(\"vega-embed\", \"6\"))\n",
       "        .catch(showError)\n",
       "        .then(() => displayChart(vegaEmbed));\n",
       "    }\n",
       "  })({\"config\": {\"view\": {\"continuousWidth\": 400, \"continuousHeight\": 300}}, \"layer\": [{\"mark\": \"rect\", \"encoding\": {\"color\": {\"field\": \"Correlation\", \"type\": \"quantitative\"}, \"x\": {\"axis\": {\"labelAngle\": 320}, \"field\": \"Variable\", \"type\": \"ordinal\"}, \"y\": {\"field\": \"Variable2\", \"type\": \"ordinal\"}}, \"title\": \" \"}, {\"mark\": \"text\", \"encoding\": {\"color\": {\"condition\": {\"value\": \"white\", \"test\": \"(datum.correlation > 0.5)\"}, \"value\": \"black\"}, \"text\": {\"field\": \"correlation_label\", \"type\": \"nominal\"}, \"x\": {\"axis\": {\"labelAngle\": 320}, \"field\": \"Variable\", \"type\": \"ordinal\"}, \"y\": {\"field\": \"Variable2\", \"type\": \"ordinal\"}}, \"title\": \" \"}], \"data\": {\"name\": \"data-c40424bd77424f55c24effd0dd8382ae\"}, \"height\": 400, \"width\": 600, \"$schema\": \"https://vega.github.io/schema/vega-lite/v4.17.0.json\", \"datasets\": {\"data-c40424bd77424f55c24effd0dd8382ae\": [{\"Variable\": \"Food Score\", \"Variable2\": \"Food Score\", \"Correlation\": 1.0, \"correlation_label\": \"1.00\"}, {\"Variable\": \"Food Score\", \"Variable2\": \"Service Score\", \"Correlation\": 0.4444444444444444, \"correlation_label\": \"0.44\"}, {\"Variable\": \"Food Score\", \"Variable2\": \"Environment Score\", \"Correlation\": -0.17012987012987013, \"correlation_label\": \"-0.17\"}, {\"Variable\": \"Food Score\", \"Variable2\": \"Variety Score\", \"Correlation\": -0.38478379857690204, \"correlation_label\": \"-0.38\"}, {\"Variable\": \"Food Score\", \"Variable2\": \"Drink Score\", \"Correlation\": 0.03247807901075932, \"correlation_label\": \"0.03\"}, {\"Variable\": \"Food Score\", \"Variable2\": \"Sauce Score\", \"Correlation\": 0.012079686777782726, \"correlation_label\": \"0.01\"}, {\"Variable\": \"Food Score\", \"Variable2\": \"Stars\", \"Correlation\": 0.38355241132598816, \"correlation_label\": \"0.38\"}, {\"Variable\": \"Service Score\", \"Variable2\": \"Food Score\", \"Correlation\": 0.4444444444444444, \"correlation_label\": \"0.44\"}, {\"Variable\": \"Service Score\", \"Variable2\": \"Service Score\", \"Correlation\": 1.0, \"correlation_label\": \"1.00\"}, {\"Variable\": \"Service Score\", \"Variable2\": \"Environment Score\", \"Correlation\": -0.15194805194805194, \"correlation_label\": \"-0.15\"}, {\"Variable\": \"Service Score\", \"Variable2\": \"Variety Score\", \"Correlation\": -0.10454296661193213, \"correlation_label\": \"-0.10\"}, {\"Variable\": \"Service Score\", \"Variable2\": \"Drink Score\", \"Correlation\": -0.2916531495166187, \"correlation_label\": \"-0.29\"}, {\"Variable\": \"Service Score\", \"Variable2\": \"Sauce Score\", \"Correlation\": 0.2597132657223286, \"correlation_label\": \"0.26\"}, {\"Variable\": \"Service Score\", \"Variable2\": \"Stars\", \"Correlation\": 0.3683566444796174, \"correlation_label\": \"0.37\"}, {\"Variable\": \"Environment Score\", \"Variable2\": \"Food Score\", \"Correlation\": -0.17012987012987013, \"correlation_label\": \"-0.17\"}, {\"Variable\": \"Environment Score\", \"Variable2\": \"Service Score\", \"Correlation\": -0.15194805194805194, \"correlation_label\": \"-0.15\"}, {\"Variable\": \"Environment Score\", \"Variable2\": \"Environment Score\", \"Correlation\": 1.0, \"correlation_label\": \"1.00\"}, {\"Variable\": \"Environment Score\", \"Variable2\": \"Variety Score\", \"Correlation\": 0.2935064935064935, \"correlation_label\": \"0.29\"}, {\"Variable\": \"Environment Score\", \"Variable2\": \"Drink Score\", \"Correlation\": -0.15591122366832375, \"correlation_label\": \"-0.16\"}, {\"Variable\": \"Environment Score\", \"Variable2\": \"Sauce Score\", \"Correlation\": -0.09608354189321237, \"correlation_label\": \"-0.10\"}, {\"Variable\": \"Environment Score\", \"Variable2\": \"Stars\", \"Correlation\": 0.12384462865044482, \"correlation_label\": \"0.12\"}, {\"Variable\": \"Variety Score\", \"Variable2\": \"Food Score\", \"Correlation\": -0.38478379857690204, \"correlation_label\": \"-0.38\"}, {\"Variable\": \"Variety Score\", \"Variable2\": \"Service Score\", \"Correlation\": -0.10454296661193213, \"correlation_label\": \"-0.10\"}, {\"Variable\": \"Variety Score\", \"Variable2\": \"Environment Score\", \"Correlation\": 0.2935064935064935, \"correlation_label\": \"0.29\"}, {\"Variable\": \"Variety Score\", \"Variable2\": \"Variety Score\", \"Correlation\": 1.0, \"correlation_label\": \"1.00\"}, {\"Variable\": \"Variety Score\", \"Variable2\": \"Drink Score\", \"Correlation\": 0.2390386615191886, \"correlation_label\": \"0.24\"}, {\"Variable\": \"Variety Score\", \"Variable2\": \"Sauce Score\", \"Correlation\": 0.07096815981947352, \"correlation_label\": \"0.07\"}, {\"Variable\": \"Variety Score\", \"Variable2\": \"Stars\", \"Correlation\": 0.23806701392647542, \"correlation_label\": \"0.24\"}, {\"Variable\": \"Drink Score\", \"Variable2\": \"Food Score\", \"Correlation\": 0.03247807901075932, \"correlation_label\": \"0.03\"}, {\"Variable\": \"Drink Score\", \"Variable2\": \"Service Score\", \"Correlation\": -0.2916531495166187, \"correlation_label\": \"-0.29\"}, {\"Variable\": \"Drink Score\", \"Variable2\": \"Environment Score\", \"Correlation\": -0.15591122366832375, \"correlation_label\": \"-0.16\"}, {\"Variable\": \"Drink Score\", \"Variable2\": \"Variety Score\", \"Correlation\": 0.2390386615191886, \"correlation_label\": \"0.24\"}, {\"Variable\": \"Drink Score\", \"Variable2\": \"Drink Score\", \"Correlation\": 1.0, \"correlation_label\": \"1.00\"}, {\"Variable\": \"Drink Score\", \"Variable2\": \"Sauce Score\", \"Correlation\": -0.6067673909058287, \"correlation_label\": \"-0.61\"}, {\"Variable\": \"Drink Score\", \"Variable2\": \"Stars\", \"Correlation\": 0.030134154536394973, \"correlation_label\": \"0.03\"}, {\"Variable\": \"Sauce Score\", \"Variable2\": \"Food Score\", \"Correlation\": 0.012079686777782726, \"correlation_label\": \"0.01\"}, {\"Variable\": \"Sauce Score\", \"Variable2\": \"Service Score\", \"Correlation\": 0.2597132657223286, \"correlation_label\": \"0.26\"}, {\"Variable\": \"Sauce Score\", \"Variable2\": \"Environment Score\", \"Correlation\": -0.09608354189321237, \"correlation_label\": \"-0.10\"}, {\"Variable\": \"Sauce Score\", \"Variable2\": \"Variety Score\", \"Correlation\": 0.07096815981947352, \"correlation_label\": \"0.07\"}, {\"Variable\": \"Sauce Score\", \"Variable2\": \"Drink Score\", \"Correlation\": -0.6067673909058287, \"correlation_label\": \"-0.61\"}, {\"Variable\": \"Sauce Score\", \"Variable2\": \"Sauce Score\", \"Correlation\": 1.0, \"correlation_label\": \"1.00\"}, {\"Variable\": \"Sauce Score\", \"Variable2\": \"Stars\", \"Correlation\": 0.22379703330319553, \"correlation_label\": \"0.22\"}, {\"Variable\": \"Stars\", \"Variable2\": \"Food Score\", \"Correlation\": 0.38355241132598816, \"correlation_label\": \"0.38\"}, {\"Variable\": \"Stars\", \"Variable2\": \"Service Score\", \"Correlation\": 0.3683566444796174, \"correlation_label\": \"0.37\"}, {\"Variable\": \"Stars\", \"Variable2\": \"Environment Score\", \"Correlation\": 0.12384462865044482, \"correlation_label\": \"0.12\"}, {\"Variable\": \"Stars\", \"Variable2\": \"Variety Score\", \"Correlation\": 0.23806701392647542, \"correlation_label\": \"0.24\"}, {\"Variable\": \"Stars\", \"Variable2\": \"Drink Score\", \"Correlation\": 0.030134154536394973, \"correlation_label\": \"0.03\"}, {\"Variable\": \"Stars\", \"Variable2\": \"Sauce Score\", \"Correlation\": 0.22379703330319553, \"correlation_label\": \"0.22\"}, {\"Variable\": \"Stars\", \"Variable2\": \"Stars\", \"Correlation\": 1.0, \"correlation_label\": \"1.00\"}]}}, {\"padding\": {\"left\": 0, \"right\": 0, \"bottom\": 0, \"top\": 0}, \"mode\": \"vega-lite\"});\n",
       "</script>"
      ],
      "text/plain": [
       "alt.LayerChart(...)"
      ]
     },
     "execution_count": 26,
     "metadata": {},
     "output_type": "execute_result"
    }
   ],
   "source": [
    "cor_data = (plot_df[[\"Food Score\",\"Service Score\",\"Environment Score\",\n",
    "                     \"Variety Score\",\"Drink Score\", \"Sauce Score\", \"Stars\"]]\n",
    "              .corr(method=\"spearman\").stack()\n",
    "              .reset_index()     # The stacking results in an index on the correlation values, we need the index as normal columns for Altair\n",
    "              .rename(columns={0: 'Correlation', 'level_0': 'Variable', 'level_1': 'Variable2'}))\n",
    "cor_data['correlation_label'] = cor_data['Correlation'].map('{:.2f}'.format)  # Round to 2 decimal\n",
    "base = alt.Chart(cor_data,title=\" \").encode(\n",
    "    x=alt.X('Variable:O',axis=alt.Axis(labelAngle=320)),\n",
    "    y='Variable2:O',\n",
    ")\n",
    "\n",
    "# Text layer with correlation labels\n",
    "# Colors are for easier readability\n",
    "text = base.mark_text().encode(\n",
    "    text='correlation_label',\n",
    "    color=alt.condition(\n",
    "        alt.datum.correlation > 0.5, \n",
    "        alt.value('white'),\n",
    "        alt.value('black')\n",
    "    )\n",
    ")\n",
    "\n",
    "# The correlation heatmap itself\n",
    "cor_plot = base.mark_rect().encode(\n",
    "    color='Correlation:Q'\n",
    ")\n",
    "\n",
    "(cor_plot + text).properties(\n",
    "    width=600,\n",
    "    height=400\n",
    ").save('../corr_chart.html')\n",
    "(cor_plot + text).properties(\n",
    "    width=600,\n",
    "    height=400\n",
    ") # The '+' means overlaying the text and rect layer"
   ]
  },
  {
   "cell_type": "code",
   "execution_count": null,
   "id": "cc981c88",
   "metadata": {},
   "outputs": [],
   "source": []
  }
 ],
 "metadata": {
  "kernelspec": {
   "display_name": "Python 3 (ipykernel)",
   "language": "python",
   "name": "python3"
  },
  "language_info": {
   "codemirror_mode": {
    "name": "ipython",
    "version": 3
   },
   "file_extension": ".py",
   "mimetype": "text/x-python",
   "name": "python",
   "nbconvert_exporter": "python",
   "pygments_lexer": "ipython3",
   "version": "3.9.6"
  }
 },
 "nbformat": 4,
 "nbformat_minor": 5
}
